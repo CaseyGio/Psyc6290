{
  "nbformat": 4,
  "nbformat_minor": 0,
  "metadata": {
    "colab": {
      "provenance": [],
      "toc_visible": true
    },
    "kernelspec": {
      "name": "ir",
      "display_name": "R"
    },
    "language_info": {
      "name": "R"
    }
  },
  "cells": [
    {
      "cell_type": "markdown",
      "source": [
        "# Set runtime type to R\n",
        "\n",
        "In the Runtime dropdown, select \"change runtime type,\" and set it to R instead of Python."
      ],
      "metadata": {
        "id": "L5VyHkgogZbh"
      }
    },
    {
      "cell_type": "markdown",
      "source": [
        "# Load packages and data\n",
        "\n",
        "Before we can do any statistics, visualizations, etc., we need to get our tools and data ready!\n",
        "\n",
        "# Q1: Using code, load the dplyr and ggplot2 packages."
      ],
      "metadata": {
        "id": "eNQz8nqYgdOB"
      }
    },
    {
      "cell_type": "code",
      "source": [
        "## Load the dplyr package\n",
        "\n",
        "## Load the ggplot2 package\n"
      ],
      "metadata": {
        "id": "RdQij9xigu-D"
      },
      "execution_count": null,
      "outputs": []
    },
    {
      "cell_type": "markdown",
      "source": [
        "## The warpbreaks dataset\n",
        "\n",
        "In this activity, we will be using the warpbreaks dataset. Warpbreaks includes 54 observations of wool being used to create yarn on a loom.\n",
        "\n",
        "- breaks: Numeric value describing how many breaks in the yarn occurred.\n",
        "\n",
        "- wool: Character (factor) vector specifying the type of wool that was used (A or B).\n",
        "\n",
        "- tension: Character (factor) vector specifying how much tension was applied (L = low, M = medium, H = high)."
      ],
      "metadata": {
        "id": "K7V7tEtcgz8F"
      }
    },
    {
      "cell_type": "code",
      "source": [
        "## Call the warpbreaks dataset in R to see the first few rows\n",
        "head(warpbreaks)"
      ],
      "metadata": {
        "id": "h4uNO8BShsGl"
      },
      "execution_count": null,
      "outputs": []
    },
    {
      "cell_type": "markdown",
      "source": [
        "# Q2: Create a new object using the pipe operator to chain together multiple layers of data wrangling (filter and select):\n",
        "\n",
        "Remember to create a new object (e.g., WarpSubset).\n",
        "\n",
        "- Filter on breaks to only keep rows with breaks >= 18.\n",
        "- Filter on tension to only include values of \"L\" and \"M\".\n",
        "- Select the columns of breaks and tension (i.e., ignore column wool)."
      ],
      "metadata": {
        "id": "kDNSfQE8h0i7"
      }
    },
    {
      "cell_type": "code",
      "source": [
        "## Filter the breaks & tension columns then select only those two columns\n"
      ],
      "metadata": {
        "id": "RgVzW9adiRdB"
      },
      "execution_count": null,
      "outputs": []
    },
    {
      "cell_type": "markdown",
      "source": [
        "# Q3: Overwrite the object created in Q2 above by using the recode function to change the category entries for the tension column.\n",
        "\n",
        "The tension column is already specified to include values of \"L\" \"M\" and \"H\". We want to change them to be \"Low\" \"Medium\" and \"High\", respectively. Do this using the recode function."
      ],
      "metadata": {
        "id": "no2Bw4WMiufE"
      }
    },
    {
      "cell_type": "code",
      "source": [
        "## Recode the category levels of the tension column\n"
      ],
      "metadata": {
        "id": "q9kDZgUnjXMv"
      },
      "execution_count": null,
      "outputs": []
    },
    {
      "cell_type": "markdown",
      "source": [
        "# Q4: Using the object created in #2 above, use the summarize function to determine the mean/average and standard deviation of the number of breaks.\n",
        "\n",
        "Use the summarize function on the filtered dataset created in question #2 above. Specifically, summarize the breaks column to quantify the mean/average and standard deviation."
      ],
      "metadata": {
        "id": "Nj_mRyXUjocR"
      }
    },
    {
      "cell_type": "code",
      "source": [
        "## Summarize the avg and sd number of breaks\n"
      ],
      "metadata": {
        "id": "ptqQtke8kFwj"
      },
      "execution_count": null,
      "outputs": []
    },
    {
      "cell_type": "markdown",
      "source": [
        "# Q5: Using the same object created in Q2 above, use the group_by() function and then the summarize() function to quantify the mean/average and standard deviation of breaks based on the level of tension.\n",
        "\n",
        "In other words, we want to separately calculate the mean/SD number of breaks for each level of tension (Low, Medium, High). This will produce six numbers, a mean & SD for each of the three tension levels (e.g., avg breaks at High tension)."
      ],
      "metadata": {
        "id": "Ac2xyVZ4kf8r"
      }
    },
    {
      "cell_type": "code",
      "source": [
        "## Summarize breaks data after grouping on tension, another categorical variable\n"
      ],
      "metadata": {
        "id": "KDOPSHUOlCRv"
      },
      "execution_count": null,
      "outputs": []
    },
    {
      "cell_type": "markdown",
      "source": [
        "# Q6: Based on the summary table output, which tension level has the highest mean/average number of breaks?\n",
        "\n",
        "Answer here:\n",
        "\n",
        "ANSWER....."
      ],
      "metadata": {
        "id": "s7bwBwoUlR01"
      }
    },
    {
      "cell_type": "markdown",
      "source": [
        "# Q7 (Review): Using the wrangled data object created above, create a boxplot with the following ggplot elements:\n",
        "\n",
        "- Data: The wrangled data object that filtered data and recoded the tension variable.\n",
        "\n",
        "- Aes: Map tension to the x-axis and breaks to the y-axis.\n",
        "\n",
        "- Geom: Use the geom_boxplot() function to create a boxplot"
      ],
      "metadata": {
        "id": "uFQkiDgTleYS"
      }
    },
    {
      "cell_type": "code",
      "source": [
        "## Createa a boxplot of the wrangled warpbreaks data\n"
      ],
      "metadata": {
        "id": "CMQLUdfxl8C7"
      },
      "execution_count": null,
      "outputs": []
    }
  ]
}