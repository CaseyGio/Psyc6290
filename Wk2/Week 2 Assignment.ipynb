{
  "nbformat": 4,
  "nbformat_minor": 0,
  "metadata": {
    "colab": {
      "provenance": []
    },
    "kernelspec": {
      "name": "ir",
      "display_name": "R"
    },
    "language_info": {
      "name": "R"
    }
  },
  "cells": [
    {
      "cell_type": "markdown",
      "source": [
        "# Set runtime type to R\n",
        "\n",
        "In the Runtime dropdown, select \"change runtime type,\" and set it to R instead of Python.\n",
        "\n",
        "# Data for the assignment\n",
        "\n",
        "There are 7 columns, each of which include numeric values except for Dept (department). These are not real data points, they are illustrative of our concepts, however.\n",
        "\n",
        "- **ID**: The employee ID\n",
        "- **Dept**: The department the employee works in (Sales, Marketing, HR, IT, Operations).\n",
        "- **Age**: The age of the employee\n",
        "- **YrsExp**: The amount of experience an employee has, in years\n",
        "- **Salary**: The salary of the employees\n",
        "- **Performance**: The annual performance rating of each employee\n",
        "- **Satisfaction**: The annual satisfaction score each employee rated for that year"
      ],
      "metadata": {
        "id": "oRH8-YfDHhti"
      }
    },
    {
      "cell_type": "code",
      "execution_count": null,
      "metadata": {
        "colab": {
          "base_uri": "https://localhost:8080/",
          "height": 411
        },
        "id": "5-mUPv0VHeJ2",
        "outputId": "bcf40488-0354-43d0-c54f-279ddd1e18c5"
      },
      "outputs": [
        {
          "output_type": "display_data",
          "data": {
            "text/html": [
              "<table class=\"dataframe\">\n",
              "<caption>A data.frame: 10 × 7</caption>\n",
              "<thead>\n",
              "\t<tr><th scope=col>ID</th><th scope=col>Dept</th><th scope=col>Age</th><th scope=col>YrsExp</th><th scope=col>Salary</th><th scope=col>Performance</th><th scope=col>Satisfaction</th></tr>\n",
              "\t<tr><th scope=col>&lt;int&gt;</th><th scope=col>&lt;chr&gt;</th><th scope=col>&lt;dbl&gt;</th><th scope=col>&lt;dbl&gt;</th><th scope=col>&lt;dbl&gt;</th><th scope=col>&lt;dbl&gt;</th><th scope=col>&lt;dbl&gt;</th></tr>\n",
              "</thead>\n",
              "<tbody>\n",
              "\t<tr><td> 1</td><td>Sales     </td><td>28</td><td> 3</td><td>45000</td><td>4</td><td>8</td></tr>\n",
              "\t<tr><td> 2</td><td>Marketing </td><td>35</td><td>10</td><td>60000</td><td>3</td><td>7</td></tr>\n",
              "\t<tr><td> 3</td><td>HR        </td><td>40</td><td>15</td><td>70000</td><td>5</td><td>9</td></tr>\n",
              "\t<tr><td> 4</td><td>IT        </td><td>30</td><td> 5</td><td>75000</td><td>4</td><td>6</td></tr>\n",
              "\t<tr><td> 5</td><td>Operations</td><td>50</td><td>25</td><td>90000</td><td>4</td><td>8</td></tr>\n",
              "\t<tr><td> 6</td><td>Sales     </td><td>25</td><td> 2</td><td>40000</td><td>3</td><td>7</td></tr>\n",
              "\t<tr><td> 7</td><td>Marketing </td><td>45</td><td>20</td><td>85000</td><td>5</td><td>8</td></tr>\n",
              "\t<tr><td> 8</td><td>HR        </td><td>29</td><td> 4</td><td>50000</td><td>4</td><td>9</td></tr>\n",
              "\t<tr><td> 9</td><td>IT        </td><td>38</td><td>12</td><td>80000</td><td>3</td><td>5</td></tr>\n",
              "\t<tr><td>10</td><td>Operations</td><td>33</td><td> 8</td><td>65000</td><td>4</td><td>7</td></tr>\n",
              "</tbody>\n",
              "</table>\n"
            ],
            "text/markdown": "\nA data.frame: 10 × 7\n\n| ID &lt;int&gt; | Dept &lt;chr&gt; | Age &lt;dbl&gt; | YrsExp &lt;dbl&gt; | Salary &lt;dbl&gt; | Performance &lt;dbl&gt; | Satisfaction &lt;dbl&gt; |\n|---|---|---|---|---|---|---|\n|  1 | Sales      | 28 |  3 | 45000 | 4 | 8 |\n|  2 | Marketing  | 35 | 10 | 60000 | 3 | 7 |\n|  3 | HR         | 40 | 15 | 70000 | 5 | 9 |\n|  4 | IT         | 30 |  5 | 75000 | 4 | 6 |\n|  5 | Operations | 50 | 25 | 90000 | 4 | 8 |\n|  6 | Sales      | 25 |  2 | 40000 | 3 | 7 |\n|  7 | Marketing  | 45 | 20 | 85000 | 5 | 8 |\n|  8 | HR         | 29 |  4 | 50000 | 4 | 9 |\n|  9 | IT         | 38 | 12 | 80000 | 3 | 5 |\n| 10 | Operations | 33 |  8 | 65000 | 4 | 7 |\n\n",
            "text/latex": "A data.frame: 10 × 7\n\\begin{tabular}{lllllll}\n ID & Dept & Age & YrsExp & Salary & Performance & Satisfaction\\\\\n <int> & <chr> & <dbl> & <dbl> & <dbl> & <dbl> & <dbl>\\\\\n\\hline\n\t  1 & Sales      & 28 &  3 & 45000 & 4 & 8\\\\\n\t  2 & Marketing  & 35 & 10 & 60000 & 3 & 7\\\\\n\t  3 & HR         & 40 & 15 & 70000 & 5 & 9\\\\\n\t  4 & IT         & 30 &  5 & 75000 & 4 & 6\\\\\n\t  5 & Operations & 50 & 25 & 90000 & 4 & 8\\\\\n\t  6 & Sales      & 25 &  2 & 40000 & 3 & 7\\\\\n\t  7 & Marketing  & 45 & 20 & 85000 & 5 & 8\\\\\n\t  8 & HR         & 29 &  4 & 50000 & 4 & 9\\\\\n\t  9 & IT         & 38 & 12 & 80000 & 3 & 5\\\\\n\t 10 & Operations & 33 &  8 & 65000 & 4 & 7\\\\\n\\end{tabular}\n",
            "text/plain": [
              "   ID Dept       Age YrsExp Salary Performance Satisfaction\n",
              "1   1 Sales      28   3     45000  4           8           \n",
              "2   2 Marketing  35  10     60000  3           7           \n",
              "3   3 HR         40  15     70000  5           9           \n",
              "4   4 IT         30   5     75000  4           6           \n",
              "5   5 Operations 50  25     90000  4           8           \n",
              "6   6 Sales      25   2     40000  3           7           \n",
              "7   7 Marketing  45  20     85000  5           8           \n",
              "8   8 HR         29   4     50000  4           9           \n",
              "9   9 IT         38  12     80000  3           5           \n",
              "10 10 Operations 33   8     65000  4           7           "
            ]
          },
          "metadata": {}
        }
      ],
      "source": [
        "## Create dataset to use for the assignment\n",
        "Employee <- data.frame(\n",
        "  ID = 1:10,\n",
        "  Dept = c(\"Sales\", \"Marketing\", \"HR\", \"IT\", \"Operations\",\n",
        "                 \"Sales\", \"Marketing\", \"HR\", \"IT\", \"Operations\"),\n",
        "  Age = c(28, 35, 40, 30, 50, 25, 45, 29, 38, 33),\n",
        "  YrsExp = c(3, 10, 15, 5, 25, 2, 20, 4, 12, 8),\n",
        "  Salary = c(45000, 60000, 70000, 75000, 90000, 40000, 85000, 50000, 80000, 65000),\n",
        "  Performance = c(4, 3, 5, 4, 4, 3, 5, 4, 3, 4),\n",
        "  Satisfaction = c(8, 7, 9, 6, 8, 7, 8, 9, 5, 7)\n",
        ")\n",
        "\n",
        "## Return the dataset to show what it looks like\n",
        "Employee"
      ]
    },
    {
      "cell_type": "markdown",
      "source": [
        "# Homework exercises\n",
        "\n",
        "## Q1: In one line of code, load the ggplot2 package.\n",
        "\n",
        "In the code chunk below, load the ggplot2 package into our environment."
      ],
      "metadata": {
        "id": "eW7UT7MlJfgN"
      }
    },
    {
      "cell_type": "code",
      "source": [
        "## Load the ggplot2 package\n"
      ],
      "metadata": {
        "id": "MmApAEV2JuVL"
      },
      "execution_count": null,
      "outputs": []
    },
    {
      "cell_type": "markdown",
      "source": [
        "## Q2: Create a boxplot using the 3 main elements of the Grammar of Graphics (ggplot):\n",
        "\n",
        "- Data: Use the \"Employee\" data object (remember, case-sensitive)\n",
        "\n",
        "- Aes (Aesthetics): Place \"Dept\" as the x-axis and \"Salary\" as the y-axis variables.\n",
        "\n",
        "- Geom (Geometric object): Use the geom_boxplot() function to create a boxplot."
      ],
      "metadata": {
        "id": "mptX3pn5J2lE"
      }
    },
    {
      "cell_type": "code",
      "source": [
        "## Create boxplot of dept (x) by salary (y)\n",
        "\n"
      ],
      "metadata": {
        "colab": {
          "base_uri": "https://localhost:8080/",
          "height": 437
        },
        "id": "xyiEvgJIKimz",
        "outputId": "57134ed9-deb6-4d73-b344-70b3898b581f"
      },
      "execution_count": null,
      "outputs": [
        {
          "output_type": "display_data",
          "data": {
            "text/plain": [
              "plot without title"
            ],
            "image/png": "[encoded data removed]"
          },
          "metadata": {
            "image/png": {
              "width": 420,
              "height": 420
            }
          }
        }
      ]
    },
    {
      "cell_type": "markdown",
      "source": [
        "# Q3: According to the data visualization, which department has the lowest average salary?\n",
        "\n",
        "Type your answer here:\n",
        "# ANSWER...."
      ],
      "metadata": {
        "id": "mfTha2a2Knfe"
      }
    },
    {
      "cell_type": "markdown",
      "source": [
        "# Q4: Create a bar plot using the 3 main elements of ggplot:\n",
        "- Data: Use the \"Employee\" data object\n",
        "- Aes: Place \"Dept\" on the x-axis\n",
        "- Geom: Use the geom_bar() function to create a bar plot."
      ],
      "metadata": {
        "id": "Jff4EazBLLHo"
      }
    },
    {
      "cell_type": "code",
      "source": [
        "## Create bar plot of dept (x) by satisfaction (y)\n"
      ],
      "metadata": {
        "colab": {
          "base_uri": "https://localhost:8080/",
          "height": 437
        },
        "id": "UZ8NJ7aYLyZs",
        "outputId": "db38b29d-7dcf-4a01-ffd4-834f505f79d5"
      },
      "execution_count": null,
      "outputs": [
        {
          "output_type": "display_data",
          "data": {
            "text/plain": [
              "plot without title"
            ],
            "image/png": "[encoded data removed]"
          },
          "metadata": {
            "image/png": {
              "width": 420,
              "height": 420
            }
          }
        }
      ]
    },
    {
      "cell_type": "markdown",
      "source": [
        "## Q5: According to the bar plot, which department has the most people (if any)?\n",
        "\n",
        "Type your answer here:\n",
        "\n",
        "ANSWER...."
      ],
      "metadata": {
        "id": "_1v9_12fMOFW"
      }
    },
    {
      "cell_type": "markdown",
      "source": [
        "# Q6: Create a scatterplot using the 3 main ggplot elements:\n",
        "- Data: Employee data object\n",
        "- Aes: Place YrsExp as the x-axis and Salary as the y-axis\n",
        "- Geom: Use the geom_point() function to create a scatterplot"
      ],
      "metadata": {
        "id": "Ah3hman3MWju"
      }
    },
    {
      "cell_type": "code",
      "source": [
        "## Create a scatterplot of YrsExp by Salar\n"
      ],
      "metadata": {
        "colab": {
          "base_uri": "https://localhost:8080/",
          "height": 437
        },
        "id": "M5iD0_ZtMu6W",
        "outputId": "10887b58-4ecf-41e6-f974-ce7a38d4c5b0"
      },
      "execution_count": null,
      "outputs": [
        {
          "output_type": "display_data",
          "data": {
            "text/plain": [
              "plot without title"
            ],
            "image/png": "[encoded data removed]"
          },
          "metadata": {
            "image/png": {
              "width": 420,
              "height": 420
            }
          }
        }
      ]
    },
    {
      "cell_type": "markdown",
      "source": [
        "# Q7: Based on the scatterplot visualization, what is the relationship (if any) between years of experience and salary?\n",
        "\n",
        "Type your answer here:\n",
        "\n",
        "ANSWER...."
      ],
      "metadata": {
        "id": "4p1x09FsM8mG"
      }
    },
    {
      "cell_type": "markdown",
      "source": [
        "# END OF ASSIGNMENT\n",
        "\n",
        "Remaining steps:\n",
        "\n",
        "1) Check your work. Does your code show the correct output? Are there errors? Did you answer the text-based questions?\n",
        "\n",
        "2) Save your work: Save the file as the .ipynb filetype.\n",
        "\n",
        "3) Save the assignment file to include your name and module/week number (e.g., CaseyWk1.ipynb or Wk1Giordano.ipynb would be acceptable file names).\n",
        "\n",
        "4) Upload your file to Canvas."
      ],
      "metadata": {
        "id": "usB-ypxUNI_0"
      }
    }
  ]
}
