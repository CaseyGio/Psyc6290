{
  "nbformat": 4,
  "nbformat_minor": 0,
  "metadata": {
    "colab": {
      "provenance": [],
      "toc_visible": true
    },
    "kernelspec": {
      "name": "ir",
      "display_name": "R"
    },
    "language_info": {
      "name": "R"
    }
  },
  "cells": [
    {
      "cell_type": "markdown",
      "source": [
        "# Change runtime type to R\n",
        "\n",
        "Remember, the first step when opening a Google Colab notebook is to change the runtime type to R from Python. Our code will not work otherwise!"
      ],
      "metadata": {
        "id": "o9dslciAU-FB"
      }
    },
    {
      "cell_type": "markdown",
      "source": [
        "# Load the packages and data into R\n",
        "\n",
        "At the beginning of any R project and before anything can really begin, we have two steps:\n",
        "\n",
        "1) Load the packages that we will use.\n",
        "\n",
        "2) Load the data in R (if it isn't already loaded into the system).\n",
        "\n",
        "It helps keep the \"work space\" clean to load all the packages up front so that you know where they are loaded and can easily see which packages are required.\n",
        "\n",
        "For now, the data we will use is located in R or in some packages. We will learn how to load external data into R at a later date."
      ],
      "metadata": {
        "id": "0fBdM1XFVEvF"
      }
    },
    {
      "cell_type": "code",
      "source": [
        "## Load package(s)\n",
        "library(dplyr) ## This package is used for data wrangling\n",
        "library(readr) ## This is used to load our data"
      ],
      "metadata": {
        "id": "BW3_nG5qVH2B"
      },
      "execution_count": 2,
      "outputs": []
    },
    {
      "cell_type": "markdown",
      "source": [
        "I am going to pull a dataset from my person GitHub page. You will not need to know how to accomplish this **but you will need to run the code to successfully pull the data into R**."
      ],
      "metadata": {
        "id": "p25ctNONYx-6"
      }
    },
    {
      "cell_type": "code",
      "source": [
        "## GitHub URL for GenderPay.csv dataset\n",
        "urlfile <- \"https://raw.githubusercontent.com/CaseyGio/Psyc6290/refs/heads/main/GenderPay.csv\"\n",
        "\n",
        "## Load the dataset from the GitHub repository\n",
        "GenderPay <- read_csv(url(urlfile))\n",
        "\n",
        "## See if the data loaded\n",
        "head(GenderPay)"
      ],
      "metadata": {
        "colab": {
          "base_uri": "https://localhost:8080/",
          "height": 459
        },
        "id": "svzDGo7MY7Wy",
        "outputId": "d9442cb9-5ce2-4450-cbe3-ce3da5103884"
      },
      "execution_count": 5,
      "outputs": [
        {
          "output_type": "stream",
          "name": "stderr",
          "text": [
            "\u001b[1m\u001b[22mNew names:\n",
            "\u001b[36m•\u001b[39m `` -> `...1`\n",
            "\u001b[1mRows: \u001b[22m\u001b[34m1000\u001b[39m \u001b[1mColumns: \u001b[22m\u001b[34m10\u001b[39m\n",
            "\u001b[36m──\u001b[39m \u001b[1mColumn specification\u001b[22m \u001b[36m────────────────────────────────────────────────────────\u001b[39m\n",
            "\u001b[1mDelimiter:\u001b[22m \",\"\n",
            "\u001b[31mchr\u001b[39m (4): jobTitle, gender, edu, dept\n",
            "\u001b[32mdbl\u001b[39m (6): ...1, age, perfEval, seniority, basePay, bonus\n",
            "\n",
            "\u001b[36mℹ\u001b[39m Use `spec()` to retrieve the full column specification for this data.\n",
            "\u001b[36mℹ\u001b[39m Specify the column types or set `show_col_types = FALSE` to quiet this message.\n"
          ]
        },
        {
          "output_type": "display_data",
          "data": {
            "text/html": [
              "<table class=\"dataframe\">\n",
              "<caption>A tibble: 6 × 10</caption>\n",
              "<thead>\n",
              "\t<tr><th scope=col>...1</th><th scope=col>jobTitle</th><th scope=col>gender</th><th scope=col>age</th><th scope=col>perfEval</th><th scope=col>edu</th><th scope=col>dept</th><th scope=col>seniority</th><th scope=col>basePay</th><th scope=col>bonus</th></tr>\n",
              "\t<tr><th scope=col>&lt;dbl&gt;</th><th scope=col>&lt;chr&gt;</th><th scope=col>&lt;chr&gt;</th><th scope=col>&lt;dbl&gt;</th><th scope=col>&lt;dbl&gt;</th><th scope=col>&lt;chr&gt;</th><th scope=col>&lt;chr&gt;</th><th scope=col>&lt;dbl&gt;</th><th scope=col>&lt;dbl&gt;</th><th scope=col>&lt;dbl&gt;</th></tr>\n",
              "</thead>\n",
              "<tbody>\n",
              "\t<tr><td>1</td><td>Graphic Designer   </td><td>Female</td><td>18</td><td>5</td><td>College</td><td>Operations    </td><td>2</td><td> 42363</td><td> 9938</td></tr>\n",
              "\t<tr><td>2</td><td>Software Engineer  </td><td>Male  </td><td>21</td><td>5</td><td>College</td><td>Management    </td><td>5</td><td>108476</td><td>11128</td></tr>\n",
              "\t<tr><td>3</td><td>Warehouse Associate</td><td>Female</td><td>19</td><td>4</td><td>PhD    </td><td>Administration</td><td>5</td><td> 90208</td><td> 9268</td></tr>\n",
              "\t<tr><td>4</td><td>Software Engineer  </td><td>Male  </td><td>20</td><td>5</td><td>Masters</td><td>Sales         </td><td>4</td><td>108080</td><td>10154</td></tr>\n",
              "\t<tr><td>5</td><td>Graphic Designer   </td><td>Male  </td><td>26</td><td>5</td><td>Masters</td><td>Engineering   </td><td>5</td><td> 99464</td><td> 9319</td></tr>\n",
              "\t<tr><td>6</td><td>IT                 </td><td>Female</td><td>20</td><td>5</td><td>PhD    </td><td>Operations    </td><td>4</td><td> 70890</td><td>10126</td></tr>\n",
              "</tbody>\n",
              "</table>\n"
            ],
            "text/markdown": "\nA tibble: 6 × 10\n\n| ...1 &lt;dbl&gt; | jobTitle &lt;chr&gt; | gender &lt;chr&gt; | age &lt;dbl&gt; | perfEval &lt;dbl&gt; | edu &lt;chr&gt; | dept &lt;chr&gt; | seniority &lt;dbl&gt; | basePay &lt;dbl&gt; | bonus &lt;dbl&gt; |\n|---|---|---|---|---|---|---|---|---|---|\n| 1 | Graphic Designer    | Female | 18 | 5 | College | Operations     | 2 |  42363 |  9938 |\n| 2 | Software Engineer   | Male   | 21 | 5 | College | Management     | 5 | 108476 | 11128 |\n| 3 | Warehouse Associate | Female | 19 | 4 | PhD     | Administration | 5 |  90208 |  9268 |\n| 4 | Software Engineer   | Male   | 20 | 5 | Masters | Sales          | 4 | 108080 | 10154 |\n| 5 | Graphic Designer    | Male   | 26 | 5 | Masters | Engineering    | 5 |  99464 |  9319 |\n| 6 | IT                  | Female | 20 | 5 | PhD     | Operations     | 4 |  70890 | 10126 |\n\n",
            "text/latex": "A tibble: 6 × 10\n\\begin{tabular}{llllllllll}\n ...1 & jobTitle & gender & age & perfEval & edu & dept & seniority & basePay & bonus\\\\\n <dbl> & <chr> & <chr> & <dbl> & <dbl> & <chr> & <chr> & <dbl> & <dbl> & <dbl>\\\\\n\\hline\n\t 1 & Graphic Designer    & Female & 18 & 5 & College & Operations     & 2 &  42363 &  9938\\\\\n\t 2 & Software Engineer   & Male   & 21 & 5 & College & Management     & 5 & 108476 & 11128\\\\\n\t 3 & Warehouse Associate & Female & 19 & 4 & PhD     & Administration & 5 &  90208 &  9268\\\\\n\t 4 & Software Engineer   & Male   & 20 & 5 & Masters & Sales          & 4 & 108080 & 10154\\\\\n\t 5 & Graphic Designer    & Male   & 26 & 5 & Masters & Engineering    & 5 &  99464 &  9319\\\\\n\t 6 & IT                  & Female & 20 & 5 & PhD     & Operations     & 4 &  70890 & 10126\\\\\n\\end{tabular}\n",
            "text/plain": [
              "  ...1 jobTitle            gender age perfEval edu     dept           seniority\n",
              "1 1    Graphic Designer    Female 18  5        College Operations     2        \n",
              "2 2    Software Engineer   Male   21  5        College Management     5        \n",
              "3 3    Warehouse Associate Female 19  4        PhD     Administration 5        \n",
              "4 4    Software Engineer   Male   20  5        Masters Sales          4        \n",
              "5 5    Graphic Designer    Male   26  5        Masters Engineering    5        \n",
              "6 6    IT                  Female 20  5        PhD     Operations     4        \n",
              "  basePay bonus\n",
              "1  42363   9938\n",
              "2 108476  11128\n",
              "3  90208   9268\n",
              "4 108080  10154\n",
              "5  99464   9319\n",
              "6  70890  10126"
            ]
          },
          "metadata": {}
        }
      ]
    },
    {
      "cell_type": "markdown",
      "source": [
        "# The pipe operator: %>%\n",
        "\n",
        "Windows keyboard shortcut: ctrl + shift + m\n",
        "\n",
        "A tool that is very commonly used in R to create *readable* code is the pipe operator: %>%. Without the pipe operator, functions are nested within each other and read from the middle out (yikes!). The pipe operator allows us to chain functions together that are sequentially executed.\n",
        "\n",
        "The pipe operator works as follows: Using the output from line 1, do something in line 2. From the output in line 2, do something in line 3, etc. It *pipes* the output from one line to be the input for the next line of code.\n",
        "\n",
        "Consider a simple example below:\n",
        "\n",
        "In the first line of code, we generate 20 random numbers with a mean and SD of 0 and 1, respectively.\n",
        "\n",
        "Then we apply two functions, round these values to 2 digits and sum them. Both answers are doing exactly the same thing."
      ],
      "metadata": {
        "id": "n_J97rZvaKM1"
      }
    },
    {
      "cell_type": "code",
      "source": [
        "## Generate 20 random numbers from a normal distribution\n",
        "x <- rnorm(n = 20, mean = 0, sd = 1)\n",
        "\n",
        "## See what the vector that we created looks like\n",
        "x\n",
        "\n",
        "## Round using the pipe operator\n",
        "x %>%\n",
        "  round(digits = 2) %>%\n",
        "  sum()\n",
        "\n",
        "## Round using the traditional way\n",
        "sum(round(x, digits = 2))"
      ],
      "metadata": {
        "id": "3mhugNhvaMge"
      },
      "execution_count": null,
      "outputs": []
    },
    {
      "cell_type": "markdown",
      "source": [
        "## Pipe operator notes\n",
        "\n",
        "A couple things to note about the pipe operator:\n",
        "\n",
        "1) The code I ran above *does not save the final output to an object*. By default, the pipe operator just carries out functions. If you want to save the results for later use, **use the assignment operator to create an object**."
      ],
      "metadata": {
        "id": "P-Zq46P1adXw"
      }
    },
    {
      "cell_type": "code",
      "source": [
        "## Create an object, named XSum, to store the results\n",
        "XSum <-\n",
        "  x %>%\n",
        "  round(digits = 2) %>%\n",
        "  sum()\n",
        "\n",
        "## Return the output\n",
        "XSum"
      ],
      "metadata": {
        "id": "zVLyF3XQafUf"
      },
      "execution_count": null,
      "outputs": []
    },
    {
      "cell_type": "markdown",
      "source": [
        "2) The pipe operator takes the output from the previous line of code and inserts it as the first argument of the next line of code. Notice how in the round() function, we did not specify which data to round? R interprets the pipe operator as the data that we want to round because the data argument is the first argument.  "
      ],
      "metadata": {
        "id": "75DZitncajIO"
      }
    },
    {
      "cell_type": "markdown",
      "source": [
        "# Data Wrangling\n",
        "\n",
        "Most of the time, data are not in a format that we want them to be. We must take steps to get the data into a format that we can actually analyze. This process is known as data wrangling or data cleaning. Just like ggplot2 is the primary and most powerful data visualization package, dplyr is the primary and most powerful data wrangling package.\n",
        "\n",
        "Major elements to data wrangling\n",
        "\n",
        "a) Filter out specific rows\n",
        "\n",
        "b) Select specific columns\n",
        "\n",
        "c) Summarize data with descriptive statistics\n",
        "\n",
        "d) Cross tabulate data with group_by\n",
        "\n",
        "e) Mutate data to create new variables\n",
        "\n",
        "f) Arrange/sort the data (e.g., alphabetical, decreasing numbers)\n",
        "\n",
        "g) Joining data objects together based on a key variable (e.g., person ID)"
      ],
      "metadata": {
        "id": "bJ0BSVsMalbs"
      }
    },
    {
      "cell_type": "markdown",
      "source": [
        "## Filter rows\n",
        "\n",
        "Let's explore the dataset GenderPay. This dataset includes categorical variables (e.g., gender, education, department) and continuous variables (e.g., age, basePay, bonus).\n",
        "\n",
        "- JobTitle: Character vector of job titles (Graphic Designer, Software Engineer, Warehouse Associate, IT, Sales Associate, Driver, Financial Analyst, Marketing Associate, Data Scientist, Manager).\n",
        "\n",
        "- gender: Character vector with two categories (Female, Male).\n",
        "\n",
        "- age: Numeric vector of employee ages.\n",
        "\n",
        "- perfEval: Numeric integer value for annual performance evaluation scores.\n",
        "\n",
        "- edu: Character vector of education levels (College, PhD, Masters, High School).\n",
        "\n",
        "- dept: Character vector of department titles for each employee (Operations, Management, Administration, Sales, Engineering).\n",
        "\n",
        "- seniority: Integer values that actually represent categories (1, 2, 3, 4, 5).\n",
        "\n",
        "- basePay: Numeric value for the base pay for each person.\n",
        "\n",
        "- bonus: Numeric value for the added bonus pay for each person."
      ],
      "metadata": {
        "id": "Wo2hpAjIaoSS"
      }
    },
    {
      "cell_type": "code",
      "source": [
        "## See the first few rows/columns of the dataset\n",
        "head(GenderPay)"
      ],
      "metadata": {
        "colab": {
          "base_uri": "https://localhost:8080/",
          "height": 286
        },
        "id": "dCI4mJkmaqQf",
        "outputId": "6108aaec-cc7c-431e-9f19-c41707f262f5"
      },
      "execution_count": 8,
      "outputs": [
        {
          "output_type": "display_data",
          "data": {
            "text/html": [
              "<table class=\"dataframe\">\n",
              "<caption>A tibble: 6 × 10</caption>\n",
              "<thead>\n",
              "\t<tr><th scope=col>...1</th><th scope=col>jobTitle</th><th scope=col>gender</th><th scope=col>age</th><th scope=col>perfEval</th><th scope=col>edu</th><th scope=col>dept</th><th scope=col>seniority</th><th scope=col>basePay</th><th scope=col>bonus</th></tr>\n",
              "\t<tr><th scope=col>&lt;dbl&gt;</th><th scope=col>&lt;chr&gt;</th><th scope=col>&lt;chr&gt;</th><th scope=col>&lt;dbl&gt;</th><th scope=col>&lt;dbl&gt;</th><th scope=col>&lt;chr&gt;</th><th scope=col>&lt;chr&gt;</th><th scope=col>&lt;dbl&gt;</th><th scope=col>&lt;dbl&gt;</th><th scope=col>&lt;dbl&gt;</th></tr>\n",
              "</thead>\n",
              "<tbody>\n",
              "\t<tr><td>1</td><td>Graphic Designer   </td><td>Female</td><td>18</td><td>5</td><td>College</td><td>Operations    </td><td>2</td><td> 42363</td><td> 9938</td></tr>\n",
              "\t<tr><td>2</td><td>Software Engineer  </td><td>Male  </td><td>21</td><td>5</td><td>College</td><td>Management    </td><td>5</td><td>108476</td><td>11128</td></tr>\n",
              "\t<tr><td>3</td><td>Warehouse Associate</td><td>Female</td><td>19</td><td>4</td><td>PhD    </td><td>Administration</td><td>5</td><td> 90208</td><td> 9268</td></tr>\n",
              "\t<tr><td>4</td><td>Software Engineer  </td><td>Male  </td><td>20</td><td>5</td><td>Masters</td><td>Sales         </td><td>4</td><td>108080</td><td>10154</td></tr>\n",
              "\t<tr><td>5</td><td>Graphic Designer   </td><td>Male  </td><td>26</td><td>5</td><td>Masters</td><td>Engineering   </td><td>5</td><td> 99464</td><td> 9319</td></tr>\n",
              "\t<tr><td>6</td><td>IT                 </td><td>Female</td><td>20</td><td>5</td><td>PhD    </td><td>Operations    </td><td>4</td><td> 70890</td><td>10126</td></tr>\n",
              "</tbody>\n",
              "</table>\n"
            ],
            "text/markdown": "\nA tibble: 6 × 10\n\n| ...1 &lt;dbl&gt; | jobTitle &lt;chr&gt; | gender &lt;chr&gt; | age &lt;dbl&gt; | perfEval &lt;dbl&gt; | edu &lt;chr&gt; | dept &lt;chr&gt; | seniority &lt;dbl&gt; | basePay &lt;dbl&gt; | bonus &lt;dbl&gt; |\n|---|---|---|---|---|---|---|---|---|---|\n| 1 | Graphic Designer    | Female | 18 | 5 | College | Operations     | 2 |  42363 |  9938 |\n| 2 | Software Engineer   | Male   | 21 | 5 | College | Management     | 5 | 108476 | 11128 |\n| 3 | Warehouse Associate | Female | 19 | 4 | PhD     | Administration | 5 |  90208 |  9268 |\n| 4 | Software Engineer   | Male   | 20 | 5 | Masters | Sales          | 4 | 108080 | 10154 |\n| 5 | Graphic Designer    | Male   | 26 | 5 | Masters | Engineering    | 5 |  99464 |  9319 |\n| 6 | IT                  | Female | 20 | 5 | PhD     | Operations     | 4 |  70890 | 10126 |\n\n",
            "text/latex": "A tibble: 6 × 10\n\\begin{tabular}{llllllllll}\n ...1 & jobTitle & gender & age & perfEval & edu & dept & seniority & basePay & bonus\\\\\n <dbl> & <chr> & <chr> & <dbl> & <dbl> & <chr> & <chr> & <dbl> & <dbl> & <dbl>\\\\\n\\hline\n\t 1 & Graphic Designer    & Female & 18 & 5 & College & Operations     & 2 &  42363 &  9938\\\\\n\t 2 & Software Engineer   & Male   & 21 & 5 & College & Management     & 5 & 108476 & 11128\\\\\n\t 3 & Warehouse Associate & Female & 19 & 4 & PhD     & Administration & 5 &  90208 &  9268\\\\\n\t 4 & Software Engineer   & Male   & 20 & 5 & Masters & Sales          & 4 & 108080 & 10154\\\\\n\t 5 & Graphic Designer    & Male   & 26 & 5 & Masters & Engineering    & 5 &  99464 &  9319\\\\\n\t 6 & IT                  & Female & 20 & 5 & PhD     & Operations     & 4 &  70890 & 10126\\\\\n\\end{tabular}\n",
            "text/plain": [
              "  ...1 jobTitle            gender age perfEval edu     dept           seniority\n",
              "1 1    Graphic Designer    Female 18  5        College Operations     2        \n",
              "2 2    Software Engineer   Male   21  5        College Management     5        \n",
              "3 3    Warehouse Associate Female 19  4        PhD     Administration 5        \n",
              "4 4    Software Engineer   Male   20  5        Masters Sales          4        \n",
              "5 5    Graphic Designer    Male   26  5        Masters Engineering    5        \n",
              "6 6    IT                  Female 20  5        PhD     Operations     4        \n",
              "  basePay bonus\n",
              "1  42363   9938\n",
              "2 108476  11128\n",
              "3  90208   9268\n",
              "4 108080  10154\n",
              "5  99464   9319\n",
              "6  70890  10126"
            ]
          },
          "metadata": {}
        }
      ]
    },
    {
      "cell_type": "markdown",
      "source": [
        "What if we wanted to see only the data for people with a Master's degree? We *filter* out the rows we don't want to only include the rows we do want."
      ],
      "metadata": {
        "id": "ruA2se1Pb7A4"
      }
    },
    {
      "cell_type": "code",
      "source": [
        "## Filter GenderPay to only show people with Master's degree\n",
        "GenderPay %>%\n",
        "  filter(edu == \"Masters\") %>%\n",
        "  head()\n",
        "\n",
        "## Note that we did not \"save\" the filtered version as an object"
      ],
      "metadata": {
        "colab": {
          "base_uri": "https://localhost:8080/",
          "height": 555
        },
        "id": "bXCXFAGDb_n4",
        "outputId": "5d1e8bd4-ae62-4662-e783-b80495ae950e"
      },
      "execution_count": 9,
      "outputs": [
        {
          "output_type": "display_data",
          "data": {
            "text/html": [
              "<table class=\"dataframe\">\n",
              "<caption>A tibble: 6 × 10</caption>\n",
              "<thead>\n",
              "\t<tr><th scope=col>...1</th><th scope=col>jobTitle</th><th scope=col>gender</th><th scope=col>age</th><th scope=col>perfEval</th><th scope=col>edu</th><th scope=col>dept</th><th scope=col>seniority</th><th scope=col>basePay</th><th scope=col>bonus</th></tr>\n",
              "\t<tr><th scope=col>&lt;dbl&gt;</th><th scope=col>&lt;chr&gt;</th><th scope=col>&lt;chr&gt;</th><th scope=col>&lt;dbl&gt;</th><th scope=col>&lt;dbl&gt;</th><th scope=col>&lt;chr&gt;</th><th scope=col>&lt;chr&gt;</th><th scope=col>&lt;dbl&gt;</th><th scope=col>&lt;dbl&gt;</th><th scope=col>&lt;dbl&gt;</th></tr>\n",
              "</thead>\n",
              "<tbody>\n",
              "\t<tr><td> 4</td><td>Software Engineer  </td><td>Male  </td><td>20</td><td>5</td><td>Masters</td><td>Sales         </td><td>4</td><td>108080</td><td>10154</td></tr>\n",
              "\t<tr><td> 5</td><td>Graphic Designer   </td><td>Male  </td><td>26</td><td>5</td><td>Masters</td><td>Engineering   </td><td>5</td><td> 99464</td><td> 9319</td></tr>\n",
              "\t<tr><td>14</td><td>Warehouse Associate</td><td>Female</td><td>30</td><td>5</td><td>Masters</td><td>Administration</td><td>5</td><td> 86220</td><td> 9583</td></tr>\n",
              "\t<tr><td>27</td><td>Software Engineer  </td><td>Male  </td><td>19</td><td>5</td><td>Masters</td><td>Administration</td><td>4</td><td>100305</td><td> 9618</td></tr>\n",
              "\t<tr><td>31</td><td>Software Engineer  </td><td>Male  </td><td>20</td><td>5</td><td>Masters</td><td>Management    </td><td>2</td><td> 66359</td><td>10137</td></tr>\n",
              "\t<tr><td>32</td><td>Sales Associate    </td><td>Male  </td><td>35</td><td>5</td><td>Masters</td><td>Management    </td><td>5</td><td>103007</td><td>10512</td></tr>\n",
              "</tbody>\n",
              "</table>\n"
            ],
            "text/markdown": "\nA tibble: 6 × 10\n\n| ...1 &lt;dbl&gt; | jobTitle &lt;chr&gt; | gender &lt;chr&gt; | age &lt;dbl&gt; | perfEval &lt;dbl&gt; | edu &lt;chr&gt; | dept &lt;chr&gt; | seniority &lt;dbl&gt; | basePay &lt;dbl&gt; | bonus &lt;dbl&gt; |\n|---|---|---|---|---|---|---|---|---|---|\n|  4 | Software Engineer   | Male   | 20 | 5 | Masters | Sales          | 4 | 108080 | 10154 |\n|  5 | Graphic Designer    | Male   | 26 | 5 | Masters | Engineering    | 5 |  99464 |  9319 |\n| 14 | Warehouse Associate | Female | 30 | 5 | Masters | Administration | 5 |  86220 |  9583 |\n| 27 | Software Engineer   | Male   | 19 | 5 | Masters | Administration | 4 | 100305 |  9618 |\n| 31 | Software Engineer   | Male   | 20 | 5 | Masters | Management     | 2 |  66359 | 10137 |\n| 32 | Sales Associate     | Male   | 35 | 5 | Masters | Management     | 5 | 103007 | 10512 |\n\n",
            "text/latex": "A tibble: 6 × 10\n\\begin{tabular}{llllllllll}\n ...1 & jobTitle & gender & age & perfEval & edu & dept & seniority & basePay & bonus\\\\\n <dbl> & <chr> & <chr> & <dbl> & <dbl> & <chr> & <chr> & <dbl> & <dbl> & <dbl>\\\\\n\\hline\n\t  4 & Software Engineer   & Male   & 20 & 5 & Masters & Sales          & 4 & 108080 & 10154\\\\\n\t  5 & Graphic Designer    & Male   & 26 & 5 & Masters & Engineering    & 5 &  99464 &  9319\\\\\n\t 14 & Warehouse Associate & Female & 30 & 5 & Masters & Administration & 5 &  86220 &  9583\\\\\n\t 27 & Software Engineer   & Male   & 19 & 5 & Masters & Administration & 4 & 100305 &  9618\\\\\n\t 31 & Software Engineer   & Male   & 20 & 5 & Masters & Management     & 2 &  66359 & 10137\\\\\n\t 32 & Sales Associate     & Male   & 35 & 5 & Masters & Management     & 5 & 103007 & 10512\\\\\n\\end{tabular}\n",
            "text/plain": [
              "  ...1 jobTitle            gender age perfEval edu     dept           seniority\n",
              "1  4   Software Engineer   Male   20  5        Masters Sales          4        \n",
              "2  5   Graphic Designer    Male   26  5        Masters Engineering    5        \n",
              "3 14   Warehouse Associate Female 30  5        Masters Administration 5        \n",
              "4 27   Software Engineer   Male   19  5        Masters Administration 4        \n",
              "5 31   Software Engineer   Male   20  5        Masters Management     2        \n",
              "6 32   Sales Associate     Male   35  5        Masters Management     5        \n",
              "  basePay bonus\n",
              "1 108080  10154\n",
              "2  99464   9319\n",
              "3  86220   9583\n",
              "4 100305   9618\n",
              "5  66359  10137\n",
              "6 103007  10512"
            ]
          },
          "metadata": {}
        },
        {
          "output_type": "display_data",
          "data": {
            "text/html": [
              "<table class=\"dataframe\">\n",
              "<caption>A tibble: 6 × 10</caption>\n",
              "<thead>\n",
              "\t<tr><th scope=col>...1</th><th scope=col>jobTitle</th><th scope=col>gender</th><th scope=col>age</th><th scope=col>perfEval</th><th scope=col>edu</th><th scope=col>dept</th><th scope=col>seniority</th><th scope=col>basePay</th><th scope=col>bonus</th></tr>\n",
              "\t<tr><th scope=col>&lt;dbl&gt;</th><th scope=col>&lt;chr&gt;</th><th scope=col>&lt;chr&gt;</th><th scope=col>&lt;dbl&gt;</th><th scope=col>&lt;dbl&gt;</th><th scope=col>&lt;chr&gt;</th><th scope=col>&lt;chr&gt;</th><th scope=col>&lt;dbl&gt;</th><th scope=col>&lt;dbl&gt;</th><th scope=col>&lt;dbl&gt;</th></tr>\n",
              "</thead>\n",
              "<tbody>\n",
              "\t<tr><td>1</td><td>Graphic Designer   </td><td>Female</td><td>18</td><td>5</td><td>College</td><td>Operations    </td><td>2</td><td> 42363</td><td> 9938</td></tr>\n",
              "\t<tr><td>2</td><td>Software Engineer  </td><td>Male  </td><td>21</td><td>5</td><td>College</td><td>Management    </td><td>5</td><td>108476</td><td>11128</td></tr>\n",
              "\t<tr><td>3</td><td>Warehouse Associate</td><td>Female</td><td>19</td><td>4</td><td>PhD    </td><td>Administration</td><td>5</td><td> 90208</td><td> 9268</td></tr>\n",
              "\t<tr><td>4</td><td>Software Engineer  </td><td>Male  </td><td>20</td><td>5</td><td>Masters</td><td>Sales         </td><td>4</td><td>108080</td><td>10154</td></tr>\n",
              "\t<tr><td>5</td><td>Graphic Designer   </td><td>Male  </td><td>26</td><td>5</td><td>Masters</td><td>Engineering   </td><td>5</td><td> 99464</td><td> 9319</td></tr>\n",
              "\t<tr><td>6</td><td>IT                 </td><td>Female</td><td>20</td><td>5</td><td>PhD    </td><td>Operations    </td><td>4</td><td> 70890</td><td>10126</td></tr>\n",
              "</tbody>\n",
              "</table>\n"
            ],
            "text/markdown": "\nA tibble: 6 × 10\n\n| ...1 &lt;dbl&gt; | jobTitle &lt;chr&gt; | gender &lt;chr&gt; | age &lt;dbl&gt; | perfEval &lt;dbl&gt; | edu &lt;chr&gt; | dept &lt;chr&gt; | seniority &lt;dbl&gt; | basePay &lt;dbl&gt; | bonus &lt;dbl&gt; |\n|---|---|---|---|---|---|---|---|---|---|\n| 1 | Graphic Designer    | Female | 18 | 5 | College | Operations     | 2 |  42363 |  9938 |\n| 2 | Software Engineer   | Male   | 21 | 5 | College | Management     | 5 | 108476 | 11128 |\n| 3 | Warehouse Associate | Female | 19 | 4 | PhD     | Administration | 5 |  90208 |  9268 |\n| 4 | Software Engineer   | Male   | 20 | 5 | Masters | Sales          | 4 | 108080 | 10154 |\n| 5 | Graphic Designer    | Male   | 26 | 5 | Masters | Engineering    | 5 |  99464 |  9319 |\n| 6 | IT                  | Female | 20 | 5 | PhD     | Operations     | 4 |  70890 | 10126 |\n\n",
            "text/latex": "A tibble: 6 × 10\n\\begin{tabular}{llllllllll}\n ...1 & jobTitle & gender & age & perfEval & edu & dept & seniority & basePay & bonus\\\\\n <dbl> & <chr> & <chr> & <dbl> & <dbl> & <chr> & <chr> & <dbl> & <dbl> & <dbl>\\\\\n\\hline\n\t 1 & Graphic Designer    & Female & 18 & 5 & College & Operations     & 2 &  42363 &  9938\\\\\n\t 2 & Software Engineer   & Male   & 21 & 5 & College & Management     & 5 & 108476 & 11128\\\\\n\t 3 & Warehouse Associate & Female & 19 & 4 & PhD     & Administration & 5 &  90208 &  9268\\\\\n\t 4 & Software Engineer   & Male   & 20 & 5 & Masters & Sales          & 4 & 108080 & 10154\\\\\n\t 5 & Graphic Designer    & Male   & 26 & 5 & Masters & Engineering    & 5 &  99464 &  9319\\\\\n\t 6 & IT                  & Female & 20 & 5 & PhD     & Operations     & 4 &  70890 & 10126\\\\\n\\end{tabular}\n",
            "text/plain": [
              "  ...1 jobTitle            gender age perfEval edu     dept           seniority\n",
              "1 1    Graphic Designer    Female 18  5        College Operations     2        \n",
              "2 2    Software Engineer   Male   21  5        College Management     5        \n",
              "3 3    Warehouse Associate Female 19  4        PhD     Administration 5        \n",
              "4 4    Software Engineer   Male   20  5        Masters Sales          4        \n",
              "5 5    Graphic Designer    Male   26  5        Masters Engineering    5        \n",
              "6 6    IT                  Female 20  5        PhD     Operations     4        \n",
              "  basePay bonus\n",
              "1  42363   9938\n",
              "2 108476  11128\n",
              "3  90208   9268\n",
              "4 108080  10154\n",
              "5  99464   9319\n",
              "6  70890  10126"
            ]
          },
          "metadata": {}
        }
      ]
    },
    {
      "cell_type": "markdown",
      "source": [
        "### Filter requires logical arguments\n",
        "\n",
        "Note that above we use a double equals sign (i.e., ==) within the filter function. The way we read this is \"take the column edu and only include rows with the exact value of 'Masters'\". The data in column edu are categorical and encoded as character strings, hence the quotes around the word to specify that it is a word (vs a number).\n",
        "\n",
        "Types of logical statements in R\n",
        "\n",
        "- \\> is the \"greater than\" sign\n",
        "\n",
        "- \\< is the \"less than\" sign\n",
        "\n",
        "- \\>= and \\<= are the \"greater than or equal to\" and \"less than or equal to\" signs, respectively\n",
        "\n",
        "- != is the \"not equal to\" sign. Note that the \"!\" symbol, in R, is known as negation. In other words, the exclamation point is interpreted as \"not\". When combined with an equal sign, it means \"not equal\" but there are other uses for ! as well.\n",
        "\n",
        "- == is the \"equal to\" sign\n",
        "\n",
        "- \\| is the \"or\" operator (between enter & backspace key)\n",
        "\n",
        "- \\& is the \"and\" operator\n",
        "\n",
        "With these, we can filter on different columns and even with multiple filtering criteria. This is a personal preference but I prefer to use multiple filter functions rather than one function with multiple criteria, the former approach seems more *readable* than the latter."
      ],
      "metadata": {
        "id": "AZYwFRpScH8q"
      }
    },
    {
      "cell_type": "code",
      "source": [
        "## Filter so we include masters degrees between the ages of 30 and 60\n",
        "WrangledPay1 <-\n",
        "  GenderPay %>%\n",
        "  filter(edu == \"Masters\" & age >= 30 & age <= 60)\n",
        "\n",
        "## Multiple filter functions to do the same thing but easier to read/edit\n",
        "WrangledPay2 <-\n",
        "  GenderPay %>%\n",
        "  filter(edu == \"Masters\") %>%\n",
        "  filter(age >= 30) %>%\n",
        "  filter(age <= 60)\n",
        "\n",
        "## See the first few rows of a filtered dataset\n",
        "head(WrangledPay1)\n",
        "\n",
        "## Show that both filtered data objects are equivalent (value of TRUE means they are exactly equal)\n",
        "all.equal(WrangledPay1, WrangledPay2)"
      ],
      "metadata": {
        "colab": {
          "base_uri": "https://localhost:8080/",
          "height": 303
        },
        "id": "P0GJfI8McKPw",
        "outputId": "021e1e92-3a30-4d4e-eeff-62dc651ea934"
      },
      "execution_count": 13,
      "outputs": [
        {
          "output_type": "display_data",
          "data": {
            "text/html": [
              "<table class=\"dataframe\">\n",
              "<caption>A tibble: 6 × 10</caption>\n",
              "<thead>\n",
              "\t<tr><th scope=col>...1</th><th scope=col>jobTitle</th><th scope=col>gender</th><th scope=col>age</th><th scope=col>perfEval</th><th scope=col>edu</th><th scope=col>dept</th><th scope=col>seniority</th><th scope=col>basePay</th><th scope=col>bonus</th></tr>\n",
              "\t<tr><th scope=col>&lt;dbl&gt;</th><th scope=col>&lt;chr&gt;</th><th scope=col>&lt;chr&gt;</th><th scope=col>&lt;dbl&gt;</th><th scope=col>&lt;dbl&gt;</th><th scope=col>&lt;chr&gt;</th><th scope=col>&lt;chr&gt;</th><th scope=col>&lt;dbl&gt;</th><th scope=col>&lt;dbl&gt;</th><th scope=col>&lt;dbl&gt;</th></tr>\n",
              "</thead>\n",
              "<tbody>\n",
              "\t<tr><td>14</td><td>Warehouse Associate</td><td>Female</td><td>30</td><td>5</td><td>Masters</td><td>Administration</td><td>5</td><td> 86220</td><td> 9583</td></tr>\n",
              "\t<tr><td>32</td><td>Sales Associate    </td><td>Male  </td><td>35</td><td>5</td><td>Masters</td><td>Management    </td><td>5</td><td>103007</td><td>10512</td></tr>\n",
              "\t<tr><td>54</td><td>Data Scientist     </td><td>Female</td><td>33</td><td>5</td><td>Masters</td><td>Sales         </td><td>2</td><td> 89415</td><td> 9654</td></tr>\n",
              "\t<tr><td>62</td><td>Graphic Designer   </td><td>Male  </td><td>34</td><td>5</td><td>Masters</td><td>Management    </td><td>3</td><td> 86766</td><td> 9841</td></tr>\n",
              "\t<tr><td>88</td><td>Data Scientist     </td><td>Female</td><td>38</td><td>5</td><td>Masters</td><td>Administration</td><td>5</td><td>127156</td><td> 9979</td></tr>\n",
              "\t<tr><td>92</td><td>Financial Analyst  </td><td>Female</td><td>36</td><td>5</td><td>Masters</td><td>Administration</td><td>3</td><td> 92622</td><td> 8509</td></tr>\n",
              "</tbody>\n",
              "</table>\n"
            ],
            "text/markdown": "\nA tibble: 6 × 10\n\n| ...1 &lt;dbl&gt; | jobTitle &lt;chr&gt; | gender &lt;chr&gt; | age &lt;dbl&gt; | perfEval &lt;dbl&gt; | edu &lt;chr&gt; | dept &lt;chr&gt; | seniority &lt;dbl&gt; | basePay &lt;dbl&gt; | bonus &lt;dbl&gt; |\n|---|---|---|---|---|---|---|---|---|---|\n| 14 | Warehouse Associate | Female | 30 | 5 | Masters | Administration | 5 |  86220 |  9583 |\n| 32 | Sales Associate     | Male   | 35 | 5 | Masters | Management     | 5 | 103007 | 10512 |\n| 54 | Data Scientist      | Female | 33 | 5 | Masters | Sales          | 2 |  89415 |  9654 |\n| 62 | Graphic Designer    | Male   | 34 | 5 | Masters | Management     | 3 |  86766 |  9841 |\n| 88 | Data Scientist      | Female | 38 | 5 | Masters | Administration | 5 | 127156 |  9979 |\n| 92 | Financial Analyst   | Female | 36 | 5 | Masters | Administration | 3 |  92622 |  8509 |\n\n",
            "text/latex": "A tibble: 6 × 10\n\\begin{tabular}{llllllllll}\n ...1 & jobTitle & gender & age & perfEval & edu & dept & seniority & basePay & bonus\\\\\n <dbl> & <chr> & <chr> & <dbl> & <dbl> & <chr> & <chr> & <dbl> & <dbl> & <dbl>\\\\\n\\hline\n\t 14 & Warehouse Associate & Female & 30 & 5 & Masters & Administration & 5 &  86220 &  9583\\\\\n\t 32 & Sales Associate     & Male   & 35 & 5 & Masters & Management     & 5 & 103007 & 10512\\\\\n\t 54 & Data Scientist      & Female & 33 & 5 & Masters & Sales          & 2 &  89415 &  9654\\\\\n\t 62 & Graphic Designer    & Male   & 34 & 5 & Masters & Management     & 3 &  86766 &  9841\\\\\n\t 88 & Data Scientist      & Female & 38 & 5 & Masters & Administration & 5 & 127156 &  9979\\\\\n\t 92 & Financial Analyst   & Female & 36 & 5 & Masters & Administration & 3 &  92622 &  8509\\\\\n\\end{tabular}\n",
            "text/plain": [
              "  ...1 jobTitle            gender age perfEval edu     dept           seniority\n",
              "1 14   Warehouse Associate Female 30  5        Masters Administration 5        \n",
              "2 32   Sales Associate     Male   35  5        Masters Management     5        \n",
              "3 54   Data Scientist      Female 33  5        Masters Sales          2        \n",
              "4 62   Graphic Designer    Male   34  5        Masters Management     3        \n",
              "5 88   Data Scientist      Female 38  5        Masters Administration 5        \n",
              "6 92   Financial Analyst   Female 36  5        Masters Administration 3        \n",
              "  basePay bonus\n",
              "1  86220   9583\n",
              "2 103007  10512\n",
              "3  89415   9654\n",
              "4  86766   9841\n",
              "5 127156   9979\n",
              "6  92622   8509"
            ]
          },
          "metadata": {}
        },
        {
          "output_type": "display_data",
          "data": {
            "text/html": [
              "TRUE"
            ],
            "text/markdown": "TRUE",
            "text/latex": "TRUE",
            "text/plain": [
              "[1] TRUE"
            ]
          },
          "metadata": {}
        }
      ]
    },
    {
      "cell_type": "markdown",
      "source": [
        "We can see an example of the remaining types of logical statements below:"
      ],
      "metadata": {
        "id": "h_y133cVcyQ3"
      }
    },
    {
      "cell_type": "code",
      "source": [
        "## basePay greater than 100k\n",
        "GenderPay %>%\n",
        "  filter(basePay > 100000) %>%\n",
        "  head()"
      ],
      "metadata": {
        "colab": {
          "base_uri": "https://localhost:8080/",
          "height": 286
        },
        "id": "xL0XT4lcc0FK",
        "outputId": "6fcc0db4-87b7-443e-d770-16f442bf8b54"
      },
      "execution_count": 15,
      "outputs": [
        {
          "output_type": "display_data",
          "data": {
            "text/html": [
              "<table class=\"dataframe\">\n",
              "<caption>A tibble: 6 × 10</caption>\n",
              "<thead>\n",
              "\t<tr><th scope=col>...1</th><th scope=col>jobTitle</th><th scope=col>gender</th><th scope=col>age</th><th scope=col>perfEval</th><th scope=col>edu</th><th scope=col>dept</th><th scope=col>seniority</th><th scope=col>basePay</th><th scope=col>bonus</th></tr>\n",
              "\t<tr><th scope=col>&lt;dbl&gt;</th><th scope=col>&lt;chr&gt;</th><th scope=col>&lt;chr&gt;</th><th scope=col>&lt;dbl&gt;</th><th scope=col>&lt;dbl&gt;</th><th scope=col>&lt;chr&gt;</th><th scope=col>&lt;chr&gt;</th><th scope=col>&lt;dbl&gt;</th><th scope=col>&lt;dbl&gt;</th><th scope=col>&lt;dbl&gt;</th></tr>\n",
              "</thead>\n",
              "<tbody>\n",
              "\t<tr><td> 2</td><td>Software Engineer  </td><td>Male  </td><td>21</td><td>5</td><td>College    </td><td>Management </td><td>5</td><td>108476</td><td>11128</td></tr>\n",
              "\t<tr><td> 4</td><td>Software Engineer  </td><td>Male  </td><td>20</td><td>5</td><td>Masters    </td><td>Sales      </td><td>4</td><td>108080</td><td>10154</td></tr>\n",
              "\t<tr><td> 9</td><td>Graphic Designer   </td><td>Female</td><td>33</td><td>5</td><td>High School</td><td>Engineering</td><td>5</td><td>112976</td><td> 9836</td></tr>\n",
              "\t<tr><td>10</td><td>Sales Associate    </td><td>Female</td><td>35</td><td>5</td><td>College    </td><td>Engineering</td><td>5</td><td>106524</td><td> 9941</td></tr>\n",
              "\t<tr><td>11</td><td>Graphic Designer   </td><td>Male  </td><td>24</td><td>5</td><td>PhD        </td><td>Engineering</td><td>5</td><td>102261</td><td>10212</td></tr>\n",
              "\t<tr><td>21</td><td>Warehouse Associate</td><td>Male  </td><td>36</td><td>5</td><td>PhD        </td><td>Engineering</td><td>5</td><td>108446</td><td> 9210</td></tr>\n",
              "</tbody>\n",
              "</table>\n"
            ],
            "text/markdown": "\nA tibble: 6 × 10\n\n| ...1 &lt;dbl&gt; | jobTitle &lt;chr&gt; | gender &lt;chr&gt; | age &lt;dbl&gt; | perfEval &lt;dbl&gt; | edu &lt;chr&gt; | dept &lt;chr&gt; | seniority &lt;dbl&gt; | basePay &lt;dbl&gt; | bonus &lt;dbl&gt; |\n|---|---|---|---|---|---|---|---|---|---|\n|  2 | Software Engineer   | Male   | 21 | 5 | College     | Management  | 5 | 108476 | 11128 |\n|  4 | Software Engineer   | Male   | 20 | 5 | Masters     | Sales       | 4 | 108080 | 10154 |\n|  9 | Graphic Designer    | Female | 33 | 5 | High School | Engineering | 5 | 112976 |  9836 |\n| 10 | Sales Associate     | Female | 35 | 5 | College     | Engineering | 5 | 106524 |  9941 |\n| 11 | Graphic Designer    | Male   | 24 | 5 | PhD         | Engineering | 5 | 102261 | 10212 |\n| 21 | Warehouse Associate | Male   | 36 | 5 | PhD         | Engineering | 5 | 108446 |  9210 |\n\n",
            "text/latex": "A tibble: 6 × 10\n\\begin{tabular}{llllllllll}\n ...1 & jobTitle & gender & age & perfEval & edu & dept & seniority & basePay & bonus\\\\\n <dbl> & <chr> & <chr> & <dbl> & <dbl> & <chr> & <chr> & <dbl> & <dbl> & <dbl>\\\\\n\\hline\n\t  2 & Software Engineer   & Male   & 21 & 5 & College     & Management  & 5 & 108476 & 11128\\\\\n\t  4 & Software Engineer   & Male   & 20 & 5 & Masters     & Sales       & 4 & 108080 & 10154\\\\\n\t  9 & Graphic Designer    & Female & 33 & 5 & High School & Engineering & 5 & 112976 &  9836\\\\\n\t 10 & Sales Associate     & Female & 35 & 5 & College     & Engineering & 5 & 106524 &  9941\\\\\n\t 11 & Graphic Designer    & Male   & 24 & 5 & PhD         & Engineering & 5 & 102261 & 10212\\\\\n\t 21 & Warehouse Associate & Male   & 36 & 5 & PhD         & Engineering & 5 & 108446 &  9210\\\\\n\\end{tabular}\n",
            "text/plain": [
              "  ...1 jobTitle            gender age perfEval edu         dept       \n",
              "1  2   Software Engineer   Male   21  5        College     Management \n",
              "2  4   Software Engineer   Male   20  5        Masters     Sales      \n",
              "3  9   Graphic Designer    Female 33  5        High School Engineering\n",
              "4 10   Sales Associate     Female 35  5        College     Engineering\n",
              "5 11   Graphic Designer    Male   24  5        PhD         Engineering\n",
              "6 21   Warehouse Associate Male   36  5        PhD         Engineering\n",
              "  seniority basePay bonus\n",
              "1 5         108476  11128\n",
              "2 4         108080  10154\n",
              "3 5         112976   9836\n",
              "4 5         106524   9941\n",
              "5 5         102261  10212\n",
              "6 5         108446   9210"
            ]
          },
          "metadata": {}
        }
      ]
    },
    {
      "cell_type": "code",
      "source": [
        "## Education *not equal to* (i.e., excludes) PhD\n",
        "GenderPay %>%\n",
        "  filter(edu != \"PhD\") %>%\n",
        "  head()"
      ],
      "metadata": {
        "id": "rXLA0wkwc0c7"
      },
      "execution_count": null,
      "outputs": []
    },
    {
      "cell_type": "code",
      "source": [
        "## Performance eval scores of either 4 or 5\n",
        "GenderPay %>%\n",
        "  filter(perfEval == 4 | perfEval == 5) %>%\n",
        "  head()"
      ],
      "metadata": {
        "id": "_r4dyQtdc4Be"
      },
      "execution_count": null,
      "outputs": []
    },
    {
      "cell_type": "code",
      "source": [
        "## bonus less than 5k\n",
        "GenderPay %>%\n",
        "  filter(bonus < 5000) %>%\n",
        "  head()"
      ],
      "metadata": {
        "id": "umgPIWbSc1T1"
      },
      "execution_count": null,
      "outputs": []
    },
    {
      "cell_type": "markdown",
      "source": [
        "## Select specific columns from a dataset\n",
        "\n",
        "Whereas the filter() function will remove data row-wise, the select() function will remove data column-wise. For example, say we are only interested in 3 columns: Gender, performance evaluation, and base pay. We can apply the select() function to do so."
      ],
      "metadata": {
        "id": "MeQykR8VdGZS"
      }
    },
    {
      "cell_type": "code",
      "source": [
        "## Only retain gender, perfEval, and basePay columns\n",
        "GenderPay %>%\n",
        "  select(gender, perfEval, basePay)"
      ],
      "metadata": {
        "id": "MTfMOOmPdIId"
      },
      "execution_count": null,
      "outputs": []
    },
    {
      "cell_type": "markdown",
      "source": [
        "## Summarize data (descriptive stats)\n",
        "\n",
        "Using the summarize() funciton, we can use the mean() and sd() functions to compute the mean and standard deviations (respectively) for individual columns in the dataset.\n",
        "\n",
        "The arguments are a little strange in summarize(). The way we read/use it is as follows: summarize(NameOfOutput = Function(ColumnName)). For example, we can summarize the column age, based on the mean and SD, and return labels for those values."
      ],
      "metadata": {
        "id": "CY0U4CWzdJ9E"
      }
    },
    {
      "cell_type": "code",
      "source": [
        "## Summarize sample ages\n",
        "GenderPay %>%\n",
        "  summarize(AgeMean = mean(age),\n",
        "            AgeSD   = sd(age))"
      ],
      "metadata": {
        "id": "ydCNVqcjdLVy"
      },
      "execution_count": null,
      "outputs": []
    },
    {
      "cell_type": "markdown",
      "source": [
        "Inside the statistical functions (e.g., mean() or sd()), we can include additional arguments like we normally would. For example, if there are missing data, we can ignore NA values. In this dataset, we do not have missing values so this just returns the same thing as above.  "
      ],
      "metadata": {
        "id": "l2xI-v6_dNDu"
      }
    },
    {
      "cell_type": "code",
      "source": [
        "## Summarize sample ages, ignoring missing values\n",
        "GenderPay %>%\n",
        "  summarize(AgeMean = mean(age, na.rm = TRUE),\n",
        "            AgeSD   = sd(age, na.rm = TRUE))"
      ],
      "metadata": {
        "id": "qgz21gMEdOP4"
      },
      "execution_count": null,
      "outputs": []
    },
    {
      "cell_type": "markdown",
      "source": [
        "## Group data by values from a column\n",
        "\n",
        "The focal dataset is trying to compare gender pay disparities so general averages do not mean as much, we want to know *stratified* averages. For example, the average *within* females vs the average *within* males. This is accomplished by the group_by() function.\n"
      ],
      "metadata": {
        "id": "JFA-qWdvdTbE"
      }
    },
    {
      "cell_type": "code",
      "source": [
        "## Average pay within each gender\n",
        "GenderPay %>%\n",
        "  group_by(gender) %>%\n",
        "  summarize(PayMean = mean(basePay),\n",
        "            PaySD   = sd(basePay))"
      ],
      "metadata": {
        "id": "UuJ76sMtdU03"
      },
      "execution_count": null,
      "outputs": []
    },
    {
      "cell_type": "code",
      "source": [
        "## Average pay within each gender AND performance evaluation score\n",
        "GenderPay %>%\n",
        "  group_by(gender, perfEval) %>%\n",
        "  summarize(PayMean = mean(basePay))"
      ],
      "metadata": {
        "id": "kSa4I6-pdXBu"
      },
      "execution_count": null,
      "outputs": []
    },
    {
      "cell_type": "code",
      "source": [
        "## Average pay within each performance evaluation score\n",
        "GenderPay %>%\n",
        "  group_by(perfEval) %>%\n",
        "  summarize(PayMean = mean(basePay),\n",
        "            PaySD   = sd(basePay))"
      ],
      "metadata": {
        "id": "ZM0-2DWRdWLm"
      },
      "execution_count": null,
      "outputs": []
    },
    {
      "cell_type": "markdown",
      "source": [
        "## Mutate to create variables\n",
        "\n",
        "The mutate() function creates new variables from existing data. For example, converting a column to a different unit (e.g., inches to centimeters) or combining two columns as a new total score.\n",
        "\n",
        "Just like with the summarize function, the same format is used for inputs. For example, creating a new 'total' column by adding values from two other columns may be executed as follows: mutate(NewVariable = Column1 + Column2)"
      ],
      "metadata": {
        "id": "gAfK4YoFdbSP"
      }
    },
    {
      "cell_type": "code",
      "source": [
        "## Create a new total pay column by adding 2 others\n",
        "GenderPay %>%\n",
        "  mutate(TotalPay = basePay + bonus) %>%\n",
        "  select(basePay, bonus, TotalPay)"
      ],
      "metadata": {
        "id": "KohksiWrdccO"
      },
      "execution_count": null,
      "outputs": []
    },
    {
      "cell_type": "markdown",
      "source": [
        "### Mutate a mutated column\n",
        "\n",
        "The newly created variable can be used to create even more variables! Maybe we wish to know the percentage of compensation from base pay versus bonus. Let's formalize this as \"percentage of total pay from bonuses\", which is computed as (bonus / TotalPay) * 100.\n"
      ],
      "metadata": {
        "id": "rmv6kDngdd8O"
      }
    },
    {
      "cell_type": "code",
      "source": [
        "## Create a 2 new columns: TotalPay and BonusPercent\n",
        "GenderPayTotal <-\n",
        "  GenderPay %>%\n",
        "  mutate(TotalPay = basePay + bonus) %>%\n",
        "  mutate(BonusPercent = (bonus / TotalPay) * 100)\n",
        "\n",
        "## Return only 4 columns for simplicity\n",
        "GenderPayTotal %>%\n",
        "  select(basePay, bonus, TotalPay, BonusPercent) %>%\n",
        "  head() ## Only show a few rows"
      ],
      "metadata": {
        "colab": {
          "base_uri": "https://localhost:8080/",
          "height": 286
        },
        "id": "h-_cZt3udfUu",
        "outputId": "0acac9eb-e579-4ed0-db4d-8d7140d36d29"
      },
      "execution_count": 18,
      "outputs": [
        {
          "output_type": "display_data",
          "data": {
            "text/html": [
              "<table class=\"dataframe\">\n",
              "<caption>A tibble: 6 × 4</caption>\n",
              "<thead>\n",
              "\t<tr><th scope=col>basePay</th><th scope=col>bonus</th><th scope=col>TotalPay</th><th scope=col>BonusPercent</th></tr>\n",
              "\t<tr><th scope=col>&lt;dbl&gt;</th><th scope=col>&lt;dbl&gt;</th><th scope=col>&lt;dbl&gt;</th><th scope=col>&lt;dbl&gt;</th></tr>\n",
              "</thead>\n",
              "<tbody>\n",
              "\t<tr><td> 42363</td><td> 9938</td><td> 52301</td><td>19.001549</td></tr>\n",
              "\t<tr><td>108476</td><td>11128</td><td>119604</td><td> 9.304037</td></tr>\n",
              "\t<tr><td> 90208</td><td> 9268</td><td> 99476</td><td> 9.316820</td></tr>\n",
              "\t<tr><td>108080</td><td>10154</td><td>118234</td><td> 8.588054</td></tr>\n",
              "\t<tr><td> 99464</td><td> 9319</td><td>108783</td><td> 8.566596</td></tr>\n",
              "\t<tr><td> 70890</td><td>10126</td><td> 81016</td><td>12.498766</td></tr>\n",
              "</tbody>\n",
              "</table>\n"
            ],
            "text/markdown": "\nA tibble: 6 × 4\n\n| basePay &lt;dbl&gt; | bonus &lt;dbl&gt; | TotalPay &lt;dbl&gt; | BonusPercent &lt;dbl&gt; |\n|---|---|---|---|\n|  42363 |  9938 |  52301 | 19.001549 |\n| 108476 | 11128 | 119604 |  9.304037 |\n|  90208 |  9268 |  99476 |  9.316820 |\n| 108080 | 10154 | 118234 |  8.588054 |\n|  99464 |  9319 | 108783 |  8.566596 |\n|  70890 | 10126 |  81016 | 12.498766 |\n\n",
            "text/latex": "A tibble: 6 × 4\n\\begin{tabular}{llll}\n basePay & bonus & TotalPay & BonusPercent\\\\\n <dbl> & <dbl> & <dbl> & <dbl>\\\\\n\\hline\n\t  42363 &  9938 &  52301 & 19.001549\\\\\n\t 108476 & 11128 & 119604 &  9.304037\\\\\n\t  90208 &  9268 &  99476 &  9.316820\\\\\n\t 108080 & 10154 & 118234 &  8.588054\\\\\n\t  99464 &  9319 & 108783 &  8.566596\\\\\n\t  70890 & 10126 &  81016 & 12.498766\\\\\n\\end{tabular}\n",
            "text/plain": [
              "  basePay bonus TotalPay BonusPercent\n",
              "1  42363   9938  52301   19.001549   \n",
              "2 108476  11128 119604    9.304037   \n",
              "3  90208   9268  99476    9.316820   \n",
              "4 108080  10154 118234    8.588054   \n",
              "5  99464   9319 108783    8.566596   \n",
              "6  70890  10126  81016   12.498766   "
            ]
          },
          "metadata": {}
        }
      ]
    },
    {
      "cell_type": "code",
      "source": [
        "## Summarize the average compensation based on gender\n",
        "GenderPayTotal %>%\n",
        "  group_by(gender) %>%\n",
        "  summarize(TPMean = mean(TotalPay),\n",
        "            BPMean = mean(BonusPercent))"
      ],
      "metadata": {
        "colab": {
          "base_uri": "https://localhost:8080/",
          "height": 160
        },
        "id": "DknL8Ok7djRO",
        "outputId": "1c299bdb-92cb-4650-c890-27851aea57e0"
      },
      "execution_count": 19,
      "outputs": [
        {
          "output_type": "display_data",
          "data": {
            "text/html": [
              "<table class=\"dataframe\">\n",
              "<caption>A tibble: 2 × 3</caption>\n",
              "<thead>\n",
              "\t<tr><th scope=col>gender</th><th scope=col>TPMean</th><th scope=col>BPMean</th></tr>\n",
              "\t<tr><th scope=col>&lt;chr&gt;</th><th scope=col>&lt;dbl&gt;</th><th scope=col>&lt;dbl&gt;</th></tr>\n",
              "</thead>\n",
              "<tbody>\n",
              "\t<tr><td>Female</td><td> 96416.83</td><td>7.241017</td></tr>\n",
              "\t<tr><td>Male  </td><td>104918.68</td><td>6.585840</td></tr>\n",
              "</tbody>\n",
              "</table>\n"
            ],
            "text/markdown": "\nA tibble: 2 × 3\n\n| gender &lt;chr&gt; | TPMean &lt;dbl&gt; | BPMean &lt;dbl&gt; |\n|---|---|---|\n| Female |  96416.83 | 7.241017 |\n| Male   | 104918.68 | 6.585840 |\n\n",
            "text/latex": "A tibble: 2 × 3\n\\begin{tabular}{lll}\n gender & TPMean & BPMean\\\\\n <chr> & <dbl> & <dbl>\\\\\n\\hline\n\t Female &  96416.83 & 7.241017\\\\\n\t Male   & 104918.68 & 6.585840\\\\\n\\end{tabular}\n",
            "text/plain": [
              "  gender TPMean    BPMean  \n",
              "1 Female  96416.83 7.241017\n",
              "2 Male   104918.68 6.585840"
            ]
          },
          "metadata": {}
        }
      ]
    },
    {
      "cell_type": "markdown",
      "source": [
        "Voila, we have come to some simple conclusions from simple data cleaning and descriptive statistics!\n",
        "\n",
        "- Females tend to have slightly less pay on average\n",
        "\n",
        "- Females tend to have slightly more of their compensation based on bonuses"
      ],
      "metadata": {
        "id": "kQV2hqqefIi6"
      }
    },
    {
      "cell_type": "code",
      "source": [
        "## Convert column 'gender' to 'Sex'\n",
        "GenderPay %>%\n",
        "  rename(Sex = gender)"
      ],
      "metadata": {
        "id": "3N8hlv8DfP47"
      },
      "execution_count": null,
      "outputs": []
    },
    {
      "cell_type": "markdown",
      "source": [
        "## Recode\n",
        "\n",
        "Whereas rename() will change the variable name, recode() is useful to changing the values of a categorical variable. This is useful for graphing reasons (e.g., recode M and F to Male and Female, respectively).\n",
        "\n",
        "Basically, we are overwriting a column (or creating a new column) using the mutate() function and specifying the recoding scheme within that function. For instance, we read the recode() function inputs as (a) which column is being recoded (gender) and (b) the mapping of OldValue = NewValue."
      ],
      "metadata": {
        "id": "Z-1z9I08fRqQ"
      }
    },
    {
      "cell_type": "code",
      "source": [
        "## Recode gender values to man and woman\n",
        "GenderPay %>%\n",
        "  mutate(gender = recode(gender, \"Male\" = \"Man\", \"Female\" = \"Woman\")) %>%\n",
        "  head()"
      ],
      "metadata": {
        "colab": {
          "base_uri": "https://localhost:8080/",
          "height": 286
        },
        "id": "_H7WhqYJfS6U",
        "outputId": "d2f3f830-c595-44cd-b658-62dc9aee2af4"
      },
      "execution_count": 21,
      "outputs": [
        {
          "output_type": "display_data",
          "data": {
            "text/html": [
              "<table class=\"dataframe\">\n",
              "<caption>A tibble: 6 × 10</caption>\n",
              "<thead>\n",
              "\t<tr><th scope=col>...1</th><th scope=col>jobTitle</th><th scope=col>gender</th><th scope=col>age</th><th scope=col>perfEval</th><th scope=col>edu</th><th scope=col>dept</th><th scope=col>seniority</th><th scope=col>basePay</th><th scope=col>bonus</th></tr>\n",
              "\t<tr><th scope=col>&lt;dbl&gt;</th><th scope=col>&lt;chr&gt;</th><th scope=col>&lt;chr&gt;</th><th scope=col>&lt;dbl&gt;</th><th scope=col>&lt;dbl&gt;</th><th scope=col>&lt;chr&gt;</th><th scope=col>&lt;chr&gt;</th><th scope=col>&lt;dbl&gt;</th><th scope=col>&lt;dbl&gt;</th><th scope=col>&lt;dbl&gt;</th></tr>\n",
              "</thead>\n",
              "<tbody>\n",
              "\t<tr><td>1</td><td>Graphic Designer   </td><td>Woman</td><td>18</td><td>5</td><td>College</td><td>Operations    </td><td>2</td><td> 42363</td><td> 9938</td></tr>\n",
              "\t<tr><td>2</td><td>Software Engineer  </td><td>Man  </td><td>21</td><td>5</td><td>College</td><td>Management    </td><td>5</td><td>108476</td><td>11128</td></tr>\n",
              "\t<tr><td>3</td><td>Warehouse Associate</td><td>Woman</td><td>19</td><td>4</td><td>PhD    </td><td>Administration</td><td>5</td><td> 90208</td><td> 9268</td></tr>\n",
              "\t<tr><td>4</td><td>Software Engineer  </td><td>Man  </td><td>20</td><td>5</td><td>Masters</td><td>Sales         </td><td>4</td><td>108080</td><td>10154</td></tr>\n",
              "\t<tr><td>5</td><td>Graphic Designer   </td><td>Man  </td><td>26</td><td>5</td><td>Masters</td><td>Engineering   </td><td>5</td><td> 99464</td><td> 9319</td></tr>\n",
              "\t<tr><td>6</td><td>IT                 </td><td>Woman</td><td>20</td><td>5</td><td>PhD    </td><td>Operations    </td><td>4</td><td> 70890</td><td>10126</td></tr>\n",
              "</tbody>\n",
              "</table>\n"
            ],
            "text/markdown": "\nA tibble: 6 × 10\n\n| ...1 &lt;dbl&gt; | jobTitle &lt;chr&gt; | gender &lt;chr&gt; | age &lt;dbl&gt; | perfEval &lt;dbl&gt; | edu &lt;chr&gt; | dept &lt;chr&gt; | seniority &lt;dbl&gt; | basePay &lt;dbl&gt; | bonus &lt;dbl&gt; |\n|---|---|---|---|---|---|---|---|---|---|\n| 1 | Graphic Designer    | Woman | 18 | 5 | College | Operations     | 2 |  42363 |  9938 |\n| 2 | Software Engineer   | Man   | 21 | 5 | College | Management     | 5 | 108476 | 11128 |\n| 3 | Warehouse Associate | Woman | 19 | 4 | PhD     | Administration | 5 |  90208 |  9268 |\n| 4 | Software Engineer   | Man   | 20 | 5 | Masters | Sales          | 4 | 108080 | 10154 |\n| 5 | Graphic Designer    | Man   | 26 | 5 | Masters | Engineering    | 5 |  99464 |  9319 |\n| 6 | IT                  | Woman | 20 | 5 | PhD     | Operations     | 4 |  70890 | 10126 |\n\n",
            "text/latex": "A tibble: 6 × 10\n\\begin{tabular}{llllllllll}\n ...1 & jobTitle & gender & age & perfEval & edu & dept & seniority & basePay & bonus\\\\\n <dbl> & <chr> & <chr> & <dbl> & <dbl> & <chr> & <chr> & <dbl> & <dbl> & <dbl>\\\\\n\\hline\n\t 1 & Graphic Designer    & Woman & 18 & 5 & College & Operations     & 2 &  42363 &  9938\\\\\n\t 2 & Software Engineer   & Man   & 21 & 5 & College & Management     & 5 & 108476 & 11128\\\\\n\t 3 & Warehouse Associate & Woman & 19 & 4 & PhD     & Administration & 5 &  90208 &  9268\\\\\n\t 4 & Software Engineer   & Man   & 20 & 5 & Masters & Sales          & 4 & 108080 & 10154\\\\\n\t 5 & Graphic Designer    & Man   & 26 & 5 & Masters & Engineering    & 5 &  99464 &  9319\\\\\n\t 6 & IT                  & Woman & 20 & 5 & PhD     & Operations     & 4 &  70890 & 10126\\\\\n\\end{tabular}\n",
            "text/plain": [
              "  ...1 jobTitle            gender age perfEval edu     dept           seniority\n",
              "1 1    Graphic Designer    Woman  18  5        College Operations     2        \n",
              "2 2    Software Engineer   Man    21  5        College Management     5        \n",
              "3 3    Warehouse Associate Woman  19  4        PhD     Administration 5        \n",
              "4 4    Software Engineer   Man    20  5        Masters Sales          4        \n",
              "5 5    Graphic Designer    Man    26  5        Masters Engineering    5        \n",
              "6 6    IT                  Woman  20  5        PhD     Operations     4        \n",
              "  basePay bonus\n",
              "1  42363   9938\n",
              "2 108476  11128\n",
              "3  90208   9268\n",
              "4 108080  10154\n",
              "5  99464   9319\n",
              "6  70890  10126"
            ]
          },
          "metadata": {}
        }
      ]
    },
    {
      "cell_type": "markdown",
      "source": [
        "## Arranging data to sort data within a column\n",
        "\n",
        "In many cases, we want to use the arrange() function to sort the data within a column in either ascending or descending order. For instance, maybe we have job applicants and their scores on various assessments (e.g., interview, job experience, and personality test score) and their overall score. Ideally, we want to sort candidates so that the top scores are presented first and hire candidates with those top scores. This would be accomplished using arrange().\n",
        "\n",
        "### Ascending order (default)\n",
        "\n",
        "By default, the arrange() function will sort data from a specified column to start with the lowest number at the top and end with the largest number at the bottom. This is ascending order. Let's arrange the basePay column based on this ascending order."
      ],
      "metadata": {
        "id": "FzwOOGWXfXIa"
      }
    },
    {
      "cell_type": "code",
      "source": [
        "## Arrange basePay in ascending order\n",
        "GenderPay %>%\n",
        "  arrange(basePay) %>%\n",
        "  select(basePay)"
      ],
      "metadata": {
        "id": "CG3GXEarfYMc"
      },
      "execution_count": null,
      "outputs": []
    },
    {
      "cell_type": "markdown",
      "source": [
        "### Descending order (using desc() function)\n",
        "\n",
        "To present the same dataset with basePay shown in descending order (i.e., highest number first, lowest number last), we apply the desc() function to the specified column *within* the arrange() function.\n",
        "\n",
        "The example below reverses the order of the basePay column from the example above."
      ],
      "metadata": {
        "id": "aJk0igIVfZuU"
      }
    },
    {
      "cell_type": "code",
      "source": [
        "## Arrange basePay column in descending order\n",
        "GenderPay %>%\n",
        "  arrange(desc(basePay)) %>%\n",
        "  select(basePay)"
      ],
      "metadata": {
        "id": "MIV5lp_-faWq"
      },
      "execution_count": null,
      "outputs": []
    }
  ]
}