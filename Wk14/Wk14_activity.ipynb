{
  "nbformat": 4,
  "nbformat_minor": 0,
  "metadata": {
    "colab": {
      "provenance": []
    },
    "kernelspec": {
      "name": "ir",
      "display_name": "R"
    },
    "language_info": {
      "name": "R"
    }
  },
  "cells": [
    {
      "cell_type": "markdown",
      "source": [
        "# Change runtime type to R\n",
        "Remember, the first step when opening a Google Colab notebook is to change the runtime type to R from Python. Our code will not work otherwise!"
      ],
      "metadata": {
        "id": "wYIL2VLcPoGD"
      }
    },
    {
      "cell_type": "markdown",
      "source": [
        "# Research questions\n",
        "\n",
        "**RQ1**: Does a country’s developing status and their adult mortality rate relate to its life expectancy?\n",
        "\n",
        "The next question is not a traditional 'research' question but is a necessary question to ask when conducting research\n",
        "\n",
        "**RQ2**: Are the regression assumptions met in our data and model?"
      ],
      "metadata": {
        "id": "cK8fkBoTQU23"
      }
    },
    {
      "cell_type": "markdown",
      "source": [
        "# 1) Install and load the packages\n",
        "\n",
        "Install the easystats package\n",
        "\n",
        "Load the easystats and tidyverse packages"
      ],
      "metadata": {
        "id": "OHDV2qchjjI5"
      }
    },
    {
      "cell_type": "code",
      "source": [
        "## Install packages\n"
      ],
      "metadata": {
        "id": "6o0cKMDMiKVl"
      },
      "execution_count": null,
      "outputs": []
    },
    {
      "cell_type": "code",
      "source": [
        "## Load packages\n"
      ],
      "metadata": {
        "id": "vwC1zZsNiPwd"
      },
      "execution_count": null,
      "outputs": []
    },
    {
      "cell_type": "markdown",
      "source": [
        "# Load the data\n",
        "\n",
        "These data relate to the life expectancy, aggregated to the country level, from the year 2015.\n",
        "\n",
        "- Life_Expectancy: The average expected life expectancy for citizens in the specified country\n",
        "\n",
        "- Status: A categorical variable with two levels: developed and developing.\n",
        "\n",
        "- Mortality: The *adult* mortality rates of both sexes (i.e., proportion of people dying between the ages of 15 and 60 per 1,000 population)."
      ],
      "metadata": {
        "id": "TpqxWYIEjqTL"
      }
    },
    {
      "cell_type": "code",
      "source": [
        "## Set the URL to Casey's GitHub page where the dataset is located\n",
        "FileURL <- \"https://raw.githubusercontent.com/CaseyGio/Psyc6290/refs/heads/main/Datasets/LifeExpectancy2015.csv\"\n",
        "\n",
        "## Read the csv file from GitHub and create a new object\n",
        "LE <- read_csv(url(FileURL))\n",
        "\n",
        "## Check out the dataset\n",
        "head(LE, n = 10)"
      ],
      "metadata": {
        "id": "TO4PcHOGQen3"
      },
      "execution_count": null,
      "outputs": []
    },
    {
      "cell_type": "markdown",
      "source": [
        "# 2) Data cleaning\n",
        "\n",
        "Convert the Status column to be a factor in R."
      ],
      "metadata": {
        "id": "PsqoqffskHYY"
      }
    },
    {
      "cell_type": "code",
      "source": [
        "## Mutate status column\n"
      ],
      "metadata": {
        "id": "CdB3Ed-IkRJc"
      },
      "execution_count": 5,
      "outputs": []
    },
    {
      "cell_type": "markdown",
      "source": [
        "# 3) Visualization\n",
        "\n",
        "Create a scatterplot to depict the relationship between Mortality, Life Expectancy, and Status."
      ],
      "metadata": {
        "id": "3PcpjIntkdXb"
      }
    },
    {
      "cell_type": "code",
      "source": [
        "## Scatterplot\n"
      ],
      "metadata": {
        "id": "RJ1FIPMhkksS"
      },
      "execution_count": null,
      "outputs": []
    },
    {
      "cell_type": "markdown",
      "source": [
        "# 4) Estimate main- and interaction-effects models\n",
        "\n",
        "Estimate the two models that we shall use to address our first research question."
      ],
      "metadata": {
        "id": "d_G1KhrUk5jZ"
      }
    },
    {
      "cell_type": "code",
      "source": [],
      "metadata": {
        "id": "E_rE615rlPXQ"
      },
      "execution_count": 7,
      "outputs": []
    },
    {
      "cell_type": "markdown",
      "source": [
        "# 5) Examine the significance of the interaction model\n",
        "\n",
        "Assuming we are using an $\\alpha$ level of significance of 0.05, state whether we have statistically significant effects in our model. How do we interpret these parameters when we do/don't meet the significance threshold?"
      ],
      "metadata": {
        "id": "jIkEWLqKltDL"
      }
    },
    {
      "cell_type": "code",
      "source": [
        "## Check significance\n"
      ],
      "metadata": {
        "id": "IlweZmmkmL8F"
      },
      "execution_count": null,
      "outputs": []
    },
    {
      "cell_type": "markdown",
      "source": [
        "# 6) Determine whether the interaction or main effects model fit better.\n",
        "\n",
        "Using the same $\\alpha$ = 0.05 threshold, use the `anova()` function to determine whether our interaction model is more appropriate to fit our data than the main effects model.\n",
        "\n",
        "Make a claim and use the output to support that claim."
      ],
      "metadata": {
        "id": "J80NNgL3mnwV"
      }
    },
    {
      "cell_type": "code",
      "source": [
        "## Anova function to test nested models\n"
      ],
      "metadata": {
        "id": "A7tVrMnunC16"
      },
      "execution_count": null,
      "outputs": []
    },
    {
      "cell_type": "markdown",
      "source": [
        "# 7) Check model assumptions\n",
        "\n",
        "Regardless of statistical significance of our interaction-effects model, use code from the `easystats` package to check the following assumptions:\n",
        "\n",
        "- normality of the residuals\n",
        "\n",
        "- homogeneity of the residuals"
      ],
      "metadata": {
        "id": "pJRZHkyDnHV7"
      }
    },
    {
      "cell_type": "code",
      "source": [
        "## Check assumptions\n"
      ],
      "metadata": {
        "id": "8XqSAVQLncum"
      },
      "execution_count": null,
      "outputs": []
    },
    {
      "cell_type": "markdown",
      "source": [
        "# 8) Answer RQ2 based on model assumptions\n",
        "\n",
        "Using the output from above, make assertions about whether our assumptions were met and what that means for our data/models."
      ],
      "metadata": {
        "id": "KVHHf4bYnj3-"
      }
    }
  ]
}