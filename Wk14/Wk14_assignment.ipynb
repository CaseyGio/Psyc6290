{
  "nbformat": 4,
  "nbformat_minor": 0,
  "metadata": {
    "colab": {
      "provenance": []
    },
    "kernelspec": {
      "name": "ir",
      "display_name": "R"
    },
    "language_info": {
      "name": "R"
    }
  },
  "cells": [
    {
      "cell_type": "markdown",
      "source": [
        "# Change runtime type to R\n",
        "\n",
        "Remember, the first step when opening a Google Colab notebook is to change the runtime type to R from Python. Our code will not work otherwise!"
      ],
      "metadata": {
        "id": "5KO1UwIdo_ds"
      }
    },
    {
      "cell_type": "markdown",
      "source": [
        "# Research questions\n",
        "\n",
        "**RQ1**: Do job satisfaction and recruitment source have a relationship with employee engagement at work?\n",
        "\n",
        "**RQ2**: Are the regression assumptions met?"
      ],
      "metadata": {
        "id": "WI-Rqb9CpQUQ"
      }
    },
    {
      "cell_type": "markdown",
      "source": [
        "# 1) Install and load packages\n",
        "\n",
        "Install easystats\n",
        "\n",
        "Load easystats and tidyverse packages"
      ],
      "metadata": {
        "id": "yAFAqn4opp5Y"
      }
    },
    {
      "cell_type": "code",
      "execution_count": null,
      "metadata": {
        "id": "UmgymBypo88t"
      },
      "outputs": [],
      "source": []
    },
    {
      "cell_type": "code",
      "source": [],
      "metadata": {
        "id": "Wu7udqFJqEfl"
      },
      "execution_count": null,
      "outputs": []
    },
    {
      "cell_type": "markdown",
      "source": [
        "# Load the data\n",
        "\n",
        "These data are fake but representative of simplified HR data. We shall be focusing on three variables:\n",
        "\n",
        "- EngagementSurvey: Scores on an engagement questionnaire, ranging from 0 to 5.\n",
        "\n",
        "- RecruitmentSource: A categorical variable denoting how an employee was recruited (levels = LinkedIn, Google Search, Employee Referral, and Website).\n",
        "\n",
        "- EmpSatisfaction: Employee scores on a job satisfaction question."
      ],
      "metadata": {
        "id": "PqGjloylqHR8"
      }
    },
    {
      "cell_type": "code",
      "source": [
        "## Set the URL to Casey's GitHub page where the dataset is located\n",
        "FileURL <- \"https://raw.githubusercontent.com/CaseyGio/Psyc6290/refs/heads/main/Datasets/HRData.csv\"\n",
        "\n",
        "## Read the csv file from GitHub and create a new object\n",
        "HR <-\n",
        "  read_csv(url(FileURL)) %>%\n",
        "  select(EngagementSurvey, RecruitmentSource, EmpSatisfaction) %>%\n",
        "  filter(RecruitmentSource %in% c(\"LinkedIn\", \"Employee Referral\", \"Website\", \"Google Search\"))\n",
        "\n",
        "## Check out the dataset\n",
        "head(HR, n = 10)"
      ],
      "metadata": {
        "id": "lXftJmAXqqw6"
      },
      "execution_count": null,
      "outputs": []
    },
    {
      "cell_type": "markdown",
      "source": [
        "# 2) Data cleaning\n",
        "\n",
        "Convert the recruitment source column to be a factor"
      ],
      "metadata": {
        "id": "ivKWvTQArA0F"
      }
    },
    {
      "cell_type": "code",
      "source": [],
      "metadata": {
        "id": "UKVupqMprFMD"
      },
      "execution_count": 14,
      "outputs": []
    },
    {
      "cell_type": "markdown",
      "source": [
        "# 3) Visualization: Scatterplot\n",
        "\n",
        "Create a scatterplto to depict the first RQ."
      ],
      "metadata": {
        "id": "i3_jWsa8rLfQ"
      }
    },
    {
      "cell_type": "code",
      "source": [],
      "metadata": {
        "id": "NqcNidOHrQMt"
      },
      "execution_count": null,
      "outputs": []
    },
    {
      "cell_type": "markdown",
      "source": [
        "# 4) Visualization: Boxplot\n",
        "\n",
        "Generate a boxplot that compares each recruitment source based on the outcome of employee engagement\n",
        "\n",
        "On average, which recruitment source has the highest median engagement?"
      ],
      "metadata": {
        "id": "Y7TX-AOsrqQg"
      }
    },
    {
      "cell_type": "code",
      "source": [],
      "metadata": {
        "id": "-PsayLiurzBH"
      },
      "execution_count": null,
      "outputs": []
    },
    {
      "cell_type": "markdown",
      "source": [
        "# 5) Estimate an interaction effects model\n",
        "\n",
        "Estimate a model to address our first research question"
      ],
      "metadata": {
        "id": "XKGsyvEBsKVS"
      }
    },
    {
      "cell_type": "code",
      "source": [],
      "metadata": {
        "id": "LnUlXVCfsS0N"
      },
      "execution_count": 17,
      "outputs": []
    },
    {
      "cell_type": "markdown",
      "source": [
        "# 6) Determine the statistical significance of the parameter estimates\n",
        "\n",
        "Assuming a significance threshold of $\\alpha$ = 0.05, determine whether our interaction effects are significant."
      ],
      "metadata": {
        "id": "DFklCXSosd6p"
      }
    },
    {
      "cell_type": "code",
      "source": [],
      "metadata": {
        "id": "PSDOSlrSsu0v"
      },
      "execution_count": null,
      "outputs": []
    },
    {
      "cell_type": "markdown",
      "source": [
        "# 7) Answer the first research question\n",
        "\n",
        "Answer the first research question. Are there interaction effects? What does it mean if interaction effects are present?"
      ],
      "metadata": {
        "id": "_XGsdaP1uIyf"
      }
    },
    {
      "cell_type": "markdown",
      "source": [
        "# 8) Check model assumptions\n",
        "\n",
        "Regardless of statistical significance of our interaction-effects model, use code from the `easystats` package to check the following assumptions:\n",
        "\n",
        "- normality of the residuals\n",
        "\n",
        "- homogeneity of the residuals"
      ],
      "metadata": {
        "id": "2K0iRJv6tx3K"
      }
    },
    {
      "cell_type": "code",
      "source": [],
      "metadata": {
        "id": "8PAGjGhUt8GD"
      },
      "execution_count": null,
      "outputs": []
    },
    {
      "cell_type": "markdown",
      "source": [
        "# 9) Answer RQ2 based on model assumptions\n",
        "\n",
        "Using the output from above, make assertions about whether our assumptions were met and what that means for our data/models."
      ],
      "metadata": {
        "id": "Ot8UxfApt7b7"
      }
    }
  ]
}