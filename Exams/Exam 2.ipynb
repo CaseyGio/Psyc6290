{
  "nbformat": 4,
  "nbformat_minor": 0,
  "metadata": {
    "colab": {
      "provenance": []
    },
    "kernelspec": {
      "name": "ir",
      "display_name": "R"
    },
    "language_info": {
      "name": "R"
    }
  },
  "cells": [
    {
      "cell_type": "markdown",
      "source": [
        "# Change runtime type to R\n",
        "\n",
        "Remember, the first step when opening a Google Colab notebook is to change the runtime type to R from Python. Our code will not work otherwise!"
      ],
      "metadata": {
        "id": "ZuehH7sg2qK2"
      }
    },
    {
      "cell_type": "markdown",
      "source": [
        "# Exam 2: Statistics can save lives\n",
        "\n",
        "Please complete the exam by either (a) generating code to answer coding-related questions or (b) using written words to describe, infer, to state the answers to written problems. Both types of questions should be answered in a saved .ipynb version of this notebook and uploaded to Canvas as your exam. Exam submissions are due on Sunday night at 11:59pm CST."
      ],
      "metadata": {
        "id": "exc-524J3DXH"
      }
    },
    {
      "cell_type": "markdown",
      "source": [
        "## Set Up\n",
        "\n",
        "On January 28th, 1986, seven astronauts perished when the Challenger shuttle erupted into a fireball merely 73 seconds after liftoff. The main cause was the failure of two rubber seals, called O-rings, that allowed fluid to leak and set fire, resulting in the explosion of the fuel-bearing boosters. The resiliency of these O-rings degrades with temperature. The day before launch, engineers raised alarms about the potential failure of these O-rings given previous data and the launch conditions but management refused to listen. The following data were reported to Congress in their investigation, they are real data from test launches and experiments. From this data and the expected temperature on launch day, you must make the executive decision of whether the space shuttle Challenger should be launched or aborted."
      ],
      "metadata": {
        "id": "6Z1XB_EP3jSR"
      }
    },
    {
      "cell_type": "markdown",
      "source": [
        "## Research questions\n",
        "\n",
        "**RQ1**: Given an expected launch temperature of 27 degrees, what is the predicted amount of damage to the O-rings?\n",
        "\n",
        "**RQ2**: Given an expected launch temperature of 27 degrees, what is the predicted probability of the O-rings having any amount of damage?"
      ],
      "metadata": {
        "id": "NrqdPs8M76Jn"
      }
    },
    {
      "cell_type": "markdown",
      "source": [
        "## Variables\n",
        "\n",
        "| Variable | Use or Ignore | Description |\n",
        "|----------|---------------|-------------|\n",
        "| Flight | Ignore | The test flight number associated with each flight/experiment. |\n",
        "| Date | Ignore | The date in which test flights/experiments took place (Month.Day.Year format). |\n",
        "| Temperature | Use | (Continuous) Temperature, in degrees Fahrenheit, associated with each test flight/experiment. |\n",
        "| Erosion | Ignore | How much erosion occurred on the O-rings during tests. |\n",
        "| Blowby | Ignore | Unclear |\n",
        "| Damage | Use | (Continuous) The extent of damage found on each O-ring during testing. |\n",
        "| DamageAny | Use | (Binary) A recoded version of ‘Damage’ where 1s indicate that damage to the O-ring had occurred and 0s indicate no damage was observed. |"
      ],
      "metadata": {
        "id": "VI3Fm3LJ3muF"
      }
    },
    {
      "cell_type": "markdown",
      "source": [
        "# Q1) Install and load the relevant packages\n",
        "\n",
        "- easystats\n",
        "\n",
        "- tidyverse"
      ],
      "metadata": {
        "id": "-3ZJSYvD4LbD"
      }
    },
    {
      "cell_type": "markdown",
      "source": [
        "# Load the dataset\n",
        "\n",
        "These data were reported to Congressional investigations. A copy of these data are provided in Casey's GitHub page. Load the following dataset."
      ],
      "metadata": {
        "id": "QhiV7Wdy4hle"
      }
    },
    {
      "cell_type": "code",
      "source": [
        "## Set the URL to Casey's GitHub page where the dataset is located\n",
        "FileURL <- \"https://raw.githubusercontent.com/CaseyGio/Psyc6290/refs/heads/main/Datasets/Challenger.csv\"\n",
        "\n",
        "## Read the csv file from GitHub and create a new object\n",
        "Challenger <- read_csv(url(FileURL))\n",
        "\n",
        "## Check out the dataset\n",
        "head(Challenger, n = 10)"
      ],
      "metadata": {
        "id": "NKyYTwIo4sA-"
      },
      "execution_count": null,
      "outputs": []
    },
    {
      "cell_type": "markdown",
      "source": [
        "# Q2) Calculate descriptive statistics\n",
        "\n",
        "- A) Compute the mean and standard deviation for each of the continuous (i.e., non-categorical) variables.\n",
        "\n",
        "- B) For binary variables, calculate the relative frequencies of each category."
      ],
      "metadata": {
        "id": "tBaounyR5C_S"
      }
    },
    {
      "cell_type": "markdown",
      "source": [
        "# Q3) Describe the launch-day conditions, statistically\n",
        "\n",
        "The launch day temperature was 27-degree Fahrenheit. Based on the descriptive statistics above, calculate the *z*-score for a 27-degree day among the temperatures in the dataset.\n"
      ],
      "metadata": {
        "id": "ewkD8U5y5vA-"
      }
    },
    {
      "cell_type": "markdown",
      "source": [
        "# Q4) Visualizing temperature\n",
        "\n",
        "Create a boxplot to display the variability of temperature across the different tests."
      ],
      "metadata": {
        "id": "WZLSBTpK6eyh"
      }
    },
    {
      "cell_type": "markdown",
      "source": [
        "# Q5) Visualizing RQ1\n",
        "\n",
        "Based on RQ1, create a vbisualization of the relationship between (a) Temperature and (b) damage. Place the dependent variable on the y-axis and include axis labels and a figure title.\n",
        "\n",
        "**RQ1**: Given an expected launch temperature of 27 degrees, what is the predicted amount of damage to the O-rings?"
      ],
      "metadata": {
        "id": "lLJpvMG27KSx"
      }
    },
    {
      "cell_type": "markdown",
      "source": [
        "# Q6) Estimate regression model to address RQ1\n",
        "\n",
        "To address RQ1, estimate the appropriate regression model.\n",
        "\n",
        "**RQ1**: Given an expected launch temperature of 27 degrees, what is the predicted amount of damage to the O-rings?"
      ],
      "metadata": {
        "id": "0jS7NRJP7_qj"
      }
    },
    {
      "cell_type": "markdown",
      "source": [
        "# Q7) Answer RQ1 given our analyses thus far\n",
        "\n",
        "Please use the estimated regression model to answer our first research question: **Given an expected launch temperature of 27 degrees, what is the predicted amount of damage to the O-rings?**\n",
        "\n",
        "For reference, any damage (i.e., Damage > 1) is likely to cause the O-Rings to fail and potentially lead to disaster."
      ],
      "metadata": {
        "id": "g_CnY0kz85Ni"
      }
    },
    {
      "cell_type": "markdown",
      "source": [
        "# Q8) Visualizing RQ2\n",
        "\n",
        "Produce a visualization to depict the relationship expressed in RQ2. Place the dependent variable on the y-axis and include axis labels and a figure title.\n",
        "\n",
        "**RQ2**: Given an expected launch temperature of 27 degrees, what is the predicted probability of the O-rings having any amount of damage?"
      ],
      "metadata": {
        "id": "0eWLrAuO-csk"
      }
    },
    {
      "cell_type": "markdown",
      "source": [
        "# Q9) Estimate regression model to answer RQ2\n",
        "\n",
        "To address RQ2, estimate the appropriate regression model.\n",
        "\n",
        "**RQ2**: Given an expected launch temperature of 27 degrees, what is the predicted probability of the O-rings having any amount of damage?"
      ],
      "metadata": {
        "id": "gIfXdssA_X8n"
      }
    },
    {
      "cell_type": "markdown",
      "source": [
        "# Q10) Answer RQ2 given our analyses thus far\n",
        "\n",
        "Please use the estimated regression model to answer our second research question: **Given an expected launch temperature of 27 degrees, what is the predicted probability of the O-Rings having any amount of damage?**\n",
        "\n",
        "For reference, any damage (i.e., Damage > 1) is likely to cause the O-Rings to fail and potentially lead to disaster."
      ],
      "metadata": {
        "id": "vflEibQ1_vCD"
      }
    },
    {
      "cell_type": "markdown",
      "source": [
        "# Q11) What is your conclusion: Should we launch the challenger shuttle when the launch day temperature is 27-degrees?\n",
        "\n",
        "Based on all of the analyses above, state your opinion to the following: Based on the actual data from the test flights and our statistical models above, do you think we should launch the Challenger space shuttle when the expected temperature is 27 degrees? Why or why not?\n"
      ],
      "metadata": {
        "id": "gzDMFbiyAPxB"
      }
    }
  ]
}