{
  "nbformat": 4,
  "nbformat_minor": 0,
  "metadata": {
    "colab": {
      "provenance": [],
      "toc_visible": true
    },
    "kernelspec": {
      "name": "ir",
      "display_name": "R"
    },
    "language_info": {
      "name": "R"
    }
  },
  "cells": [
    {
      "cell_type": "markdown",
      "source": [
        "# Set runtime type to R\n",
        "\n",
        "In the Runtime dropdown, select \"change runtime type,\" and set it to R instead of Python."
      ],
      "metadata": {
        "id": "86e394ExH_xT"
      }
    },
    {
      "cell_type": "markdown",
      "source": [
        "# Exam instructions\n",
        "\n",
        "All topics covered thus far in the course are potentially fair game for this exam. Please complete your work *independently* but you are welcome to use the course resources:\n",
        "- Lecture videos\n",
        "\n",
        "- Demonstrations\n",
        "\n",
        "- Textbook\n",
        "\n",
        "- Previous activities & assignments.\n",
        "\n",
        "Using other sources, especially other students, is considered academic dishonesty."
      ],
      "metadata": {
        "id": "1I-uv833IByH"
      }
    },
    {
      "cell_type": "markdown",
      "source": [
        "# Our main research question\n",
        "\n",
        "We work for the people analytics department in a multinational organization seeking to forecast trends in demographics. The dataset used for this exam relate to the aggregated life expectancies of individuals living in different countries across time. There are roughly 50 countries represented for every year between 2012 and 2016. The values represent aggregated life expectancies in years of people in the respective country given the specified year. Today we are focusing on the expected age of people across the countries that have branches of our corporate offices (i.e., Libya, Zimbabwe, India, and China).\n",
        "\n",
        "## **Research Question #1**: What is the life expectency of people in the four countries our offices are located (i.e., Libya, Zimbabwe, India, and China)?\n",
        "\n",
        "## **Research Question #2**: What trends, if any, exist in the change in life expectancies for citizens in the specified countries?\n"
      ],
      "metadata": {
        "id": "FjgdH8z5IqNp"
      }
    },
    {
      "cell_type": "markdown",
      "source": [
        "# Q1: Load the packages\n",
        "\n",
        "For each of the following packages, write a line of code to load them:\n",
        "\n",
        "1) the ggplot2 package\n",
        "\n",
        "2) the tidyr package\n",
        "\n",
        "3) the readr package\n",
        "\n",
        "4) the dplyr package is required *if* you want to use the pipe operator"
      ],
      "metadata": {
        "id": "bUB4F7WlJg5d"
      }
    },
    {
      "cell_type": "code",
      "source": [
        "## Load your packages below:\n"
      ],
      "metadata": {
        "id": "QPRnE1T0JxtB"
      },
      "execution_count": null,
      "outputs": []
    },
    {
      "cell_type": "markdown",
      "source": [
        "# Q2: Import the data\n",
        "\n",
        "Import the LifeExpectancy.csv dataset file that can be found on our Canvas exam page. Make sure to include the code you used to import the dataset and to store the dataset as a new object (e.g., LifeExp)."
      ],
      "metadata": {
        "id": "agY7cMq4J0Z3"
      }
    },
    {
      "cell_type": "code",
      "source": [
        "## Import the LifeExpectancy dataset below:\n"
      ],
      "metadata": {
        "id": "Jm_qRYdfKHlP"
      },
      "execution_count": null,
      "outputs": []
    },
    {
      "cell_type": "markdown",
      "source": [
        "# Data wrangling and tidying\n",
        "\n",
        "The next section of the exam will have you wrangle and tidy the dataset so that is can be usable for our data analytic purposes."
      ],
      "metadata": {
        "id": "h02AvavIKBtJ"
      }
    },
    {
      "cell_type": "markdown",
      "source": [
        "## Q3: Transform the data from 'wide' to 'long' format\n",
        "\n",
        "Using the `pivot_longer()` function, create a new object that contains the 'long' form of the life expectancy dataset. Ensure the following columns are included in your new dataset object:\n",
        "\n",
        "- Country: the country of interest\n",
        "\n",
        "- Year: A new variable designating which year the data represent\n",
        "\n",
        "- Expectancy: A new variable representing the aggregated life expectancy"
      ],
      "metadata": {
        "id": "hPW1oWFzN3F_"
      }
    },
    {
      "cell_type": "code",
      "source": [
        "## Tidy the dataset using code below:\n"
      ],
      "metadata": {
        "id": "YW7r4VyTOewd"
      },
      "execution_count": null,
      "outputs": []
    },
    {
      "cell_type": "markdown",
      "source": [
        "## Q4: Filter data by country and year\n",
        "\n",
        "Using the long-format dataset created in Q3 above, use the `filter()` function to subset the data in the following ways:\n",
        "\n",
        "- Only retain entries from the years 2012 and 2016.\n",
        "\n",
        "- Only retain life expectancy data from the following countries: Libya, Zimbabwe, India, and China.\n",
        "\n",
        "Make sure to store these results in a new object for later use."
      ],
      "metadata": {
        "id": "kKpvA-wVOh9f"
      }
    },
    {
      "cell_type": "code",
      "source": [
        "## Write code to filter the data accordingly:\n"
      ],
      "metadata": {
        "id": "nqjw6sPQPQpX"
      },
      "execution_count": null,
      "outputs": []
    },
    {
      "cell_type": "markdown",
      "source": [
        "## Q5: Answer research question #1\n",
        "\n",
        "RQ1: What is the 2016 life expectency of people in the four countries our offices are located (i.e., Libya, Zimbabwe, India, and China)?\n",
        "\n",
        "Use some code to show the 2016 life expectancies for the four included countries. Answer in words the life expectancy for those countries.\n",
        "\n",
        "ANSWER: ..."
      ],
      "metadata": {
        "id": "t3K57R3fPT6d"
      }
    },
    {
      "cell_type": "code",
      "source": [
        "## Summarize the data in 2012 and 2016 below:\n"
      ],
      "metadata": {
        "id": "T_TVa-QaP7sx"
      },
      "execution_count": null,
      "outputs": []
    },
    {
      "cell_type": "markdown",
      "source": [
        "# Data visualization\n",
        "\n",
        "The last section of the exam will use some visualizations to help us answer our remaining question."
      ],
      "metadata": {
        "id": "0mltvCWrYuXH"
      }
    },
    {
      "cell_type": "markdown",
      "source": [
        "## Q6: Create a line graph\n",
        "\n",
        "Create a line graph visualization, using the object from Q4 above, to depict the 2012-to-2016 change in life expectancies for the four countries.\n"
      ],
      "metadata": {
        "id": "_webaQRWP_oX"
      }
    },
    {
      "cell_type": "code",
      "source": [
        "## Create a line graph below:\n"
      ],
      "metadata": {
        "id": "lz5nnEWvZR4Z"
      },
      "execution_count": null,
      "outputs": []
    },
    {
      "cell_type": "markdown",
      "source": [
        "## Q7: Answer Research Question #2\n",
        "\n",
        "Research Question #2: What trends, if any, exist in the change in life expectancies for citizens in the specified countries?\n",
        "\n",
        "Which country (or countries) made the biggest change? Any big increases or decreases?\n",
        "\n",
        "ANSWER: ...."
      ],
      "metadata": {
        "id": "anowCxcBZift"
      }
    }
  ]
}