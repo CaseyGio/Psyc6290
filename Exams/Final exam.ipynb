{
  "nbformat": 4,
  "nbformat_minor": 0,
  "metadata": {
    "colab": {
      "provenance": []
    },
    "kernelspec": {
      "name": "python3",
      "display_name": "Python 3"
    },
    "language_info": {
      "name": "python"
    }
  },
  "cells": [
    {
      "cell_type": "markdown",
      "source": [
        "# Change runtime type to R\n",
        "\n",
        "Remember, the first step when opening a Google Colab notebook is to change the runtime type to R from Python. Our code will not work otherwise!"
      ],
      "metadata": {
        "id": "873mEbopLD1m"
      }
    },
    {
      "cell_type": "markdown",
      "source": [
        "# Exam instructions\n",
        "\n",
        "This exam is only semi-structured. You will have to identify your own research question that we can analyze with the concepts we have learned in class. The dataset is a simulated HR data set so we will put into practice our IO and data analysis knowledge to tackle \"real\" questions.\n",
        "\n",
        "**In this exam, you will need to do the following**:\n",
        "\n",
        "1) Create a research question based on the described dataset below\n",
        "\n",
        "2) Identify **one outcome** variable and **two predictor** variables. The outcome can be either continuous or binary (i.e., we can use multiple regression or logistic regression).\n",
        "\n",
        "3) Complete the outline of typical data analysis procedures we have learned in this class."
      ],
      "metadata": {
        "id": "N8uMfJapMCCh"
      }
    },
    {
      "cell_type": "markdown",
      "source": [
        "## Permissible knowledge sources\n",
        "\n",
        "1) You may use any code from (a) lectures, (b) textbook readings, and (c) demonstrations or other class activities/assignments.\n",
        "\n",
        "2) AI use: You may use AI (Gemini) to help identify/debug errors in your code. You **may not** use AI to generate code *for you*. Ensure your settings are such that it does not automatically generate code for you. That will constitute academic dishonesty. I have very specific function use and my own coding style that I follow so it is easy for me to identify code or styles that we have not used in this class.\n",
        "\n",
        "3) You **may not* discuss the exam with your peers or seek help from them. You **can** ask me for help, I can certainly help guide you and help you progress if you are stuck."
      ],
      "metadata": {
        "id": "97PItmfcUWKc"
      }
    },
    {
      "cell_type": "markdown",
      "source": [
        "# Exam dataset description\n",
        "\n",
        "- **Employee_Name**: Full name of the employee (Last, First).\n",
        "\n",
        "- **EmpID**:  Unique employee identification number.\n",
        "\n",
        "- **MarriedID**:  Binary indicator (0 = Not Married, 1 = Married).\n",
        "\n",
        "- **MaritalStatusID**:  Encoded marital status category (e.g., 0 = Single, 1 = Married, 2 = Divorced).\n",
        "\n",
        "- **GenderID**: Encoded gender identifier (e.g., 0 = Female, 1 = Male).\n",
        "\n",
        "- **DeptID**: Encoded department identifier (i.e., 1 = admin offices, 2 = executive office, 3 = IT/IS, 4 = software engineering, 5 = Production, 6 = sales). This variable corresponds to the `Department` variable.\n",
        "\n",
        "- **PerfScoreID**: Encoded performance score rating (i.e., 1 = PIP [performance improvement plan], 2 = needs improvement, 3 = fully meets expecations, 4 = exceeds expectations). Corresponds to the `PerformanceScore` variable.\n",
        "\n",
        "- **FromDiversityJobFairID**: Binary indicator if hired through a diversity job fair (0 = No, 1 = Yes).\n",
        "\n",
        "- **Salary** Current annual salary in U.S. dollars.\n",
        "\n",
        "- **Termd**: Termination status (0 = Active, 1 = Terminated).\n",
        "\n",
        "- **PositionID**: Encoded job position identifier. Numeric encoding of the `position` variable.\n",
        "\n",
        "- **Position**: Title of the employee's position.\n",
        "\n",
        "- **State**: U.S. state abbreviation where employee is based.\n",
        "\n",
        "- **Zip**:  Postal code of the employee's work location.\n",
        "\n",
        "- **DOB**:  Date of birth of the employee (MM/DD/YYYY).\n",
        "\n",
        "- **Sex**:  Sex of the employee (i.e., M = male, F = female).\n",
        "\n",
        "- **MaritalDesc**:  Text description of marital status (e.g., Single, Married, Divorced).\n",
        "\n",
        "- **CitizenDesc**:  Citizenship status description (e.g., U.S. Citizen, Non-Citizen).\n",
        "\n",
        "- **HispanicLatino**:  Binary indicator for Hispanic or Latino ethnicity (Yes/No).\n",
        "\n",
        "- **RaceDesc**:  Text description of race category.\n",
        "\n",
        "- **DateofHire**:  Date the employee was hired (MM/DD/YYYY).\n",
        "\n",
        "- **DateofTermination**:  Date the employee's employment ended (MM/DD/YYYY).\n",
        "\n",
        "- **TermReason**:  Reason for termination if applicable.\n",
        "\n",
        "- **EmploymentStatus**:  Full employment status description (e.g., Active, Terminated, Leave of Absence).\n",
        "\n",
        "- **Department**:  Name of the department the employee belongs to.\n",
        "\n",
        "- **ManagerName**:  Full name of the employee's manager.\n",
        "\n",
        "- **ManagerID**:  Encoded identifier for the manager.\n",
        "\n",
        "- **RecruitmentSource**:  Source through which the employee was recruited (e.g., LinkedIn, Indeed).\n",
        "\n",
        "- **PerformanceScore**:  Text rating of performance (e.g., Exceeds, Fully Meets, Needs Improvement).\n",
        "\n",
        "- **EngagementSurvey**:  Employee engagement survey score (0.0–5.0 scale).\n",
        "\n",
        "- **EmpSatisfaction**:  Employee self-reported satisfaction score (1–5 scale).\n",
        "\n",
        "- **SpecialProjectsCount**:  Number of special projects the employee has been assigned.\n",
        "\n",
        "- **LastPerformanceReview_Date**:  Date of the last performance review (MM/DD/YYYY).\n",
        "\n",
        "- **DaysLateLast30**:  Number of days the employee was late in the last 30 days.\n",
        "\n",
        "- **Absences**:  Total number of absences in the past year."
      ],
      "metadata": {
        "id": "2Hz-e6P6ND5k"
      }
    },
    {
      "cell_type": "markdown",
      "source": [
        "# 1) State your research question and identify the outcome and two predictor variables:\n",
        "\n",
        "Research question: ...\n",
        "\n",
        "Outcome variable: ...\n",
        "\n",
        "Predictor 1: ...\n",
        "\n",
        "Predictor 2: ..."
      ],
      "metadata": {
        "id": "tHkyG8FkQadQ"
      }
    },
    {
      "cell_type": "markdown",
      "source": [
        "# 2) Load the packages we will need\n",
        "\n",
        "Make sure to install any needed packages, too."
      ],
      "metadata": {
        "id": "I-ZcD99UQnWI"
      }
    },
    {
      "cell_type": "code",
      "execution_count": null,
      "metadata": {
        "id": "SIoJGAJhK7TM"
      },
      "outputs": [],
      "source": []
    },
    {
      "cell_type": "markdown",
      "source": [
        "# Load the data\n",
        "\n",
        "This step is completed for you, be sure to load the data below."
      ],
      "metadata": {
        "id": "p6m_s_CMQ0Hn"
      }
    },
    {
      "cell_type": "code",
      "source": [
        "## Set the URL to Casey's GitHub page where the dataset is located\n",
        "FileURL <- \"https://raw.githubusercontent.com/CaseyGio/Psyc6290/refs/heads/main/Datasets/HRData.csv\"\n",
        "\n",
        "## Read the csv file from GitHub and create a new object\n",
        "hr <- read_csv(url(FileURL))\n",
        "\n",
        "## Check out the dataset\n",
        "head(hr, n = 10)"
      ],
      "metadata": {
        "id": "K53XjTCsQ6cD"
      },
      "execution_count": null,
      "outputs": []
    },
    {
      "cell_type": "markdown",
      "source": [
        "# 3) Data cleaning\n",
        "\n",
        "- If a(n) variable(s) should be cleaned to better analyze or visualize the data, please do so here.\n",
        "\n",
        "- If you think data *do not* need any additional cleaning, please state why you think the variables are already cleaned.\n",
        "\n",
        "Note: This is not a trick question, there are a variety of variables in this dataset. Both can be acceptable choices, just defend your answer if no cleaning was done."
      ],
      "metadata": {
        "id": "LIbV1Ur0Q-Oz"
      }
    },
    {
      "cell_type": "code",
      "source": [],
      "metadata": {
        "id": "5kNhM7BWRddE"
      },
      "execution_count": null,
      "outputs": []
    },
    {
      "cell_type": "markdown",
      "source": [
        "# 4) Visualization(s) and interpretation\n",
        "\n",
        "Generate an appropriate visualization based on your specified research question.\n",
        "\n",
        "- Describe the resulting visualization(s), what pattern(s) start to emerge from this stage?"
      ],
      "metadata": {
        "id": "wNp4iamNRd18"
      }
    },
    {
      "cell_type": "code",
      "source": [],
      "metadata": {
        "id": "M-7Z0qIdR770"
      },
      "execution_count": null,
      "outputs": []
    },
    {
      "cell_type": "markdown",
      "source": [
        "# 5) Estimate and interpret an interaction effects model\n",
        "\n",
        "Estimate an interaction-effects model to address your specific research question. Be sure to use the correct method (i.e., multiple regression or logistic regression).\n",
        "\n",
        "Interpret each of the following parameters by describing what the obtained value means and it relates to the model & outcome:\n",
        "\n",
        "- y-intercept:\n",
        "\n",
        "- predictor 1 slope:\n",
        "\n",
        "- predictor 2 slope:"
      ],
      "metadata": {
        "id": "TcSXykjiR8uN"
      }
    },
    {
      "cell_type": "code",
      "source": [],
      "metadata": {
        "id": "hM_dMqdJSzOt"
      },
      "execution_count": null,
      "outputs": []
    },
    {
      "cell_type": "markdown",
      "source": [
        "# 6) Interpret the significance of parameters and the overall model fit\n",
        "\n",
        "- Calculate (e.g., via a function) the overall model fit, what is our $R^2$ value and what does that mean?\n",
        "\n",
        "- Given a significance threshold of $\\alpha = 0.05$, interpret whether the estimated parameters are statistically significant or not."
      ],
      "metadata": {
        "id": "4qOE20nfSzgs"
      }
    },
    {
      "cell_type": "code",
      "source": [],
      "metadata": {
        "id": "IcoeEdssTRTM"
      },
      "execution_count": null,
      "outputs": []
    },
    {
      "cell_type": "markdown",
      "source": [
        "# 7) Compare the interaction model to a main effect model\n",
        "\n",
        "Estimate a similar model that only include main effects (i.e., same outcome and predictors). Then compare the interaction and main effect models to see, based on a significance threshold of $\\alpha = 0.05$, which model is a better fit for the data."
      ],
      "metadata": {
        "id": "qe56sIxBTRjM"
      }
    },
    {
      "cell_type": "code",
      "source": [],
      "metadata": {
        "id": "uZp9iXxpT-Bl"
      },
      "execution_count": null,
      "outputs": []
    },
    {
      "cell_type": "markdown",
      "source": [
        "# 8) Address your main research question\n",
        "\n",
        "Given our data analyses, what can we conclude about the main research question? Please be descriptive and draw upon the answers to multiple questions from above (e.g., visualization, interaction model, model fit, statistical significance).\n",
        "\n",
        "Research question answer: ...\n",
        "\n"
      ],
      "metadata": {
        "id": "JiI6sQfUTqZs"
      }
    }
  ]
}