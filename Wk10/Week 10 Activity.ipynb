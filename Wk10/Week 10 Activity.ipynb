{
  "nbformat": 4,
  "nbformat_minor": 0,
  "metadata": {
    "colab": {
      "provenance": []
    },
    "kernelspec": {
      "name": "ir",
      "display_name": "R"
    },
    "language_info": {
      "name": "R"
    }
  },
  "cells": [
    {
      "cell_type": "markdown",
      "source": [
        "# Change runtime type to R\n",
        "\n",
        "Remember, the first step when opening a Google Colab notebook is to change the runtime type to R from Python. Our code will not work otherwise!"
      ],
      "metadata": {
        "id": "5yTTEe761c2d"
      }
    },
    {
      "cell_type": "markdown",
      "source": [
        "# Research questions\n",
        "\n",
        "In this activity, you will explore the factors that influence the likelihood of employees receiving a promotion within an organization. Using a hypothetical dataset, you will perform logistic regression analysis to understand how variables such as years of experience and job satisfaction affect the probability of promotion.\n",
        "\n",
        "**Research Questions**\n",
        "\n",
        "RQ: How do the main-effects and interaction-effects models compare for the influences of years of experience and job satisfaction on probability of an employee receiving a promotion."
      ],
      "metadata": {
        "id": "YYrI4Qa42FbW"
      }
    },
    {
      "cell_type": "markdown",
      "source": [
        "# 1) Install and load the packages\n",
        "\n",
        "Install two packages:\n",
        "\n",
        "- easystats\n",
        "\n",
        "- interactions\n",
        "\n",
        "Load three packages:\n",
        "\n",
        "- easystats\n",
        "\n",
        "- interactions\n",
        "\n",
        "- tidyverse"
      ],
      "metadata": {
        "id": "6BPKVEjL2yR7"
      }
    },
    {
      "cell_type": "code",
      "source": [
        "## Install packages\n"
      ],
      "metadata": {
        "id": "MqeMvmH31ekV"
      },
      "execution_count": null,
      "outputs": []
    },
    {
      "cell_type": "code",
      "source": [
        "## Load packages\n"
      ],
      "metadata": {
        "id": "vhqebv293EIS"
      },
      "execution_count": null,
      "outputs": []
    },
    {
      "cell_type": "markdown",
      "source": [
        "# Load the dataset\n",
        "\n",
        "Employee promotion variables:\n",
        "\n",
        "- **promotion (binary)**: 1 if the employee received a promotion, 0 otherwise.\n",
        "\n",
        "- **years_experience (continuous)**: Number of years of work experience.\n",
        "\n",
        "- **job_satisfaction (continuous)**: Job satisfaction score on a scale from 1 to 10."
      ],
      "metadata": {
        "id": "B8Jgg0781ddd"
      }
    },
    {
      "cell_type": "code",
      "execution_count": null,
      "metadata": {
        "id": "9-gWQKQE1aGg"
      },
      "outputs": [],
      "source": [
        "## Set the URL to Casey's GitHub page where the dataset is located\n",
        "FileURL <- \"https://raw.githubusercontent.com/CaseyGio/Psyc6290/refs/heads/main/Datasets/Promotions.csv\"\n",
        "\n",
        "## Read the csv file from GitHub and create a new object\n",
        "promo <- read_csv(url(FileURL))\n",
        "\n",
        "## Check out the dataset\n",
        "head(promo, n = 10)"
      ]
    },
    {
      "cell_type": "markdown",
      "source": [
        "# 3) Descriptive statistics\n",
        "\n",
        "Using code, provide descriptive statistics for each of the variables related to our research question."
      ],
      "metadata": {
        "id": "jX542yti3qfY"
      }
    },
    {
      "cell_type": "code",
      "source": [
        "# Compute descriptive statistics for continuous variables\n"
      ],
      "metadata": {
        "id": "OOphEhBq30qP"
      },
      "execution_count": null,
      "outputs": []
    },
    {
      "cell_type": "code",
      "source": [
        "# Proportions for the binary DV\n"
      ],
      "metadata": {
        "id": "1AzsggbO4Ggo"
      },
      "execution_count": null,
      "outputs": []
    },
    {
      "cell_type": "markdown",
      "source": [
        "# 4) Estimate two logistic regression models\n",
        "\n",
        "Estimate the logistic regression models necessary to answer our research question.\n",
        "\n"
      ],
      "metadata": {
        "id": "5HnEAM_M4XTX"
      }
    },
    {
      "cell_type": "code",
      "source": [
        "## Estimate first model\n"
      ],
      "metadata": {
        "id": "bvF-QHlX45XM"
      },
      "execution_count": 17,
      "outputs": []
    },
    {
      "cell_type": "code",
      "source": [
        "## Estimate second model\n",
        "  ## Data is AffairsClean dataframe"
      ],
      "metadata": {
        "id": "H9wcUTLV5IvZ"
      },
      "execution_count": 18,
      "outputs": []
    },
    {
      "cell_type": "markdown",
      "source": [
        "# 5) Compare model performance\n",
        "\n",
        "Address our research question by comparing the model parameters and the model performances.\n",
        "\n",
        "**Which model should we prefer, the main- or interaction-effects model and why?**"
      ],
      "metadata": {
        "id": "M3XQqDMn9G9_"
      }
    },
    {
      "cell_type": "code",
      "source": [
        "## Compare model performance\n"
      ],
      "metadata": {
        "id": "P2Wt-5mO9ARP"
      },
      "execution_count": null,
      "outputs": []
    },
    {
      "cell_type": "code",
      "source": [
        "## Compare model parameters\n"
      ],
      "metadata": {
        "id": "OomYmahK-BLN"
      },
      "execution_count": null,
      "outputs": []
    },
    {
      "cell_type": "markdown",
      "source": [
        "# 6) Create a simple slopes visualization\n",
        "\n",
        "Create a simple slopes visualization to represent the interaction effect model. You must choose (a) which variable to hold constant and (b) what levels of that variable to hold constant. Pick 3 to 5 levels of a variable to hold constant.\n",
        "\n",
        "Note that job satisfaction scores range from 0 to 10 and years of experience scores range from almost 1 to ~11.5 years."
      ],
      "metadata": {
        "id": "ljKParTC5OUS"
      }
    },
    {
      "cell_type": "code",
      "source": [
        "## Simple slopes visualization\n"
      ],
      "metadata": {
        "id": "6xP03alL5bIH"
      },
      "execution_count": null,
      "outputs": []
    },
    {
      "cell_type": "markdown",
      "source": [
        "# 7) Interpret the models\n",
        "\n",
        "Based on the results above (e.g., model performance, model parameters, visualization), interpret our logistic regression model. What do the specific parameters in our logistic regression model mean? You can answer based on the raw or exponentiated parameter values, you can generate predicted probabilities at certain levels, you can use the Divide-by-4 rule, etc.\n",
        "\n",
        "7a) What does each main effect tell us?\n",
        "\n",
        "7b) If we selected the interaction model, what does the interaction term tell us?"
      ],
      "metadata": {
        "id": "o8P4SO3O-GjN"
      }
    }
  ]
}