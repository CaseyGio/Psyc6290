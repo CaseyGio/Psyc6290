{
  "nbformat": 4,
  "nbformat_minor": 0,
  "metadata": {
    "colab": {
      "provenance": []
    },
    "kernelspec": {
      "name": "ir",
      "display_name": "R"
    },
    "language_info": {
      "name": "R"
    }
  },
  "cells": [
    {
      "cell_type": "markdown",
      "source": [
        "# Change runtime type to R\n",
        "\n",
        "Remember, the first step when opening a Google Colab notebook is to change the runtime type to R from Python. Our code will not work otherwise!"
      ],
      "metadata": {
        "id": "xtdk2rV4sT4-"
      }
    },
    {
      "cell_type": "markdown",
      "source": [
        "# Research question\n",
        "\n",
        "The sinking of the Titanic caused a boat-load of shock and publicity. An engineering marvel was bested by a few chunks of ice and many died as a result. But did all passengars have the same chance for surival? Let's don our tinfoil hats and explore the actual data from the Titanic's fatal voyage to see what really caused those deaths.\n",
        "\n",
        "**RQ1: Does paying more for a ticket on the Titanic relate to changes in our survival odds?**  \n",
        "\n",
        "In other words, we are using statistical arguments to test the old philosophical aphorism: Mo money, mo problems"
      ],
      "metadata": {
        "id": "LulW_TQUsWfA"
      }
    },
    {
      "cell_type": "markdown",
      "source": [
        "# 1) Install and load the packages\n",
        "\n",
        "Install the easystats package\n",
        "\n",
        "Load the following packages:\n",
        "\n",
        "- tidyverse\n",
        "\n",
        "- easystats"
      ],
      "metadata": {
        "id": "d7ULDpQrr2tk"
      }
    },
    {
      "cell_type": "code",
      "execution_count": null,
      "metadata": {
        "id": "j0xaOS3Sr0cn"
      },
      "outputs": [],
      "source": [
        "## Install package\n"
      ]
    },
    {
      "cell_type": "code",
      "source": [
        "## Load packages\n"
      ],
      "metadata": {
        "id": "sC0TlwFtsGYS"
      },
      "execution_count": null,
      "outputs": []
    },
    {
      "cell_type": "markdown",
      "source": [
        "# Load the dataset\n",
        "\n",
        "Load the Titanic dataset from my GitHub page.\n",
        "\n",
        "Variables in the dataset:\n",
        "\n",
        "- PassengerID (Numeric): A scalar representing the ID for each passengar.\n",
        "\n",
        "- Survived (Binary): Index variable representing whether passengers survived (0 = No, 1 = Yes) the Titanic's fatal voyage.\n",
        "\n",
        "- Pclass (Categorical): The ticket class for the passengars (1 = 1st class, 2 = 2nd class, 3 = 3rd class).\n",
        "\n",
        "- Name (Character): The names of passengers.\n",
        "\n",
        "- Sex (Character): The sex of passengers, options are 'male' and 'female'.\n",
        "\n",
        "- Age (Numeric): The ages of each passengar in years.\n",
        "\n",
        "- SibSp (Numeric): The number of siblings / spouses aboard the Titanic.\n",
        "\n",
        "- Parch (Numeric): The number of parents or children aboard the Titanic.\n",
        "\n",
        "- Ticket (Character): The alpha-numeric ticket number of passengars.\n",
        "\n",
        "- Fare (Numeric): The cost of the fare for passengars to board the Titanic."
      ],
      "metadata": {
        "id": "Oe7388QlsGEA"
      }
    },
    {
      "cell_type": "code",
      "source": [
        "## Set the URL to Casey's GitHub page where the dataset is located\n",
        "FileURL <- \"https://raw.githubusercontent.com/CaseyGio/Psyc6290/refs/heads/main/Datasets/Titanic.csv\"\n",
        "\n",
        "## Read the csv file from GitHub and create a new object\n",
        "Titanic <- read_csv(url(FileURL))\n",
        "\n",
        "## Check out the dataset\n",
        "head(Titanic, n = 10)"
      ],
      "metadata": {
        "id": "06KGdK9TsjIi"
      },
      "execution_count": null,
      "outputs": []
    },
    {
      "cell_type": "markdown",
      "source": [
        "# Q2) Calculate descriptive statistics\n",
        "\n",
        "Calculate some relevant descriptive statistics for\n",
        "\n",
        "1. the continuous IV predictor and\n",
        "\n",
        "2. the binary DV outcome\n"
      ],
      "metadata": {
        "id": "JDc8mW9su5se"
      }
    },
    {
      "cell_type": "code",
      "source": [
        "## Calculate the descriptive statistics for the IV\n"
      ],
      "metadata": {
        "id": "NHxgvuRN2UQw"
      },
      "execution_count": null,
      "outputs": []
    },
    {
      "cell_type": "code",
      "source": [
        "## Find the proportion of survivors or rate of survival\n"
      ],
      "metadata": {
        "id": "l4m7-9QcuUKY"
      },
      "execution_count": null,
      "outputs": []
    },
    {
      "cell_type": "markdown",
      "source": [
        "# Q3) Visualize the logistic curve for the research question\n",
        "\n",
        "Create a scatterplot with a logistic (S-shaped) curve that helps us visualize the research question."
      ],
      "metadata": {
        "id": "t0WKeXMwvzW0"
      }
    },
    {
      "cell_type": "code",
      "source": [
        "## Show the relationship between survival and passengar fares\n"
      ],
      "metadata": {
        "id": "jZD8YYAwvX9I"
      },
      "execution_count": null,
      "outputs": []
    },
    {
      "cell_type": "markdown",
      "source": [
        "# Q4) Estimate the logistic regression model\n",
        "\n",
        "Estimate the logistic regression model, with one IV, to help us answer the main research question:\n",
        "\n",
        "**RQ1: Does paying more for a ticket on the Titanic relate to changes in our survival odds?**"
      ],
      "metadata": {
        "id": "aRdnS3SQyQcG"
      }
    },
    {
      "cell_type": "code",
      "source": [
        "## Estimate the logistic regression model\n"
      ],
      "metadata": {
        "id": "MStkOI06xXIe"
      },
      "execution_count": 18,
      "outputs": []
    },
    {
      "cell_type": "markdown",
      "source": [
        "# Q5) Interpret the output\n",
        "\n",
        "To interpret the output, state\n",
        "\n",
        "1. whether the relationship between the IV and DV is positive or negative (and how you know) and\n",
        "\n",
        "2. how to interpret the slope and intercept terms from our model output (raw and/or exponentiated)"
      ],
      "metadata": {
        "id": "4ekkk3diz2k0"
      }
    },
    {
      "cell_type": "code",
      "source": [
        "## Show the parameters from the model\n"
      ],
      "metadata": {
        "id": "ZEnaRbb60Ed8"
      },
      "execution_count": null,
      "outputs": []
    },
    {
      "cell_type": "code",
      "source": [
        "## Show the exponentiated model parameters\n"
      ],
      "metadata": {
        "id": "VNbQI_650JvK"
      },
      "execution_count": null,
      "outputs": []
    },
    {
      "cell_type": "markdown",
      "source": [
        "# Q6) Model-based prediction\n",
        "\n",
        "There is a broad range of passenger fare rates (heavily skewed, very few highly expensive tickets). What is our predicted survival probability if we spent the following amounts on our tickets:\n",
        "\n",
        "- $10\n",
        "\n",
        "- $30\n",
        "\n",
        "- $90\n",
        "\n",
        "Note: Make sure to create a variable that uses the same name as the variable estimated in our regression model."
      ],
      "metadata": {
        "id": "w5tk2vKC1fnG"
      }
    },
    {
      "cell_type": "code",
      "source": [
        "## Create data frame with variable levels to predict\n"
      ],
      "metadata": {
        "id": "6_zK1fU71l-y"
      },
      "execution_count": null,
      "outputs": []
    },
    {
      "cell_type": "markdown",
      "source": [
        "# Q7) Answer our research question\n",
        "\n",
        "Recall that our research question is the following: **RQ1: Does paying more for a ticket on the Titanic relate to changes in our survival odds?**\n",
        "\n",
        "Answer, in words, our research question by using the evidence (i.e., statistics, visualizations) you created above.\n",
        "\n",
        "ANSWER: ...."
      ],
      "metadata": {
        "id": "l1RHstcI3I7-"
      }
    }
  ]
}