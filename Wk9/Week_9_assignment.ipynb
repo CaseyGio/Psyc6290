{
  "nbformat": 4,
  "nbformat_minor": 0,
  "metadata": {
    "colab": {
      "provenance": []
    },
    "kernelspec": {
      "name": "ir",
      "display_name": "R"
    },
    "language_info": {
      "name": "R"
    }
  },
  "cells": [
    {
      "cell_type": "markdown",
      "source": [
        "# Change runtime type to R\n",
        "\n",
        "Remember, the first step when opening a Google Colab notebook is to change the runtime type to R from Python. Our code will not work otherwise!"
      ],
      "metadata": {
        "id": "K2uA--WrSclm"
      }
    },
    {
      "cell_type": "markdown",
      "source": [
        "# Overview & Research questions\n",
        "\n",
        "The Bechdel Test, named after cartoonist Alison Bechdel, is a simple measure to assess the representation of women in movies. It originated from a comic (hopefully linked below).\n",
        "\n",
        "![Bechdel Test](https://cdn.theatlantic.com/thumbor/j_WvIx7JVnUxFG4f-3Quw_lcd_Q=/630x419/media/img/posts/2015/08/bechdel/original.jpg)\n",
        "\n",
        "To pass the test, a movie must have the following:\n",
        "\n",
        "1. At least two women in it.\n",
        "\n",
        "2. These women must talk to each other.\n",
        "\n",
        "3. Their conversation must be about something *other* than a man.\n",
        "\n",
        "Today, we will explore how the amount of money allocated for a film's budget is related to whether that film passes the Bechdel Test. Specifically:\n",
        "\n",
        "**RQ: Does the budget (adjusted to 2013 dollars) of a movie relate to the likelihood of passing the Bechdel Test?**\n",
        "\n"
      ],
      "metadata": {
        "id": "lHI2gIuuSfKI"
      }
    },
    {
      "cell_type": "markdown",
      "source": [
        "# Q1) Load packages and data\n",
        "\n",
        "Install the easystats package.\n",
        "\n",
        "Load the tidyverse and easystats packages."
      ],
      "metadata": {
        "id": "2MKCK7IeUwSG"
      }
    },
    {
      "cell_type": "code",
      "execution_count": null,
      "metadata": {
        "id": "ozYOTVwwSYeL"
      },
      "outputs": [],
      "source": [
        "## Install easystats\n"
      ]
    },
    {
      "cell_type": "code",
      "source": [
        "## Load packages\n"
      ],
      "metadata": {
        "id": "uEpZ-jzCU7dq"
      },
      "execution_count": null,
      "outputs": []
    },
    {
      "cell_type": "markdown",
      "source": [
        "## Describing the dataset\n",
        "\n",
        "The dataset comes for an old statistics-focused news website called Fivethirtyeight. These data contain information about movies and their performance on the Bechdel Test. Included in the dataset are the following variables:\n",
        "\n",
        "- `BechdelTest` (Binary): Index to represent whether a movie passedthe Bechdel Test or not (1 = Passed, 0 = Failed)\n",
        "\n",
        "- `title` (Character): The title of the movie\n",
        "\n",
        "- `year` (Numeric): Year the movie was released\n",
        "\n",
        "- `decade` (Categorical): Decade the movie was released\n",
        "\n",
        "- `budget2013` (Numeric): Budget adjusted to 2013 dollars\n",
        "\n",
        "- `domgross2013` (Numeric): Domestic gross profits adjusted to 2013 dollars\n",
        "\n",
        "- `intgross2013` (Numeric): International gross profits adjusted to 2013 dollars\n"
      ],
      "metadata": {
        "id": "hzMogLoZVB1a"
      }
    },
    {
      "cell_type": "code",
      "source": [
        "## Set the URL to Casey's GitHub page where the dataset is located\n",
        "FileURL <- \"https://raw.githubusercontent.com/CaseyGio/Psyc6290/refs/heads/main/Datasets/BechdelTest.csv\"\n",
        "\n",
        "## Read the csv file from GitHub and create a new object\n",
        "Bechdel <- read_csv(url(FileURL))\n",
        "\n",
        "## Check out the dataset\n",
        "head(Bechdel, n = 10)"
      ],
      "metadata": {
        "id": "0kWpeA8hVHcW"
      },
      "execution_count": null,
      "outputs": []
    },
    {
      "cell_type": "markdown",
      "source": [
        "# Q2) Calculate descriptive statistics\n",
        "\n",
        "Calculate some relevant descriptive statistics for\n",
        "\n",
        "1. the continuous IV predictor and\n",
        "\n",
        "2. the binary DV outcome"
      ],
      "metadata": {
        "id": "xLWp_fGlXytZ"
      }
    },
    {
      "cell_type": "code",
      "source": [
        "## Calculate descriptive stats for IV\n"
      ],
      "metadata": {
        "id": "GIcDu22XWgbS"
      },
      "execution_count": null,
      "outputs": []
    },
    {
      "cell_type": "code",
      "source": [
        "## Calculate portion of DV\n"
      ],
      "metadata": {
        "id": "Dhb8OVB1Wynj"
      },
      "execution_count": null,
      "outputs": []
    },
    {
      "cell_type": "markdown",
      "source": [
        "# Q3) Visualize the logistic curve for the reseach question\n",
        "\n",
        "Create a scatterplot with the logistic (i.e., S-shaped curve) to help us visualize the research question."
      ],
      "metadata": {
        "id": "p2SOYNSlYTFo"
      }
    },
    {
      "cell_type": "code",
      "source": [
        "## Show the relationship between budget and Bechdel test\n"
      ],
      "metadata": {
        "id": "7Anrgpr0YcjI"
      },
      "execution_count": null,
      "outputs": []
    },
    {
      "cell_type": "markdown",
      "source": [
        "# Q4) Estimate the logistic regression model\n",
        "\n",
        "Estimate the logistic regression model to help us answer our main research question:\n",
        "\n",
        "**RQ: Does the budget (adjusted to 2013 dollars) of a movie relate to the likelihood of passing the Bechdel Test?**"
      ],
      "metadata": {
        "id": "awbD9hevY2ft"
      }
    },
    {
      "cell_type": "code",
      "source": [
        "## Estimate logistic regression model\n"
      ],
      "metadata": {
        "id": "Fn5vycnUZBH6"
      },
      "execution_count": null,
      "outputs": []
    },
    {
      "cell_type": "markdown",
      "source": [
        "# Q5) Interpret the output\n",
        "\n",
        "To interpret the output, state\n",
        "\n",
        "1. whether the relationship between the IV and DV is positive or negative (and how you know) and\n",
        "\n",
        "2. how to interpret the slope and intercept terms from our model output (raw and/or exponentiated)\n",
        "\n",
        "Note: When interpreting a variable here, it helps to keep in mind the \"units\". Here, \"one unit\" is \"one dollar\". In the context of movie budgets, one film may have 10 million more units than another film. Small coefficients *do not inherently* mean a small effect, the context of a unit is important here."
      ],
      "metadata": {
        "id": "cEgHeCz-ZLMR"
      }
    },
    {
      "cell_type": "code",
      "source": [
        "## Show model parameters\n"
      ],
      "metadata": {
        "id": "eASI9FdCZREe"
      },
      "execution_count": null,
      "outputs": []
    },
    {
      "cell_type": "code",
      "source": [
        "## Show exponentiated parameters\n"
      ],
      "metadata": {
        "id": "eY5Gw_JKZUGt"
      },
      "execution_count": null,
      "outputs": []
    },
    {
      "cell_type": "markdown",
      "source": [
        "# Q6) Model-based prediction\n",
        "\n",
        "There is a huge range of movie budgets we could look at so let's just identify the predicted probabilities of passing the Bechdel Test at some arbitrary values:\n",
        "\n",
        "- $1,000,000\n",
        "\n",
        "- $50,000,000\n",
        "\n",
        "- $100,000,000"
      ],
      "metadata": {
        "id": "xJI6UEjucA_H"
      }
    },
    {
      "cell_type": "code",
      "source": [
        "## Create a dataframe with variable levels to predict\n",
        "\n",
        "## Determine predicted probabilities\n"
      ],
      "metadata": {
        "id": "WvJVuim9cy3Z"
      },
      "execution_count": null,
      "outputs": []
    },
    {
      "cell_type": "markdown",
      "source": [
        "# Q7) Answer our research question\n",
        "\n",
        "Recall that our research question is the following: **RQ: Does the budget (adjusted to 2013 dollars) of a movie relate to the likelihood of passing the Bechdel Test?**\n",
        "\n",
        "Answer, in words, our research question by using the evidence (i.e., statistics, visualizations) created above.\n",
        "\n",
        "ANSWER: ......"
      ],
      "metadata": {
        "id": "fya_QK-rdvFg"
      }
    }
  ]
}