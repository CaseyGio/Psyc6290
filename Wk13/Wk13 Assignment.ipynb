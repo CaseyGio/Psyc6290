{
  "nbformat": 4,
  "nbformat_minor": 0,
  "metadata": {
    "colab": {
      "provenance": []
    },
    "kernelspec": {
      "name": "ir",
      "display_name": "R"
    },
    "language_info": {
      "name": "R"
    }
  },
  "cells": [
    {
      "cell_type": "markdown",
      "source": [
        "# Change runtime type to R\n",
        "\n",
        "Remember, the first step when opening a Google Colab notebook is to change the runtime type to R from Python. Our code will not work otherwise!"
      ],
      "metadata": {
        "id": "Xk2nC34lyri1"
      }
    },
    {
      "cell_type": "markdown",
      "source": [
        "# Research question\n",
        "\n",
        "We're turning to another sample from the original Cleary data to check for bias in a different variable: High School Rank (i.e., the class rank in their graduating high school class).\n",
        "\n",
        "**RQ**: Is selecting on High School Rank biased against a particular group?  "
      ],
      "metadata": {
        "id": "3IaNG5N9rzq_"
      }
    },
    {
      "cell_type": "markdown",
      "source": [
        "# 1) Load packages\n",
        "\n",
        "Install the `easystats` package then load it along with the `tidyverse` package."
      ],
      "metadata": {
        "id": "7MrQgWZ5u9yX"
      }
    },
    {
      "cell_type": "code",
      "execution_count": null,
      "metadata": {
        "id": "Ep35pQf8n9Bc"
      },
      "outputs": [],
      "source": [
        "## Install packages\n"
      ]
    },
    {
      "cell_type": "code",
      "source": [
        "## Load packages\n"
      ],
      "metadata": {
        "id": "-ewm5n3vsbdd"
      },
      "execution_count": null,
      "outputs": []
    },
    {
      "cell_type": "markdown",
      "source": [
        "# Load the data\n",
        "\n",
        "These today data were simulated from the correlation matrices on Table 3 (groups 1 & 3) from Cleary (1968). These data *perfectly* reproduce the correlation matrix--within rounding error--but the individual observations are computer generated (ask me for that code if you wish).  \n",
        "\n",
        "These data are from the original paper that the \"Cleary Model\" (i.e., using multiple regression with 1 continuous and 1 categorical predictor for a continuous outcome variable to detect discrimination).\n",
        "\n",
        "The following variables are used in our dataset:\n",
        "\n",
        "- **HSR**: Continuous variable transformed to a percentile score (i.e., ranges from 0 to 100 with 100 representing the top student in their HS class).\n",
        "\n",
        "- **Group**: A categorical variable designating the racial identity of the hypothetical student. Levels are \"Black\" and \"White\".\n",
        "\n",
        "- **GPA**: A continuous variable representing the college GPA (range from 0 to 4).\n",
        "\n",
        "Data originated from the follower paper: Cleary, T. A. (1968). Test bias: Prediction of grades of Negro and white students in integrated colleges. *Journal of Educational Measurement, 5*(2), 115-124."
      ],
      "metadata": {
        "id": "bTBYRuwssskR"
      }
    },
    {
      "cell_type": "code",
      "source": [
        "## Set the URL to Casey's GitHub page where the dataset is located\n",
        "FileURL <- \"https://raw.githubusercontent.com/CaseyGio/Psyc6290/refs/heads/main/Datasets/Cleary2.csv\"\n",
        "\n",
        "## Read the csv file from GitHub and create a new object\n",
        "Cleary <- read_csv(url(FileURL))\n",
        "\n",
        "## Check out the dataset\n",
        "head(Cleary, n = 10)"
      ],
      "metadata": {
        "id": "l-9ZxuBVs9vH"
      },
      "execution_count": null,
      "outputs": []
    },
    {
      "cell_type": "markdown",
      "source": [
        "# 2) Data cleaning\n",
        "\n",
        "Conver the `Group` variable to a factor in R. It may be helpful to create a new object (e.g., ClearyClean) to store this change."
      ],
      "metadata": {
        "id": "kNt_zknKvWYg"
      }
    },
    {
      "cell_type": "code",
      "source": [
        "## Convert group to factor\n"
      ],
      "metadata": {
        "id": "F91RLq1KvxED"
      },
      "execution_count": 5,
      "outputs": []
    },
    {
      "cell_type": "markdown",
      "source": [
        "# 3) Create scatterplot visualization for the Cleary regression model\n",
        "\n",
        "Create a scatterplot to show the relationship between HSR, Group, and GPA."
      ],
      "metadata": {
        "id": "rxDdoinHv_Uo"
      }
    },
    {
      "cell_type": "code",
      "source": [
        "## Create scatterplot\n"
      ],
      "metadata": {
        "id": "-0f9g5NiwN6f"
      },
      "execution_count": null,
      "outputs": []
    },
    {
      "cell_type": "markdown",
      "source": [
        "# 4) Main effect model estimation\n",
        "\n",
        "Estimate the main-effects regression model to predict GPA from the predictors in our Research Question."
      ],
      "metadata": {
        "id": "UH1gqnxcwc6K"
      }
    },
    {
      "cell_type": "code",
      "source": [
        "## Estimate main effect model\n"
      ],
      "metadata": {
        "id": "9kwQdLUTxU7I"
      },
      "execution_count": 7,
      "outputs": []
    },
    {
      "cell_type": "markdown",
      "source": [
        "## 5) Interpret the main effect model results\n",
        "\n",
        "Examine the estimated parameters in our regression model then address both prompts below:\n",
        "\n",
        "(a) State the null and alternative hypotheses for each parameter estimate\n",
        "\n",
        "(b) identify which parameters, if any, are statistically significant given an $\\alpha$ level of 0.05."
      ],
      "metadata": {
        "id": "OgGy6tCPwpy4"
      }
    },
    {
      "cell_type": "code",
      "source": [
        "## Show parameters\n"
      ],
      "metadata": {
        "id": "ghDaX5JwxZyI"
      },
      "execution_count": null,
      "outputs": []
    },
    {
      "cell_type": "markdown",
      "source": [
        "(a) H0: $\\beta_i = 0$ \\\\\n",
        " Ha: $\\beta_i \\neq 0$\n",
        "\n",
        "(b) each parameter is statistically significant"
      ],
      "metadata": {
        "id": "_lEEY_H8xdyE"
      }
    },
    {
      "cell_type": "markdown",
      "source": [
        "# 6) Interaction effect model\n",
        "\n",
        "Estimate the interaction-effects regression model to predict GPA from the predictors in our Research Question."
      ],
      "metadata": {
        "id": "3_6bd_4cxIu-"
      }
    },
    {
      "cell_type": "code",
      "source": [
        "## Estimate interaction model\n"
      ],
      "metadata": {
        "id": "RU_DZnjgxtdc"
      },
      "execution_count": null,
      "outputs": []
    },
    {
      "cell_type": "markdown",
      "source": [
        "## 7) Interpret the interaction effect model results\n",
        "\n",
        "Examine the estimated parameters in our regression model then address both prompts below:\n",
        "\n",
        "(a) State the null and alternative hypotheses for each parameter estimate\n",
        "\n",
        "(b) identify which parameters, if any, are statistically significant given an $\\alpha$ level of 0.05."
      ],
      "metadata": {
        "id": "8bTBrkJExPXe"
      }
    },
    {
      "cell_type": "markdown",
      "source": [
        "(a) H0: $\\beta_i = 0$ \\\\\n",
        " Ha: $\\beta_i \\neq 0$\n",
        "\n",
        "(b) HSR is not statistically significant."
      ],
      "metadata": {
        "id": "dENMSdxVx07a"
      }
    },
    {
      "cell_type": "markdown",
      "source": [
        "# 8) Compare the main- and interaction-effects models\n",
        "\n",
        "Use the `anova()` function to examine these nested models. Based on the output and an $\\alpha$ significance level of 0.05, determine which model is a better representation of the data."
      ],
      "metadata": {
        "id": "RFQ3G4hQyOo-"
      }
    },
    {
      "cell_type": "code",
      "source": [
        "## Compare models\n"
      ],
      "metadata": {
        "colab": {
          "base_uri": "https://localhost:8080/",
          "height": 160
        },
        "id": "f81YeO9fy2xy",
        "outputId": "9e842a83-542c-4b9a-853c-260357e5c25b"
      },
      "execution_count": 13,
      "outputs": [
        {
          "output_type": "display_data",
          "data": {
            "text/html": [
              "<table class=\"dataframe\">\n",
              "<caption>A anova: 2 × 6</caption>\n",
              "<thead>\n",
              "\t<tr><th></th><th scope=col>Res.Df</th><th scope=col>RSS</th><th scope=col>Df</th><th scope=col>Sum of Sq</th><th scope=col>F</th><th scope=col>Pr(&gt;F)</th></tr>\n",
              "\t<tr><th></th><th scope=col>&lt;dbl&gt;</th><th scope=col>&lt;dbl&gt;</th><th scope=col>&lt;dbl&gt;</th><th scope=col>&lt;dbl&gt;</th><th scope=col>&lt;dbl&gt;</th><th scope=col>&lt;dbl&gt;</th></tr>\n",
              "</thead>\n",
              "<tbody>\n",
              "\t<tr><th scope=row>1</th><td>197</td><td>109.5055</td><td>NA</td><td>      NA</td><td>      NA</td><td>         NA</td></tr>\n",
              "\t<tr><th scope=row>2</th><td>196</td><td>105.4679</td><td> 1</td><td>4.037589</td><td>7.503397</td><td>0.006726323</td></tr>\n",
              "</tbody>\n",
              "</table>\n"
            ],
            "text/markdown": "\nA anova: 2 × 6\n\n| <!--/--> | Res.Df &lt;dbl&gt; | RSS &lt;dbl&gt; | Df &lt;dbl&gt; | Sum of Sq &lt;dbl&gt; | F &lt;dbl&gt; | Pr(&gt;F) &lt;dbl&gt; |\n|---|---|---|---|---|---|---|\n| 1 | 197 | 109.5055 | NA |       NA |       NA |          NA |\n| 2 | 196 | 105.4679 |  1 | 4.037589 | 7.503397 | 0.006726323 |\n\n",
            "text/latex": "A anova: 2 × 6\n\\begin{tabular}{r|llllll}\n  & Res.Df & RSS & Df & Sum of Sq & F & Pr(>F)\\\\\n  & <dbl> & <dbl> & <dbl> & <dbl> & <dbl> & <dbl>\\\\\n\\hline\n\t1 & 197 & 109.5055 & NA &       NA &       NA &          NA\\\\\n\t2 & 196 & 105.4679 &  1 & 4.037589 & 7.503397 & 0.006726323\\\\\n\\end{tabular}\n",
            "text/plain": [
              "  Res.Df RSS      Df Sum of Sq F        Pr(>F)     \n",
              "1 197    109.5055 NA       NA        NA          NA\n",
              "2 196    105.4679  1 4.037589  7.503397 0.006726323"
            ]
          },
          "metadata": {}
        }
      ]
    },
    {
      "cell_type": "markdown",
      "source": [
        "# 9) Respond to our research question\n",
        "\n",
        "**RQ**: Is selecting on High School Rank biased against a particular group?\n",
        "\n",
        "Defend your answer with the data (i.e., tell me how you are using our models to make your conclusion)."
      ],
      "metadata": {
        "id": "R11GOwhCygQW"
      }
    }
  ]
}