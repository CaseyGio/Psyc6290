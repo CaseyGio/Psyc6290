{
  "nbformat": 4,
  "nbformat_minor": 0,
  "metadata": {
    "colab": {
      "provenance": []
    },
    "kernelspec": {
      "name": "ir",
      "display_name": "R"
    },
    "language_info": {
      "name": "R"
    }
  },
  "cells": [
    {
      "cell_type": "markdown",
      "source": [
        "# Change runtime type to R\n",
        "\n",
        "Remember, the first step when opening a Google Colab notebook is to change the runtime type to R from Python. Our code will not work otherwise!"
      ],
      "metadata": {
        "id": "P4JMOUqHzAHg"
      }
    },
    {
      "cell_type": "markdown",
      "source": [
        "# Research question\n",
        "\n",
        "As I/O professionals, we will explore a hypothetical dataset relating personality and social skills to evaluate the potential customer service skills of new hires.\n",
        "\n",
        "**RQ1: Can we improve our prediction of customer service skills by including an interaction effect between extraversion and social skills of job applicants?**"
      ],
      "metadata": {
        "id": "4yEfKrp0zBpI"
      }
    },
    {
      "cell_type": "markdown",
      "source": [
        "# Q1) Install & load packages\n",
        "\n",
        "We need to install two packages:\n",
        "- easystats\n",
        "- interactions\n",
        "\n",
        "Three packages to load:\n",
        "- easystats\n",
        "- tidyverse\n",
        "- interactions"
      ],
      "metadata": {
        "id": "0DHijyfDzas3"
      }
    },
    {
      "cell_type": "code",
      "execution_count": null,
      "metadata": {
        "id": "dL69_EJbygX7"
      },
      "outputs": [],
      "source": [
        "## Install packages\n"
      ]
    },
    {
      "cell_type": "code",
      "source": [
        "## Load packages\n"
      ],
      "metadata": {
        "id": "59Rg-YZdzh1-"
      },
      "execution_count": null,
      "outputs": []
    },
    {
      "cell_type": "markdown",
      "source": [
        "# Load the dataset\n",
        "\n",
        "These data are simulated (i.e., fake) but were designed with realistic parameter values based on research. Run the code below to load the data from Casey's GitHub.\n",
        "\n",
        "The data contain the following information:\n",
        "\n",
        "- Extraversion (Numeric): Aggregated scores on the extraversion dimension of personality.\n",
        "\n",
        "- SocialSkills (Numeric): An aggregated score of multiple social skill component variables.\n",
        "\n",
        "- CustomerService (Numeric): Performance ratings on the task of customer service of employed individuals."
      ],
      "metadata": {
        "id": "V5fj3N2nzj3e"
      }
    },
    {
      "cell_type": "code",
      "source": [
        "## Set the URL to Casey's GitHub page where the dataset is located\n",
        "FileURL <- \"https://raw.githubusercontent.com/CaseyGio/Psyc6290/refs/heads/main/Datasets/CustomerService.csv\"\n",
        "\n",
        "## Read the csv file from GitHub and create a new object\n",
        "SelectionData <- read_csv(url(FileURL))\n",
        "\n",
        "## Check out the dataset\n",
        "head(SelectionData, n = 10)"
      ],
      "metadata": {
        "id": "Nh1R-vD0z2vA"
      },
      "execution_count": null,
      "outputs": []
    },
    {
      "cell_type": "markdown",
      "source": [
        "# Q2) Standardize each of the three continuous variables in our dataset\n",
        "\n",
        "Standardize the three numeric variables to be in standardized (i.e., z-score) form. You may use whichever approach you'd like. Note: It is a good idea to run descriptive statistics on the standardized data to ensure they have a mean of 0 and SD of 1."
      ],
      "metadata": {
        "id": "QH5l02pW0FE9"
      }
    },
    {
      "cell_type": "code",
      "source": [
        "## Standardize variables\n"
      ],
      "metadata": {
        "id": "iexkjnkU1Fae"
      },
      "execution_count": null,
      "outputs": []
    },
    {
      "cell_type": "markdown",
      "source": [
        "# Q3) Estimate a main-effects model\n",
        "\n",
        "Estimate the baseline regression model to represent our main research question.\n",
        "\n",
        "Recall: **RQ1: Can we improve our prediction of customer service skills by including an interaction effect between extraversion and social skills of job applicants?**"
      ],
      "metadata": {
        "id": "LJlFUlZQ1Xws"
      }
    },
    {
      "cell_type": "code",
      "source": [
        "## Estimate main effects model for RQ1\n"
      ],
      "metadata": {
        "id": "mPFkHiZu1hUD"
      },
      "execution_count": null,
      "outputs": []
    },
    {
      "cell_type": "markdown",
      "source": [
        "# Q4) Estimate an interaction-effects model\n",
        "\n",
        "Estimate the interaction-effects model to represent our main research question.\n",
        "\n",
        "Recall: **RQ1: Can we improve our prediction of customer service skills by including an interaction effect between extraversion and social skills of job applicants?**"
      ],
      "metadata": {
        "id": "868n1M_e1rda"
      }
    },
    {
      "cell_type": "code",
      "source": [
        "## Esimate interaction model for RQ1\n"
      ],
      "metadata": {
        "id": "xWZVeiY31rJq"
      },
      "execution_count": null,
      "outputs": []
    },
    {
      "cell_type": "markdown",
      "source": [
        "# Q5) Compare model fit across both models\n",
        "\n",
        "a) Use one of the available functions to show the coefficients of determination (i.e., $R^2$) for both the main- and interaction-effects models.\n",
        "\n",
        "b) Calculate the difference between the coefficients of determination (i.e., calculate $\\Delta R^2$)"
      ],
      "metadata": {
        "id": "8HW8hzDl1_dB"
      }
    },
    {
      "cell_type": "code",
      "source": [
        "## Coefficients of determination\n"
      ],
      "metadata": {
        "id": "HMFjbVwd2Gdp"
      },
      "execution_count": null,
      "outputs": []
    },
    {
      "cell_type": "markdown",
      "source": [
        "# Q6) Create a simple slopes visualization\n",
        "\n",
        "Create a simple slopes visualization of the interaction effect model that (a) places Extraversion as the x-axis predictor and (b) SocialSkills as the 'held constant' variable with (c) levels of the SocialSkills variable held constant at -1, 0, and 1."
      ],
      "metadata": {
        "id": "3SC0U1Ta6n7I"
      }
    },
    {
      "cell_type": "code",
      "source": [
        "## Simple slopes visualization\n",
        "interact_plot()"
      ],
      "metadata": {
        "id": "tYQgQGya6nnn"
      },
      "execution_count": null,
      "outputs": []
    },
    {
      "cell_type": "markdown",
      "source": [
        "# Q7) Answer in words what your conclusions are about the main research question\n",
        "\n",
        "Recall our main RQ: **Can we improve our prediction of customer service skills by including an interaction effect between extraversion and social skills of job applicants?**\n",
        "\n",
        "To answer your question, examine (a) the coefficients of determination, (b) model parameters, and (c) the simple slopes graph to make a judgment call. Do we have support that an interaction effect is improving our prediction of employee customer service behaviors?\n",
        "\n",
        "ANSWER (justify your answer): ..."
      ],
      "metadata": {
        "id": "WwjalOzV65VW"
      }
    }
  ]
}