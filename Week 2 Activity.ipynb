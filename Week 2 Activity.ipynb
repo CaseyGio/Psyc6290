{
  "nbformat": 4,
  "nbformat_minor": 0,
  "metadata": {
    "colab": {
      "provenance": []
    },
    "kernelspec": {
      "name": "ir",
      "display_name": "R"
    },
    "language_info": {
      "name": "R"
    }
  },
  "cells": [
    {
      "cell_type": "markdown",
      "source": [
        "# Set runtime type to R\n",
        "\n",
        "In the Runtime dropdown, select \"change runtime type,\" and set it to R instead of Python."
      ],
      "metadata": {
        "id": "SP9D5lWBPfho"
      }
    },
    {
      "cell_type": "markdown",
      "source": [
        "# Load packages and data\n",
        "\n",
        "Before we can do any statistics, visualizations, etc., we need to get our tools and data ready!\n",
        "\n",
        "# Q1: In one line of code, load the \"ggplot2\" package."
      ],
      "metadata": {
        "id": "yEFrbPijP0tH"
      }
    },
    {
      "cell_type": "code",
      "execution_count": null,
      "metadata": {
        "id": "9HDpVQYJPb7t"
      },
      "outputs": [],
      "source": [
        "## Load the ggplot2 package\n"
      ]
    },
    {
      "cell_type": "markdown",
      "source": [
        "Q2: Our activity data are found inside R, call the object named iris"
      ],
      "metadata": {
        "id": "TsudKkPlQLDa"
      }
    },
    {
      "cell_type": "code",
      "source": [
        "## Call the object named iris\n"
      ],
      "metadata": {
        "colab": {
          "base_uri": "https://localhost:8080/",
          "height": 52
        },
        "id": "7N_2MgRhQpnA",
        "outputId": "6cea9b86-4899-4e85-b1bc-e4e76ab6b52e"
      },
      "execution_count": null,
      "outputs": [
        {
          "output_type": "display_data",
          "data": {
            "text/html": [
              "<style>\n",
              ".list-inline {list-style: none; margin:0; padding: 0}\n",
              ".list-inline>li {display: inline-block}\n",
              ".list-inline>li:not(:last-child)::after {content: \"\\00b7\"; padding: 0 .5ex}\n",
              "</style>\n",
              "<ol class=list-inline><li>setosa</li><li>versicolor</li><li>virginica</li></ol>\n",
              "\n",
              "<details>\n",
              "\t<summary style=display:list-item;cursor:pointer>\n",
              "\t\t<strong>Levels</strong>:\n",
              "\t</summary>\n",
              "\t<style>\n",
              "\t.list-inline {list-style: none; margin:0; padding: 0}\n",
              "\t.list-inline>li {display: inline-block}\n",
              "\t.list-inline>li:not(:last-child)::after {content: \"\\00b7\"; padding: 0 .5ex}\n",
              "\t</style>\n",
              "\t<ol class=list-inline><li>'setosa'</li><li>'versicolor'</li><li>'virginica'</li></ol>\n",
              "</details>"
            ],
            "text/markdown": "1. setosa\n2. versicolor\n3. virginica\n\n\n\n**Levels**: 1. 'setosa'\n2. 'versicolor'\n3. 'virginica'\n\n\n",
            "text/latex": "\\begin{enumerate*}\n\\item setosa\n\\item versicolor\n\\item virginica\n\\end{enumerate*}\n\n\\emph{Levels}: \\begin{enumerate*}\n\\item 'setosa'\n\\item 'versicolor'\n\\item 'virginica'\n\\end{enumerate*}\n",
            "text/plain": [
              "[1] setosa     versicolor virginica \n",
              "Levels: setosa versicolor virginica"
            ]
          },
          "metadata": {}
        }
      ]
    },
    {
      "cell_type": "markdown",
      "source": [
        "## Iris dataset explained\n",
        "\n",
        "This dataset measures sepals and petals in three species of irises. There are 150 rows (each row is a specific flower, analogous to a single person) and 5 columns (i.e., 5 pieces of information for each specific flower).\n",
        "\n",
        "- Sepal.Length: The length of sepals, in CM.\n",
        "\n",
        "- Sepal.Width: Width of sepals, in CM.\n",
        "\n",
        "- Petal.Length: Petal length, in CM.\n",
        "\n",
        "- Petal.Width: Petal width, in CM.\n",
        "\n",
        "- Species: Character vector of the type of flower (Setosa, Versicolor, Virginica)"
      ],
      "metadata": {
        "id": "JBgQU9rpQ16G"
      }
    },
    {
      "cell_type": "markdown",
      "source": [
        "# Q3: Create a boxplot using the 3 main elements of the Grammar of Graphics (ggplot):\n",
        "\n",
        "- Data: the 'iris' data object called above.\n",
        "\n",
        "- Aes (Aesthetics): Place Sepal.Length as the Y-axis\n",
        "\n",
        "- Geom (Geometric plot type): Use the geom_boxplot() function to create boxplots"
      ],
      "metadata": {
        "id": "7R9VHEtIRlqh"
      }
    },
    {
      "cell_type": "code",
      "source": [
        "## Create a boxplot of Sepal.Lengths as the y axis\n"
      ],
      "metadata": {
        "colab": {
          "base_uri": "https://localhost:8080/",
          "height": 437
        },
        "id": "XpdFgoXJSNBB",
        "outputId": "eed62d67-5e37-4ff1-c994-70d4abcba115"
      },
      "execution_count": null,
      "outputs": [
        {
          "output_type": "display_data",
          "data": {
            "text/plain": [
              "plot without title"
            ],
            "image/png": "[encoded data removed]"
          },
          "metadata": {
            "image/png": {
              "width": 420,
              "height": 420
            }
          }
        }
      ]
    },
    {
      "cell_type": "markdown",
      "source": [
        "# Q4: Based on the boxplot visualization, roughly what is the median (i.e., 50th percentile) Sepal Length?\n",
        "\n",
        "Answer here:\n",
        "\n",
        "ANSWER...."
      ],
      "metadata": {
        "id": "dZUriZkbSZmF"
      }
    },
    {
      "cell_type": "markdown",
      "source": [
        "## Q5: Create a bar plot using the 3 main elements of ggplot:\n",
        "\n",
        "- Data: iris\n",
        "\n",
        "- Aes: Place Species as the x-axis.\n",
        "\n",
        "- Geom: Use the geom_bar() function to create a bar plot"
      ],
      "metadata": {
        "id": "YUqZp7zjSkko"
      }
    },
    {
      "cell_type": "code",
      "source": [
        "## Create a bar plot of iris species\n"
      ],
      "metadata": {
        "colab": {
          "base_uri": "https://localhost:8080/",
          "height": 437
        },
        "id": "MDJndpw7S1Pi",
        "outputId": "1d66178e-6bf8-4757-d1fd-e12ccd2d723a"
      },
      "execution_count": null,
      "outputs": [
        {
          "output_type": "display_data",
          "data": {
            "text/plain": [
              "plot without title"
            ],
            "image/png": "[encoded data removed]"
          },
          "metadata": {
            "image/png": {
              "width": 420,
              "height": 420
            }
          }
        }
      ]
    },
    {
      "cell_type": "markdown",
      "source": [
        "## Q6: Based on the bar plot visualization, which of the 3 iris species, if any, is the most common in our dataset?\n",
        "\n",
        "Answer here:\n",
        "\n",
        "ANSWER....."
      ],
      "metadata": {
        "id": "XeznyRCXS-Dn"
      }
    },
    {
      "cell_type": "markdown",
      "source": [
        "## Q7: Create a scatterplot using the 3 main ggplot elements:\n",
        "\n",
        "- Data: iris\n",
        "\n",
        "- Aes: Place Sepal.Length on the x-axis and Sepal.Width on the y-axis\n",
        "\n",
        "- Geom: Use the geom_point() geometric object to create a scatterplot.\n"
      ],
      "metadata": {
        "id": "JlCYoJtXTHIc"
      }
    },
    {
      "cell_type": "code",
      "source": [
        "## Create a scatterplot\n"
      ],
      "metadata": {
        "colab": {
          "base_uri": "https://localhost:8080/",
          "height": 437
        },
        "id": "d15c67D3TVMn",
        "outputId": "bb57d46b-9ffd-4b7c-e6e2-5268ef577f2c"
      },
      "execution_count": null,
      "outputs": [
        {
          "output_type": "display_data",
          "data": {
            "text/plain": [
              "plot without title"
            ],
            "image/png": "[encoded data removed]"
          },
          "metadata": {
            "image/png": {
              "width": 420,
              "height": 420
            }
          }
        }
      ]
    }
  ]
}