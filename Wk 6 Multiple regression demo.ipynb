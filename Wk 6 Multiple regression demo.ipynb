{
  "nbformat": 4,
  "nbformat_minor": 0,
  "metadata": {
    "colab": {
      "provenance": []
    },
    "kernelspec": {
      "name": "ir",
      "display_name": "R"
    },
    "language_info": {
      "name": "R"
    }
  },
  "cells": [
    {
      "cell_type": "markdown",
      "source": [
        "# Change runtime type to R\n",
        "\n",
        "Remember, the first step when opening a Google Colab notebook is to change the runtime type to R from Python. Our code will not work otherwise!"
      ],
      "metadata": {
        "id": "MJ1jHCaIsQHm"
      }
    },
    {
      "cell_type": "markdown",
      "source": [
        "# Load the packages and dataset\n",
        "\n",
        "For this illustration, we will use the mtcars dataset from previous lectures and demonstrations\n",
        "\n",
        "1)(DV) ‘mpg’ is the miles per gallon of vehicles from a 1974 car magazine,\n",
        "\n",
        "2) (IV1) ‘cyl’ is a categorical variable for the number of cylinders in the engine (i.e., 4, 6, or 8), and\n",
        "\n",
        "3) (IV2) ‘am’ is a categorical variable for whether a vehicle has automatic (i.e., am = 0) or manual (i.e.,\n",
        "am = 1) transmission."
      ],
      "metadata": {
        "id": "zE5PBqOTsWQC"
      }
    },
    {
      "cell_type": "code",
      "source": [
        "## Install easystats package\n",
        "install.packages(\"easystats\")\n",
        "\n",
        "## Load in the packages\n",
        "library(tidyverse) ## Several useful functions\n",
        "library(easystats) ## Several useful functions\n",
        "\n",
        "## Check out the first 6 rows of the dataset\n",
        "head(x = mtcars, n = 6)"
      ],
      "metadata": {
        "colab": {
          "base_uri": "https://localhost:8080/"
        },
        "id": "xSqyv6Q-sch4",
        "outputId": "f36a4d1e-a8c9-410e-e800-44d6887bfb34"
      },
      "execution_count": 2,
      "outputs": [
        {
          "output_type": "stream",
          "name": "stderr",
          "text": [
            "Installing package into ‘/usr/local/lib/R/site-library’\n",
            "(as ‘lib’ is unspecified)\n",
            "\n",
            "also installing the dependencies ‘patchwork’, ‘bayestestR’, ‘correlation’, ‘datawizard’, ‘effectsize’, ‘insight’, ‘modelbased’, ‘parameters’, ‘performance’, ‘report’, ‘see’\n",
            "\n",
            "\n",
            "\u001b[34m# Attaching packages: easystats 0.7.4\u001b[39m\n",
            "\u001b[32m✔ \u001b[39m\u001b[37mbayestestR \u001b[39m \u001b[32m0.15.2\u001b[39m   \u001b[32m✔ \u001b[39m\u001b[37mcorrelation\u001b[39m \u001b[32m0.8.6 \u001b[39m\n",
            "\u001b[32m✔ \u001b[39m\u001b[37mdatawizard \u001b[39m \u001b[32m1.0.0 \u001b[39m   \u001b[32m✔ \u001b[39m\u001b[37meffectsize \u001b[39m \u001b[32m1.0.0 \u001b[39m\n",
            "\u001b[32m✔ \u001b[39m\u001b[37minsight    \u001b[39m \u001b[32m1.0.2 \u001b[39m   \u001b[32m✔ \u001b[39m\u001b[37mmodelbased \u001b[39m \u001b[32m0.9.0 \u001b[39m\n",
            "\u001b[32m✔ \u001b[39m\u001b[37mperformance\u001b[39m \u001b[32m0.13.0\u001b[39m   \u001b[32m✔ \u001b[39m\u001b[37mparameters \u001b[39m \u001b[32m0.24.1\u001b[39m\n",
            "\u001b[32m✔ \u001b[39m\u001b[37mreport     \u001b[39m \u001b[32m0.6.1 \u001b[39m   \u001b[32m✔ \u001b[39m\u001b[37msee        \u001b[39m \u001b[32m0.10.0\u001b[39m\n",
            "\n",
            "\n"
          ]
        }
      ]
    },
    {
      "cell_type": "markdown",
      "source": [
        "## Factors in R\n",
        "\n",
        "In R, a variable/column can have the type or *class* of \"factor\". Other common types or classes of variables we have encountered in R are \"Character\", which is a string of letters together (e.g., \"Character\" is itself a character string), and \"Numeric\" or \"Double\" which are numbers (e.g., 3, 7.14, 95.72). Variables/columns of the class factor is a specific way to specify a categorical variable, even if those levels/categories use numerical values--which is exactly the case for both of our variables/columns above (i.e., 'cyl' and 'am').\n",
        "\n",
        "Even though we can consider 'number of car cylinders' to be a categorical variable (e.g., we cannot have half a cylinder, there are discrete categories but the category labels are number values here, which I understand is confusing)."
      ],
      "metadata": {
        "id": "36jBbrQOspgG"
      }
    },
    {
      "cell_type": "code",
      "source": [
        "## Check the class of the cyl variable\n",
        "class(mtcars$cyl)\n",
        "\n",
        "## Check the class of the am variable\n",
        "class(mtcars$am)"
      ],
      "metadata": {
        "colab": {
          "base_uri": "https://localhost:8080/",
          "height": 52
        },
        "id": "UbgETFUlu4px",
        "outputId": "84d3d1c2-fa4d-436c-917f-7ad416a684a3"
      },
      "execution_count": 9,
      "outputs": [
        {
          "output_type": "display_data",
          "data": {
            "text/html": [
              "'numeric'"
            ],
            "text/markdown": "'numeric'",
            "text/latex": "'numeric'",
            "text/plain": [
              "[1] \"numeric\""
            ]
          },
          "metadata": {}
        },
        {
          "output_type": "display_data",
          "data": {
            "text/html": [
              "'numeric'"
            ],
            "text/markdown": "'numeric'",
            "text/latex": "'numeric'",
            "text/plain": [
              "[1] \"numeric\""
            ]
          },
          "metadata": {}
        }
      ]
    },
    {
      "cell_type": "markdown",
      "source": [
        "We see that these variables are both interpreted by R as numeric variables. Let's change that by setting `cyl` and `am` to be interpreted as factors (which are labeled categorical variables). Notice in the printed output below that the label under the column names `cyl` and `am` is `<fct>`? That means these variables (columns) are interpreted as factors."
      ],
      "metadata": {
        "id": "DGjnX-xAvjGv"
      }
    },
    {
      "cell_type": "code",
      "source": [
        "## Convert the two categorical variables to 'factor' class in R\n",
        "mtFactor <-\n",
        "  mtcars %>%\n",
        "  mutate(cyl = as.factor(cyl),\n",
        "         am  = as.factor(am))\n",
        "\n",
        "## Recode the levels of the two categorical variables\n",
        "mtClean <-\n",
        "  mtFactor %>%\n",
        "  mutate(cyl = recode(cyl, \"4\" = \"Four\", \"6\" = \"Six\", \"8\" = \"Eight\"),\n",
        "         am  = recode(am, \"0\" = \"Auto\", \"1\" = \"Manual\"))\n",
        "\n",
        "## See whether the changes were made or not\n",
        "mtClean %>%\n",
        "  select(cyl, am) %>% ## success!\n",
        "  head(n = 10)"
      ],
      "metadata": {
        "colab": {
          "base_uri": "https://localhost:8080/",
          "height": 411
        },
        "id": "bZ-aEnzIsjR5",
        "outputId": "e39a00fa-923b-46a7-f79d-fbe10bda0980"
      },
      "execution_count": 6,
      "outputs": [
        {
          "output_type": "display_data",
          "data": {
            "text/html": [
              "<table class=\"dataframe\">\n",
              "<caption>A data.frame: 10 × 2</caption>\n",
              "<thead>\n",
              "\t<tr><th></th><th scope=col>cyl</th><th scope=col>am</th></tr>\n",
              "\t<tr><th></th><th scope=col>&lt;fct&gt;</th><th scope=col>&lt;fct&gt;</th></tr>\n",
              "</thead>\n",
              "<tbody>\n",
              "\t<tr><th scope=row>Mazda RX4</th><td>Six  </td><td>Manual</td></tr>\n",
              "\t<tr><th scope=row>Mazda RX4 Wag</th><td>Six  </td><td>Manual</td></tr>\n",
              "\t<tr><th scope=row>Datsun 710</th><td>Four </td><td>Manual</td></tr>\n",
              "\t<tr><th scope=row>Hornet 4 Drive</th><td>Six  </td><td>Auto  </td></tr>\n",
              "\t<tr><th scope=row>Hornet Sportabout</th><td>Eight</td><td>Auto  </td></tr>\n",
              "\t<tr><th scope=row>Valiant</th><td>Six  </td><td>Auto  </td></tr>\n",
              "\t<tr><th scope=row>Duster 360</th><td>Eight</td><td>Auto  </td></tr>\n",
              "\t<tr><th scope=row>Merc 240D</th><td>Four </td><td>Auto  </td></tr>\n",
              "\t<tr><th scope=row>Merc 230</th><td>Four </td><td>Auto  </td></tr>\n",
              "\t<tr><th scope=row>Merc 280</th><td>Six  </td><td>Auto  </td></tr>\n",
              "</tbody>\n",
              "</table>\n"
            ],
            "text/markdown": "\nA data.frame: 10 × 2\n\n| <!--/--> | cyl &lt;fct&gt; | am &lt;fct&gt; |\n|---|---|---|\n| Mazda RX4 | Six   | Manual |\n| Mazda RX4 Wag | Six   | Manual |\n| Datsun 710 | Four  | Manual |\n| Hornet 4 Drive | Six   | Auto   |\n| Hornet Sportabout | Eight | Auto   |\n| Valiant | Six   | Auto   |\n| Duster 360 | Eight | Auto   |\n| Merc 240D | Four  | Auto   |\n| Merc 230 | Four  | Auto   |\n| Merc 280 | Six   | Auto   |\n\n",
            "text/latex": "A data.frame: 10 × 2\n\\begin{tabular}{r|ll}\n  & cyl & am\\\\\n  & <fct> & <fct>\\\\\n\\hline\n\tMazda RX4 & Six   & Manual\\\\\n\tMazda RX4 Wag & Six   & Manual\\\\\n\tDatsun 710 & Four  & Manual\\\\\n\tHornet 4 Drive & Six   & Auto  \\\\\n\tHornet Sportabout & Eight & Auto  \\\\\n\tValiant & Six   & Auto  \\\\\n\tDuster 360 & Eight & Auto  \\\\\n\tMerc 240D & Four  & Auto  \\\\\n\tMerc 230 & Four  & Auto  \\\\\n\tMerc 280 & Six   & Auto  \\\\\n\\end{tabular}\n",
            "text/plain": [
              "                  cyl   am    \n",
              "Mazda RX4         Six   Manual\n",
              "Mazda RX4 Wag     Six   Manual\n",
              "Datsun 710        Four  Manual\n",
              "Hornet 4 Drive    Six   Auto  \n",
              "Hornet Sportabout Eight Auto  \n",
              "Valiant           Six   Auto  \n",
              "Duster 360        Eight Auto  \n",
              "Merc 240D         Four  Auto  \n",
              "Merc 230          Four  Auto  \n",
              "Merc 280          Six   Auto  "
            ]
          },
          "metadata": {}
        }
      ]
    },
    {
      "cell_type": "markdown",
      "source": [
        "Notice that when we extract just the `cyl` variable, it shows as having 3 levels (i.e., 'Four', 'Six', and 'Eight')? These are the levels of the categorical variable."
      ],
      "metadata": {
        "id": "pMSb4oTxwDrf"
      }
    },
    {
      "cell_type": "code",
      "source": [
        "## Examine the cyl variable specifically\n",
        "mtClean$cyl"
      ],
      "metadata": {
        "colab": {
          "base_uri": "https://localhost:8080/",
          "height": 69
        },
        "id": "PgAjXR8jv8mn",
        "outputId": "3a0720d7-c1a4-4981-c438-016bacfd62bc"
      },
      "execution_count": 10,
      "outputs": [
        {
          "output_type": "display_data",
          "data": {
            "text/html": [
              "<style>\n",
              ".list-inline {list-style: none; margin:0; padding: 0}\n",
              ".list-inline>li {display: inline-block}\n",
              ".list-inline>li:not(:last-child)::after {content: \"\\00b7\"; padding: 0 .5ex}\n",
              "</style>\n",
              "<ol class=list-inline><li>Six</li><li>Six</li><li>Four</li><li>Six</li><li>Eight</li><li>Six</li><li>Eight</li><li>Four</li><li>Four</li><li>Six</li><li>Six</li><li>Eight</li><li>Eight</li><li>Eight</li><li>Eight</li><li>Eight</li><li>Eight</li><li>Four</li><li>Four</li><li>Four</li><li>Four</li><li>Eight</li><li>Eight</li><li>Eight</li><li>Eight</li><li>Four</li><li>Four</li><li>Four</li><li>Eight</li><li>Six</li><li>Eight</li><li>Four</li></ol>\n",
              "\n",
              "<details>\n",
              "\t<summary style=display:list-item;cursor:pointer>\n",
              "\t\t<strong>Levels</strong>:\n",
              "\t</summary>\n",
              "\t<style>\n",
              "\t.list-inline {list-style: none; margin:0; padding: 0}\n",
              "\t.list-inline>li {display: inline-block}\n",
              "\t.list-inline>li:not(:last-child)::after {content: \"\\00b7\"; padding: 0 .5ex}\n",
              "\t</style>\n",
              "\t<ol class=list-inline><li>'Four'</li><li>'Six'</li><li>'Eight'</li></ol>\n",
              "</details>"
            ],
            "text/markdown": "1. Six\n2. Six\n3. Four\n4. Six\n5. Eight\n6. Six\n7. Eight\n8. Four\n9. Four\n10. Six\n11. Six\n12. Eight\n13. Eight\n14. Eight\n15. Eight\n16. Eight\n17. Eight\n18. Four\n19. Four\n20. Four\n21. Four\n22. Eight\n23. Eight\n24. Eight\n25. Eight\n26. Four\n27. Four\n28. Four\n29. Eight\n30. Six\n31. Eight\n32. Four\n\n\n\n**Levels**: 1. 'Four'\n2. 'Six'\n3. 'Eight'\n\n\n",
            "text/latex": "\\begin{enumerate*}\n\\item Six\n\\item Six\n\\item Four\n\\item Six\n\\item Eight\n\\item Six\n\\item Eight\n\\item Four\n\\item Four\n\\item Six\n\\item Six\n\\item Eight\n\\item Eight\n\\item Eight\n\\item Eight\n\\item Eight\n\\item Eight\n\\item Four\n\\item Four\n\\item Four\n\\item Four\n\\item Eight\n\\item Eight\n\\item Eight\n\\item Eight\n\\item Four\n\\item Four\n\\item Four\n\\item Eight\n\\item Six\n\\item Eight\n\\item Four\n\\end{enumerate*}\n\n\\emph{Levels}: \\begin{enumerate*}\n\\item 'Four'\n\\item 'Six'\n\\item 'Eight'\n\\end{enumerate*}\n",
            "text/plain": [
              " [1] Six   Six   Four  Six   Eight Six   Eight Four  Four  Six   Six   Eight\n",
              "[13] Eight Eight Eight Eight Eight Four  Four  Four  Four  Eight Eight Eight\n",
              "[25] Eight Four  Four  Four  Eight Six   Eight Four \n",
              "Levels: Four Six Eight"
            ]
          },
          "metadata": {}
        }
      ]
    },
    {
      "cell_type": "markdown",
      "source": [
        "# Descriptive and summary statistics\n",
        "\n",
        "When a variable is categorical, we cannot explore the describe_distribution() function and must rely on the summarize function.\n",
        "\n",
        "Let's see the average miles per gallon (mpg) of vehicles based on the category of cylinders (cyl):"
      ],
      "metadata": {
        "id": "LNJcmxg4srgo"
      }
    },
    {
      "cell_type": "code",
      "source": [
        "## The average miles per gallon for each level of engine cylinders\n",
        "mtClean %>%\n",
        "  group_by(cyl) %>%\n",
        "  summarize(Mean = mean(mpg))"
      ],
      "metadata": {
        "colab": {
          "base_uri": "https://localhost:8080/",
          "height": 192
        },
        "id": "hmLvh5KdsziK",
        "outputId": "4e71aff6-f215-4bda-e3dd-81c156238295"
      },
      "execution_count": 11,
      "outputs": [
        {
          "output_type": "display_data",
          "data": {
            "text/html": [
              "<table class=\"dataframe\">\n",
              "<caption>A tibble: 3 × 2</caption>\n",
              "<thead>\n",
              "\t<tr><th scope=col>cyl</th><th scope=col>Mean</th></tr>\n",
              "\t<tr><th scope=col>&lt;fct&gt;</th><th scope=col>&lt;dbl&gt;</th></tr>\n",
              "</thead>\n",
              "<tbody>\n",
              "\t<tr><td>Four </td><td>26.66364</td></tr>\n",
              "\t<tr><td>Six  </td><td>19.74286</td></tr>\n",
              "\t<tr><td>Eight</td><td>15.10000</td></tr>\n",
              "</tbody>\n",
              "</table>\n"
            ],
            "text/markdown": "\nA tibble: 3 × 2\n\n| cyl &lt;fct&gt; | Mean &lt;dbl&gt; |\n|---|---|\n| Four  | 26.66364 |\n| Six   | 19.74286 |\n| Eight | 15.10000 |\n\n",
            "text/latex": "A tibble: 3 × 2\n\\begin{tabular}{ll}\n cyl & Mean\\\\\n <fct> & <dbl>\\\\\n\\hline\n\t Four  & 26.66364\\\\\n\t Six   & 19.74286\\\\\n\t Eight & 15.10000\\\\\n\\end{tabular}\n",
            "text/plain": [
              "  cyl   Mean    \n",
              "1 Four  26.66364\n",
              "2 Six   19.74286\n",
              "3 Eight 15.10000"
            ]
          },
          "metadata": {}
        }
      ]
    },
    {
      "cell_type": "markdown",
      "source": [
        "It looks like vehicles with fewer cylinders tend to have better gas mileage (city miles per gallon). Doubling the number of cylinders almost halves the fuel economy for the cars!\n",
        "\n",
        "We can also see the average mpg of vehicles based on the type of transmission (am) they have:\n"
      ],
      "metadata": {
        "id": "5R7_SRNms_lQ"
      }
    },
    {
      "cell_type": "code",
      "source": [
        "## The average miles per gallon for each level of transmission\n",
        "mtClean %>%\n",
        "  group_by(am) %>%\n",
        "  summarize(Mean = mean(mpg))\n"
      ],
      "metadata": {
        "colab": {
          "base_uri": "https://localhost:8080/",
          "height": 160
        },
        "id": "emNnmz2qtBIQ",
        "outputId": "381e0b7c-d7d2-49f7-f702-4e2f42fab4fe"
      },
      "execution_count": 12,
      "outputs": [
        {
          "output_type": "display_data",
          "data": {
            "text/html": [
              "<table class=\"dataframe\">\n",
              "<caption>A tibble: 2 × 2</caption>\n",
              "<thead>\n",
              "\t<tr><th scope=col>am</th><th scope=col>Mean</th></tr>\n",
              "\t<tr><th scope=col>&lt;fct&gt;</th><th scope=col>&lt;dbl&gt;</th></tr>\n",
              "</thead>\n",
              "<tbody>\n",
              "\t<tr><td>Auto  </td><td>17.14737</td></tr>\n",
              "\t<tr><td>Manual</td><td>24.39231</td></tr>\n",
              "</tbody>\n",
              "</table>\n"
            ],
            "text/markdown": "\nA tibble: 2 × 2\n\n| am &lt;fct&gt; | Mean &lt;dbl&gt; |\n|---|---|\n| Auto   | 17.14737 |\n| Manual | 24.39231 |\n\n",
            "text/latex": "A tibble: 2 × 2\n\\begin{tabular}{ll}\n am & Mean\\\\\n <fct> & <dbl>\\\\\n\\hline\n\t Auto   & 17.14737\\\\\n\t Manual & 24.39231\\\\\n\\end{tabular}\n",
            "text/plain": [
              "  am     Mean    \n",
              "1 Auto   17.14737\n",
              "2 Manual 24.39231"
            ]
          },
          "metadata": {}
        }
      ]
    },
    {
      "cell_type": "markdown",
      "source": [
        "These data show that automatic transmission vehicles tend to have lower gas mileage inside the city. Manual cars have notably greater fuel efficiency on average."
      ],
      "metadata": {
        "id": "ylw7i69bwlw7"
      }
    },
    {
      "cell_type": "markdown",
      "source": [
        "# Visualize the data\n",
        "\n",
        "Because we have a categorical variable as the independent variable and a continuous dependent variable, we can report multiple boxplots (i.e., 1 boxplot of the outcome for each category/level)."
      ],
      "metadata": {
        "id": "j8iIYa-ntDC2"
      }
    },
    {
      "cell_type": "markdown",
      "source": [
        "## Visualizing mpg and car cylinders\n",
        "\n",
        "Cars with 4 cylinders tend to have better fuel economy than those with 6, which tend to have better fuel economy than those with 8 cylinders."
      ],
      "metadata": {
        "id": "vyf1N2WFtEw0"
      }
    },
    {
      "cell_type": "code",
      "source": [
        "## Boxplots comparing mpg based on the number of cylinders\n",
        "ggplot(data = mtClean, mapping = aes(x = cyl, y = mpg, fill = cyl)) +\n",
        "  geom_boxplot() +\n",
        "  labs(x = \"Number of cylinders\",\n",
        "       y = \"Miles per gallon (mpg)\",\n",
        "       title = \"Comparing mpg based on car engine cylinders\") +\n",
        "  theme_bw()\n"
      ],
      "metadata": {
        "colab": {
          "base_uri": "https://localhost:8080/",
          "height": 437
        },
        "id": "KVHtuV78tGVC",
        "outputId": "d390d916-2199-465e-ebf5-519388892edf"
      },
      "execution_count": 13,
      "outputs": [
        {
          "output_type": "display_data",
          "data": {
            "text/plain": [
              "plot without title"
            ],
            "image/png": "[encoded data removed]"
          },
          "metadata": {
            "image/png": {
              "width": 420,
              "height": 420
            }
          }
        }
      ]
    },
    {
      "cell_type": "markdown",
      "source": [
        "## Visualizing mpg and transmission type\n",
        "\n",
        "From the boxplots, we can see that cars with manual transmission tend to have the best fuel economy."
      ],
      "metadata": {
        "id": "D5zCs1j_tUZ8"
      }
    },
    {
      "cell_type": "code",
      "source": [
        "## Boxplots comparing mpg based on the transmission type\n",
        "ggplot(data = mtClean, mapping = aes(x = am, y = mpg, fill = am)) +\n",
        "  geom_boxplot() +\n",
        "  labs(x = \"Transmission type\",\n",
        "       y = \"Miles per gallon (mpg)\",\n",
        "       title = \"Comparing mpg based on car transmission types\") +\n",
        "  theme_bw()"
      ],
      "metadata": {
        "colab": {
          "base_uri": "https://localhost:8080/",
          "height": 437
        },
        "id": "QwReXGr5tV4u",
        "outputId": "b94f5c63-a827-43f2-df4c-a70dd6d1c076"
      },
      "execution_count": 14,
      "outputs": [
        {
          "output_type": "display_data",
          "data": {
            "text/plain": [
              "plot without title"
            ],
            "image/png": "[encoded data removed]"
          },
          "metadata": {
            "image/png": {
              "width": 420,
              "height": 420
            }
          }
        }
      ]
    },
    {
      "cell_type": "markdown",
      "source": [
        "# Effect of cylinders on mpg\n",
        "\n",
        "Here, we are interested in the dependent variable of the miles per gallon for cars based on the independent variable of the number of engine cylinders in the car.\n",
        "\n",
        "Notice below that the **output** from the `parameters()` function has the dummy coded variables but the **input** from the mtClean dataset *does not* actually create the dummy codes--that is done for us (phew!).\n",
        "\n",
        "\n",
        "The *general* regression equation is as follows: $\\hat{y} = b_0 + b_1 \\cdot x_1$\n",
        "\n",
        "The regression model that we estimated on these data includes 2 dummy codes (i.e., there are 3 levels/categories so we need [3-1] dummy codes): $\\hat{y} = 26.66 - 6.92 \\cdot \\text{Cyl6} - 11.56 \\cdot \\text{Cyl8}$\n"
      ],
      "metadata": {
        "id": "I43tDPoztcI4"
      }
    },
    {
      "cell_type": "code",
      "source": [
        "## Predicting the amount of mpg based on engine cylinders\n",
        "ModCyl <- lm(mpg ~ cyl, data = mtClean)\n",
        "\n",
        "## Report the estimated model parameters (i.e., slope & intercept)\n",
        "parameters(ModCyl)\n",
        "\n",
        "## The regression equation:\n",
        "## yHat = 26.66 - 6.92*Cyl6 - 11.56*Cyl8"
      ],
      "metadata": {
        "colab": {
          "base_uri": "https://localhost:8080/",
          "height": 192
        },
        "id": "hNqzk1_3tyZY",
        "outputId": "fbc8447b-0eee-4abd-b024-281b8ac9756a"
      },
      "execution_count": 15,
      "outputs": [
        {
          "output_type": "display_data",
          "data": {
            "text/html": [
              "<table class=\"dataframe\">\n",
              "<caption>A parameters_model: 3 × 9</caption>\n",
              "<thead>\n",
              "\t<tr><th scope=col>Parameter</th><th scope=col>Coefficient</th><th scope=col>SE</th><th scope=col>CI</th><th scope=col>CI_low</th><th scope=col>CI_high</th><th scope=col>t</th><th scope=col>df_error</th><th scope=col>p</th></tr>\n",
              "\t<tr><th scope=col>&lt;chr&gt;</th><th scope=col>&lt;dbl&gt;</th><th scope=col>&lt;dbl&gt;</th><th scope=col>&lt;dbl&gt;</th><th scope=col>&lt;dbl&gt;</th><th scope=col>&lt;dbl&gt;</th><th scope=col>&lt;dbl&gt;</th><th scope=col>&lt;int&gt;</th><th scope=col>&lt;dbl&gt;</th></tr>\n",
              "</thead>\n",
              "<tbody>\n",
              "\t<tr><td>(Intercept)</td><td> 26.663636</td><td>0.9718008</td><td>0.95</td><td> 24.67608</td><td>28.651192</td><td>27.437347</td><td>29</td><td>2.688358e-22</td></tr>\n",
              "\t<tr><td>cylSix     </td><td> -6.920779</td><td>1.5583482</td><td>0.95</td><td>-10.10796</td><td>-3.733599</td><td>-4.441099</td><td>29</td><td>1.194696e-04</td></tr>\n",
              "\t<tr><td>cylEight   </td><td>-11.563636</td><td>1.2986235</td><td>0.95</td><td>-14.21962</td><td>-8.907653</td><td>-8.904534</td><td>29</td><td>8.568209e-10</td></tr>\n",
              "</tbody>\n",
              "</table>\n"
            ],
            "text/markdown": "\nA parameters_model: 3 × 9\n\n| Parameter &lt;chr&gt; | Coefficient &lt;dbl&gt; | SE &lt;dbl&gt; | CI &lt;dbl&gt; | CI_low &lt;dbl&gt; | CI_high &lt;dbl&gt; | t &lt;dbl&gt; | df_error &lt;int&gt; | p &lt;dbl&gt; |\n|---|---|---|---|---|---|---|---|---|\n| (Intercept) |  26.663636 | 0.9718008 | 0.95 |  24.67608 | 28.651192 | 27.437347 | 29 | 2.688358e-22 |\n| cylSix      |  -6.920779 | 1.5583482 | 0.95 | -10.10796 | -3.733599 | -4.441099 | 29 | 1.194696e-04 |\n| cylEight    | -11.563636 | 1.2986235 | 0.95 | -14.21962 | -8.907653 | -8.904534 | 29 | 8.568209e-10 |\n\n",
            "text/latex": "A parameters\\_model: 3 × 9\n\\begin{tabular}{lllllllll}\n Parameter & Coefficient & SE & CI & CI\\_low & CI\\_high & t & df\\_error & p\\\\\n <chr> & <dbl> & <dbl> & <dbl> & <dbl> & <dbl> & <dbl> & <int> & <dbl>\\\\\n\\hline\n\t (Intercept) &  26.663636 & 0.9718008 & 0.95 &  24.67608 & 28.651192 & 27.437347 & 29 & 2.688358e-22\\\\\n\t cylSix      &  -6.920779 & 1.5583482 & 0.95 & -10.10796 & -3.733599 & -4.441099 & 29 & 1.194696e-04\\\\\n\t cylEight    & -11.563636 & 1.2986235 & 0.95 & -14.21962 & -8.907653 & -8.904534 & 29 & 8.568209e-10\\\\\n\\end{tabular}\n",
            "text/plain": [
              "  Parameter   Coefficient SE        CI   CI_low    CI_high   t         df_error\n",
              "1 (Intercept)  26.663636  0.9718008 0.95  24.67608 28.651192 27.437347 29      \n",
              "2 cylSix       -6.920779  1.5583482 0.95 -10.10796 -3.733599 -4.441099 29      \n",
              "3 cylEight    -11.563636  1.2986235 0.95 -14.21962 -8.907653 -8.904534 29      \n",
              "  p           \n",
              "1 2.688358e-22\n",
              "2 1.194696e-04\n",
              "3 8.568209e-10"
            ]
          },
          "metadata": {}
        }
      ]
    },
    {
      "cell_type": "markdown",
      "source": [
        "## Interpret the regression equation\n",
        "\n",
        "Filling in the equation with the estimated parameters, we have the following: $\\hat{y} = 26.66 - 6.92 \\cdot \\text{Cyl6} - 11.56 \\cdot \\text{Cyl8}$\n",
        "\n",
        "**Intercept** (i.e., $b_0$): When the number of cylinders is four (i.e., Cyl6 and Cyl8 have values of 0), the predicted mpg is 26.66. This means Cyl4 is the referent group we are going to compare the other values.\n",
        "\n",
        "**Cyl6**: The expected miles per gallon for vehicles with 6 cylinders is 6.92 units lower than the referent group (i.e., 26.66 - 6.92 = 19.74).\n",
        "\n",
        "**Cyl8**: The expected miles per gallon for vehicles with 8 cylinders is 11.56 units lower than the referent group (i.e., 26.66 - 11.56 = 15.10)."
      ],
      "metadata": {
        "id": "pQCNMXzct586"
      }
    },
    {
      "cell_type": "markdown",
      "source": [
        "## Recall the descriptive statistics\n",
        "\n",
        "Comparing the dummy coded variable coefficients to the referent group gives us the same as the category means on the outcome variable!"
      ],
      "metadata": {
        "id": "bDUsWLFFt4ag"
      }
    },
    {
      "cell_type": "code",
      "source": [
        "## The average miles per gallon for each level of engine cylinders\n",
        "mtClean %>%\n",
        "  group_by(cyl) %>%\n",
        "  summarize(Mean = mean(mpg))"
      ],
      "metadata": {
        "colab": {
          "base_uri": "https://localhost:8080/",
          "height": 192
        },
        "id": "ADZcvC7NuGil",
        "outputId": "5a03cc80-5584-498a-979e-2f11838caad0"
      },
      "execution_count": 16,
      "outputs": [
        {
          "output_type": "display_data",
          "data": {
            "text/html": [
              "<table class=\"dataframe\">\n",
              "<caption>A tibble: 3 × 2</caption>\n",
              "<thead>\n",
              "\t<tr><th scope=col>cyl</th><th scope=col>Mean</th></tr>\n",
              "\t<tr><th scope=col>&lt;fct&gt;</th><th scope=col>&lt;dbl&gt;</th></tr>\n",
              "</thead>\n",
              "<tbody>\n",
              "\t<tr><td>Four </td><td>26.66364</td></tr>\n",
              "\t<tr><td>Six  </td><td>19.74286</td></tr>\n",
              "\t<tr><td>Eight</td><td>15.10000</td></tr>\n",
              "</tbody>\n",
              "</table>\n"
            ],
            "text/markdown": "\nA tibble: 3 × 2\n\n| cyl &lt;fct&gt; | Mean &lt;dbl&gt; |\n|---|---|\n| Four  | 26.66364 |\n| Six   | 19.74286 |\n| Eight | 15.10000 |\n\n",
            "text/latex": "A tibble: 3 × 2\n\\begin{tabular}{ll}\n cyl & Mean\\\\\n <fct> & <dbl>\\\\\n\\hline\n\t Four  & 26.66364\\\\\n\t Six   & 19.74286\\\\\n\t Eight & 15.10000\\\\\n\\end{tabular}\n",
            "text/plain": [
              "  cyl   Mean    \n",
              "1 Four  26.66364\n",
              "2 Six   19.74286\n",
              "3 Eight 15.10000"
            ]
          },
          "metadata": {}
        }
      ]
    },
    {
      "cell_type": "markdown",
      "source": [
        "# Effect of transmission on mpg\n",
        "\n",
        "Again, we have a categorical variable for transmission type. Does the dependent variable of the miles per gallon for cars differ based on the independent variable of the transmission type? Let's find out.\n",
        "\n",
        "The *general* regression equation is as follows: $\\hat{y} = b_0 + b_1 \\cdot x_1$\n",
        "\n",
        "The specific regression equation for this data includes 1 dummy codes (i.e., there are 2 levels/categories so we need [2-1] dummy codes): $\\hat{y} = 17.15 + 7.24 \\cdot \\text{Manual}$"
      ],
      "metadata": {
        "id": "G0dLtb-NuIPm"
      }
    },
    {
      "cell_type": "code",
      "source": [
        "## Predicting the mpg for cars based on transmission type\n",
        "ModAM <- lm(mpg ~ am, data = mtClean)\n",
        "\n",
        "## Report the estimated model parameters\n",
        "parameters(ModAM)\n",
        "\n",
        "## The regression equation:\n",
        "## yHat = 17.15 + 7.24*Manual"
      ],
      "metadata": {
        "colab": {
          "base_uri": "https://localhost:8080/",
          "height": 160
        },
        "id": "-F61_W6XuKLc",
        "outputId": "695b6470-58d5-477b-c4fd-881a805a089a"
      },
      "execution_count": 17,
      "outputs": [
        {
          "output_type": "display_data",
          "data": {
            "text/html": [
              "<table class=\"dataframe\">\n",
              "<caption>A parameters_model: 2 × 9</caption>\n",
              "<thead>\n",
              "\t<tr><th scope=col>Parameter</th><th scope=col>Coefficient</th><th scope=col>SE</th><th scope=col>CI</th><th scope=col>CI_low</th><th scope=col>CI_high</th><th scope=col>t</th><th scope=col>df_error</th><th scope=col>p</th></tr>\n",
              "\t<tr><th scope=col>&lt;chr&gt;</th><th scope=col>&lt;dbl&gt;</th><th scope=col>&lt;dbl&gt;</th><th scope=col>&lt;dbl&gt;</th><th scope=col>&lt;dbl&gt;</th><th scope=col>&lt;dbl&gt;</th><th scope=col>&lt;dbl&gt;</th><th scope=col>&lt;int&gt;</th><th scope=col>&lt;dbl&gt;</th></tr>\n",
              "</thead>\n",
              "<tbody>\n",
              "\t<tr><td>(Intercept)</td><td>17.147368</td><td>1.124603</td><td>0.95</td><td>14.85062</td><td>19.44411</td><td>15.247492</td><td>30</td><td>1.133983e-15</td></tr>\n",
              "\t<tr><td>amManual   </td><td> 7.244939</td><td>1.764422</td><td>0.95</td><td> 3.64151</td><td>10.84837</td><td> 4.106127</td><td>30</td><td>2.850207e-04</td></tr>\n",
              "</tbody>\n",
              "</table>\n"
            ],
            "text/markdown": "\nA parameters_model: 2 × 9\n\n| Parameter &lt;chr&gt; | Coefficient &lt;dbl&gt; | SE &lt;dbl&gt; | CI &lt;dbl&gt; | CI_low &lt;dbl&gt; | CI_high &lt;dbl&gt; | t &lt;dbl&gt; | df_error &lt;int&gt; | p &lt;dbl&gt; |\n|---|---|---|---|---|---|---|---|---|\n| (Intercept) | 17.147368 | 1.124603 | 0.95 | 14.85062 | 19.44411 | 15.247492 | 30 | 1.133983e-15 |\n| amManual    |  7.244939 | 1.764422 | 0.95 |  3.64151 | 10.84837 |  4.106127 | 30 | 2.850207e-04 |\n\n",
            "text/latex": "A parameters\\_model: 2 × 9\n\\begin{tabular}{lllllllll}\n Parameter & Coefficient & SE & CI & CI\\_low & CI\\_high & t & df\\_error & p\\\\\n <chr> & <dbl> & <dbl> & <dbl> & <dbl> & <dbl> & <dbl> & <int> & <dbl>\\\\\n\\hline\n\t (Intercept) & 17.147368 & 1.124603 & 0.95 & 14.85062 & 19.44411 & 15.247492 & 30 & 1.133983e-15\\\\\n\t amManual    &  7.244939 & 1.764422 & 0.95 &  3.64151 & 10.84837 &  4.106127 & 30 & 2.850207e-04\\\\\n\\end{tabular}\n",
            "text/plain": [
              "  Parameter   Coefficient SE       CI   CI_low   CI_high  t         df_error\n",
              "1 (Intercept) 17.147368   1.124603 0.95 14.85062 19.44411 15.247492 30      \n",
              "2 amManual     7.244939   1.764422 0.95  3.64151 10.84837  4.106127 30      \n",
              "  p           \n",
              "1 1.133983e-15\n",
              "2 2.850207e-04"
            ]
          },
          "metadata": {}
        }
      ]
    },
    {
      "cell_type": "markdown",
      "source": [
        "## Interpret the regression equation\n",
        "\n",
        "Filling in the equation with the estimated parameters, we have the following: $\\hat{y} = 17.15 + 7.24 \\cdot \\text{Manual}$\n",
        "\n",
        "**Intercept** (i.e., $b_0$): When the car has automatic transmission (i.e., am [Manual] has a value of 0), the predicted mpg is 17.15. This means automatic transmission is the referent group we are going to compare the other values.\n",
        "\n",
        "**am [Manual]**: The expected miles per gallon for vehicles with manual transmission is 7.24 units higher than the referent group (i.e., 17.15 + 7.24 = 24.39)."
      ],
      "metadata": {
        "id": "Xunzoa-7uJv6"
      }
    },
    {
      "cell_type": "markdown",
      "source": [
        "## Recall the descriptive statistics\n",
        "\n",
        "Comparing the dummy coded variable coefficients to the referent group gives us the same as the category means on the outcome variable!"
      ],
      "metadata": {
        "id": "ufB1OOQNuRHe"
      }
    },
    {
      "cell_type": "code",
      "source": [
        "## The average miles per gallon for each level of transmission type\n",
        "mtClean %>%\n",
        "  group_by(am) %>%\n",
        "  summarize(Mean = mean(mpg))"
      ],
      "metadata": {
        "colab": {
          "base_uri": "https://localhost:8080/",
          "height": 160
        },
        "id": "oG_eh_rCuST8",
        "outputId": "a085c2c5-ebc4-48b1-b441-ca36b06ae2d6"
      },
      "execution_count": 18,
      "outputs": [
        {
          "output_type": "display_data",
          "data": {
            "text/html": [
              "<table class=\"dataframe\">\n",
              "<caption>A tibble: 2 × 2</caption>\n",
              "<thead>\n",
              "\t<tr><th scope=col>am</th><th scope=col>Mean</th></tr>\n",
              "\t<tr><th scope=col>&lt;fct&gt;</th><th scope=col>&lt;dbl&gt;</th></tr>\n",
              "</thead>\n",
              "<tbody>\n",
              "\t<tr><td>Auto  </td><td>17.14737</td></tr>\n",
              "\t<tr><td>Manual</td><td>24.39231</td></tr>\n",
              "</tbody>\n",
              "</table>\n"
            ],
            "text/markdown": "\nA tibble: 2 × 2\n\n| am &lt;fct&gt; | Mean &lt;dbl&gt; |\n|---|---|\n| Auto   | 17.14737 |\n| Manual | 24.39231 |\n\n",
            "text/latex": "A tibble: 2 × 2\n\\begin{tabular}{ll}\n am & Mean\\\\\n <fct> & <dbl>\\\\\n\\hline\n\t Auto   & 17.14737\\\\\n\t Manual & 24.39231\\\\\n\\end{tabular}\n",
            "text/plain": [
              "  am     Mean    \n",
              "1 Auto   17.14737\n",
              "2 Manual 24.39231"
            ]
          },
          "metadata": {}
        }
      ]
    }
  ]
}