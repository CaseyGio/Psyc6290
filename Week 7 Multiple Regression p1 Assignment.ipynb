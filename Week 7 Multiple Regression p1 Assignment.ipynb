{
  "nbformat": 4,
  "nbformat_minor": 0,
  "metadata": {
    "colab": {
      "provenance": []
    },
    "kernelspec": {
      "name": "ir",
      "display_name": "R"
    },
    "language_info": {
      "name": "R"
    }
  },
  "cells": [
    {
      "cell_type": "markdown",
      "source": [
        "# Change runtime type to R\n",
        "\n",
        "Remember, the first step when opening a Google Colab notebook is to change the runtime type to R from Python. Our code will not work otherwise!"
      ],
      "metadata": {
        "id": "CSTkNVYBU88o"
      }
    },
    {
      "cell_type": "markdown",
      "source": [
        "# Research questions\n",
        "\n",
        "1) Is there evidence of discrimination (i.e., intercept or slope differences) against racial groups when using High School GPA to predict future College GPAs?"
      ],
      "metadata": {
        "id": "l3H0HYn9bweB"
      }
    },
    {
      "cell_type": "markdown",
      "source": [
        "# Q1) Load packages for the assignment\n",
        "\n",
        "Load the following packages:\n",
        "\n",
        "- readr (to load the dataset)\n",
        "\n",
        "- dplyr (data cleaning, `%>%` pipe operator)\n",
        "\n",
        "- ggplot2 (visualization)\n",
        "\n",
        "- easystats (install first)\n"
      ],
      "metadata": {
        "id": "9T-0SN8DVESn"
      }
    },
    {
      "cell_type": "code",
      "source": [
        "## Install packages\n",
        "\n",
        "\n",
        "## Load packages\n"
      ],
      "metadata": {
        "id": "RCNONUc1VX19"
      },
      "execution_count": null,
      "outputs": []
    },
    {
      "cell_type": "markdown",
      "source": [
        "# Load the data\n",
        "\n",
        "These data were simulated from the correlation matrices on Table 3 (groups 1 & 3) from Cleary (1968). These data reproduce the correlation matrix--within rounding error--but the individual observations are computer generated (see me for that code if you wish).  \n",
        "\n",
        "These data are from the original paper that the \"Cleary Model\" (i.e., using multiple regression with 1 continuous and 1 categorical predictor for a continuous outcome variable to detect discrimination).\n",
        "\n",
        "The following variables are used in our dataset:\n",
        "\n",
        "- **HSGPA**: Continuous variable specifying the High School Grade Point Average (GPA) for participants.\n",
        "\n",
        "- **Group**: A categorical variable designating the racial identity of the hypothetical student. Levels are \"Black\" and \"White\".\n",
        "\n",
        "- **CGPA**: A continuous variable representing the college GPA (range from 0 to 4).\n",
        "\n",
        "Data originated from the follower paper: Cleary, T. A. (1968). Test bias: Prediction of grades of Negro and white students in integrated colleges. *Journal of Educational Measurement, 5*(2), 115-124.\n",
        "\n",
        "Note: The paper is from the late 1960s. Consequently, the paper uses labels from that era. The methodology is still useful even if we have updated our vocabulary in modern times."
      ],
      "metadata": {
        "id": "VSQDsazuVhE9"
      }
    },
    {
      "cell_type": "code",
      "execution_count": null,
      "metadata": {
        "id": "ugFrhyfYRM_3"
      },
      "outputs": [],
      "source": [
        "## Set the URL to Casey's GitHub page where the dataset is located\n",
        "FileURL <- \"https://raw.githubusercontent.com/CaseyGio/Psyc6290/refs/heads/main/Cleary.csv\"\n",
        "\n",
        "## Read the csv file from GitHub and create a new object\n",
        "Cleary <-\n",
        "  read_csv(url(FileURL)) %>%\n",
        "  select(HSGPA, Group, CGPA)\n",
        "\n",
        "## Check out the dataset\n",
        "head(Cleary, n = 10)"
      ]
    },
    {
      "cell_type": "markdown",
      "source": [
        "# Q2) Convert the 'Group' variable to a factor\n",
        "\n",
        "Create a new object and convert the `group` variable to be interpreted by R as a factor."
      ],
      "metadata": {
        "id": "tYU-BmDJWvhC"
      }
    },
    {
      "cell_type": "code",
      "source": [
        "## Convert Group to factor\n"
      ],
      "metadata": {
        "id": "NNkyv0jxW5bc"
      },
      "execution_count": null,
      "outputs": []
    },
    {
      "cell_type": "markdown",
      "source": [
        "# Q4) Calculate descriptive statistics within levels of the Group variable\n",
        "\n",
        "Calculate the mean and standard deviation of the `HSGPA` variable within each level of the `Group` factor.\n",
        "\n",
        "Which group appears to have the larger high school GPA (in the aggregate)?"
      ],
      "metadata": {
        "id": "6vkD8ir_XBTG"
      }
    },
    {
      "cell_type": "code",
      "source": [
        "## Descriptive stats within affair variable\n"
      ],
      "metadata": {
        "id": "s4wPLFEZXkcw"
      },
      "execution_count": null,
      "outputs": []
    },
    {
      "cell_type": "markdown",
      "source": [
        "# Q5) Visualize the Group and HSGPA variables in a boxplot\n",
        "\n",
        "Create a comparative boxplot to show how happiness score distributions within each level of the affairs varaible."
      ],
      "metadata": {
        "id": "a8v6j_iWX2kY"
      }
    },
    {
      "cell_type": "code",
      "source": [
        "## Create boxplot visualiztion\n"
      ],
      "metadata": {
        "id": "zeDHcfYSYD1K"
      },
      "execution_count": null,
      "outputs": []
    },
    {
      "cell_type": "markdown",
      "source": [
        "# Q6) Visualize the HSGPA, Group, and CGPA variables together\n",
        "\n",
        "Create a scatterplot with the following characteristics:\n",
        "\n",
        "- `HSGPA` on the x-axis\n",
        "\n",
        "- `CGPA` on the y-axis\n",
        "\n",
        "- group and color by the `Group` variable\n",
        "\n",
        "- add a line-of-best-fit & labels to the model"
      ],
      "metadata": {
        "id": "jZ0LfrAaYe0i"
      }
    },
    {
      "cell_type": "code",
      "source": [
        "## Create scatterplot visualization\n"
      ],
      "metadata": {
        "id": "aSJ0vayKY2m6"
      },
      "execution_count": null,
      "outputs": []
    },
    {
      "cell_type": "markdown",
      "source": [
        "# Q7) Estimate the *interaction* effects regression model\n",
        "\n",
        "Estimate a regression model with main effects and the interaction effect for HSGPA & Group status with the CGPA outcome variable."
      ],
      "metadata": {
        "id": "1Xu-NVXBaTYg"
      }
    },
    {
      "cell_type": "code",
      "source": [
        "## Estimate our regression model\n"
      ],
      "metadata": {
        "id": "J1JrNFyWaSK-"
      },
      "execution_count": null,
      "outputs": []
    },
    {
      "cell_type": "markdown",
      "source": [
        "# Q8) Answer in words: Write the full regression equation based on the estimated model in Q7.\n",
        "\n",
        "Write the regression equation that corresponds to the model we estimated above. Make sure to insert the actual slope/intercept values instead of the b0 and b1 (etc) terms.\n",
        "\n",
        "Regression model: ..."
      ],
      "metadata": {
        "id": "7G9tnMQDauYH"
      }
    },
    {
      "cell_type": "markdown",
      "source": [
        "# Q9) Answer in words: Write your conclusions for our research question.\n",
        "\n",
        "RQ1) Is there evidence of discrimination (i.e., intercept or slope differences) against racial groups when using High School GPA to predict future College GPAs?\n",
        "\n",
        "Please describe where you are deriving your insights from (e.g., which regression model parameters, visualization, etc.).\n",
        "\n",
        "ANSWER: ...."
      ],
      "metadata": {
        "id": "GqF3fSnwa2Pv"
      }
    }
  ]
}