{
  "nbformat": 4,
  "nbformat_minor": 0,
  "metadata": {
    "colab": {
      "provenance": []
    },
    "kernelspec": {
      "name": "ir",
      "display_name": "R"
    },
    "language_info": {
      "name": "R"
    }
  },
  "cells": [
    {
      "cell_type": "markdown",
      "source": [
        "# Change runtime type to R\n",
        "\n",
        "Remember, the first step when opening a Google Colab notebook is to change the runtime type to R from Python. Our code will not work otherwise!"
      ],
      "metadata": {
        "id": "xxYER3qqwVtt"
      }
    },
    {
      "cell_type": "markdown",
      "source": [
        "# Our research question for today\n",
        "\n",
        "## **RQ: I am a mother that is 70 inches tall, what is the predicted height of the daughter I will have?**\n",
        "\n",
        "In other words, we are trying to predict the heights of daughters based on the heights of their mothers\n",
        "\n",
        "Galton used regression for the first time to answer this question. He was interested in heritability of characteristics and how to measure & predict it."
      ],
      "metadata": {
        "id": "zcENz1W5zLOS"
      }
    },
    {
      "cell_type": "markdown",
      "source": [
        "# Q1) Load the packages for this activity\n",
        "\n",
        "Load the following packages today:\n",
        "\n",
        "- dplyr\n",
        "\n",
        "- easystats (install this one first)**bold text**\n",
        "\n",
        "- ggplot2"
      ],
      "metadata": {
        "id": "xDenmz7mwYb4"
      }
    },
    {
      "cell_type": "code",
      "source": [
        "## Install easystats package\n",
        "install.packages(\"easystats\")"
      ],
      "metadata": {
        "id": "6pv81J8Ywhl6"
      },
      "execution_count": null,
      "outputs": []
    },
    {
      "cell_type": "code",
      "source": [
        "## Load the packages\n"
      ],
      "metadata": {
        "id": "9ggOr42xwqps"
      },
      "execution_count": null,
      "outputs": []
    },
    {
      "cell_type": "markdown",
      "source": [
        "# Q2) Load in the Galton dataset\n",
        "\n",
        "This time, we are going back to the beginning of regression by using the first data used to illustrate regression. By loading in the Galton.csv file, we will further our understanding of regression by seeing the heritability of height between mothers and their daughters. The data includes the following variables\n",
        "\n",
        "**Family**: Categorical variable denoting which family the children originate from.\n",
        "\n",
        "**Father**: Integer/numeric, the height of the father in inches.\n",
        "\n",
        "**Mother**: Integer/numeric, the height of the mother in inches.\n",
        "\n",
        "**Gender**: Categorical/character, specifying whether the child was M for male or F for female.\n",
        "\n",
        "**Height**: Integer/numeric, specifying the child's height in inches.\n",
        "\n",
        "**Kids**: Ignore this variable."
      ],
      "metadata": {
        "id": "ZWtKddXjwzIK"
      }
    },
    {
      "cell_type": "code",
      "source": [
        "## Load the dataset\n"
      ],
      "metadata": {
        "id": "2prs93IkxPog"
      },
      "execution_count": null,
      "outputs": []
    },
    {
      "cell_type": "markdown",
      "source": [
        "# Q3) Filter the data to only include the heights of female children.\n",
        "\n",
        "Make sure to create a new object to store the filtered dataset.\n",
        "\n"
      ],
      "metadata": {
        "id": "8qcuhZQSyX4s"
      }
    },
    {
      "cell_type": "markdown",
      "source": [
        "# Q4) Create a scatterplot of Mother & Daughter heights\n",
        "\n",
        "The tradition in regression models is to always place the outcome/DV on the y-axis and the predictor/IV on the x-axis. Read the research question and place the mother and daughter height variables on the correct axes."
      ],
      "metadata": {
        "id": "DL-y7C1DzCMm"
      }
    },
    {
      "cell_type": "code",
      "source": [
        "## Visualize mother adn daughter heights\n"
      ],
      "metadata": {
        "id": "Q_x7xXB10XQY"
      },
      "execution_count": null,
      "outputs": []
    },
    {
      "cell_type": "markdown",
      "source": [
        "# Q5) Create a regression model predicting Daughter height from the Mother's height.\n",
        "\n",
        "Make sure to read the research question carefully, we must correctly specify the DV and IV in this case. Create the appropriate regression model using the `lm()` function."
      ],
      "metadata": {
        "id": "r5D90_650uvU"
      }
    },
    {
      "cell_type": "code",
      "source": [
        "## Linear model\n"
      ],
      "metadata": {
        "id": "SGC_UJJW1A18"
      },
      "execution_count": null,
      "outputs": []
    },
    {
      "cell_type": "markdown",
      "source": [
        "# Q6) Using the linear model above, write the regression equation for predicting daughter heights from mother heights\n",
        "\n",
        "You will need to view the results of your linear model output. Then place the correct values (i.e., slope and intercept) in the equation with the correctly specified DV and IV.\n",
        "\n",
        "Base regression model: y + b0 + b1 * x\n",
        "\n",
        "OUR REGRESSION MODEL: ......."
      ],
      "metadata": {
        "id": "59fOP2dT1JxE"
      }
    },
    {
      "cell_type": "markdown",
      "source": [
        "# Q7) Interpret our regression model\n",
        "\n",
        "In words, describe what the intercept and slope values of our above regression model.\n",
        "\n",
        "**INTERCEPT**:\n",
        "\n",
        "**SLOPE**:"
      ],
      "metadata": {
        "id": "MW7wFo-f1x1K"
      }
    },
    {
      "cell_type": "markdown",
      "source": [
        "# Q8) Answer our research question\n",
        "\n",
        "Remember our original research question: **RQ: I am a mother that is 70 inches tall, what is the predicted height of the daughter I will have?**\n",
        "\n",
        "Use the regression model we estimated above and tell us what the predicted daughter height will be given a mother height of 70 inches. You may use R like a calculator to show your work\n",
        "\n",
        "**Answer**:"
      ],
      "metadata": {
        "id": "Tgdtswxq2YSq"
      }
    },
    {
      "cell_type": "code",
      "source": [
        "## Fill in regression equation with mother height of 70\n"
      ],
      "metadata": {
        "id": "CRUGAHTb2tKg"
      },
      "execution_count": null,
      "outputs": []
    }
  ]
}
