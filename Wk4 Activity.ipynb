{
  "nbformat": 4,
  "nbformat_minor": 0,
  "metadata": {
    "colab": {
      "provenance": []
    },
    "kernelspec": {
      "name": "python3",
      "display_name": "Python 3"
    },
    "language_info": {
      "name": "python"
    }
  },
  "cells": [
    {
      "cell_type": "markdown",
      "source": [
        "# Set runtime type to R\n",
        "\n",
        "In the Runtime dropdown, select \"change runtime type,\" and set it to R instead of Python."
      ],
      "metadata": {
        "id": "7vY3NP5b7C6Z"
      }
    },
    {
      "cell_type": "markdown",
      "source": [
        "# Our guiding research question\n",
        "\n",
        "By the end of this activity, we want to address a specific research question. **Which airline had the *most* fatalities across a several year period of time?**"
      ],
      "metadata": {
        "id": "CQVc5FyB9H_v"
      }
    },
    {
      "cell_type": "markdown",
      "source": [
        "# Load packages and data\n",
        "\n",
        "Before we can do any statistics, visualizations, etc., we need to get our tools and data ready!\n",
        "\n",
        "# Q1: Using code, load the dplyr and tidyr packages."
      ],
      "metadata": {
        "id": "HgYr56tC7Gbv"
      }
    },
    {
      "cell_type": "code",
      "execution_count": null,
      "metadata": {
        "id": "sv2dBMZ_69dz"
      },
      "outputs": [],
      "source": [
        "## Load the dplyr package\n",
        "\n",
        "## Load the tidyr package\n"
      ]
    },
    {
      "cell_type": "markdown",
      "source": [
        "# Q2: Loading data into Google Colab\n",
        "\n",
        "Import the `AirlineSafety.csv` file into Google Colab. Assign the dataset to have a new object name."
      ],
      "metadata": {
        "id": "GK0eLw9q7iUJ"
      }
    },
    {
      "cell_type": "code",
      "source": [
        "## Import the AirlineSafety.csv file\n"
      ],
      "metadata": {
        "id": "ugRfcgzA-ghR"
      },
      "execution_count": null,
      "outputs": []
    },
    {
      "cell_type": "markdown",
      "source": [
        "#Q3: Tidy the data\n",
        "\n",
        "Clean the AirlineSafety dataset so that it is a 'tidy' dataset. Specifically, implement the following:\n",
        "\n",
        "1) Create a new object to contain the newly tidy'ed dataset.\n",
        "\n",
        "2) Use the `pivot_longer()` function so that the dataset has the following three columns:\n",
        "\n",
        "2a) `airline`: A character/categorical variable with values specifying the airline.\n",
        "\n",
        "2b) `year`: A categorical variable specifying the year interval for fatalities (e.g., fatalities_85_99).\n",
        "\n",
        "2c) `fatalities`: A numerical variable for the number of airline fatalities occurring within the specified interval."
      ],
      "metadata": {
        "id": "CXKOvaP08Cij"
      }
    },
    {
      "cell_type": "code",
      "source": [
        "## Tidy the airlinesafety data\n"
      ],
      "metadata": {
        "id": "PYeuiSu8895D"
      },
      "execution_count": null,
      "outputs": []
    },
    {
      "cell_type": "markdown",
      "source": [
        "#Q4: Sort the data to answer our question\n",
        "\n",
        "Use the `arrange()` function on the object from Q3 above to sort the fatalities column to be in *descending order* (i.e., the most fatalities at the top)."
      ],
      "metadata": {
        "id": "PNLYRo3q9A43"
      }
    },
    {
      "cell_type": "code",
      "source": [
        "## Arrange the fatalities column\n"
      ],
      "metadata": {
        "id": "TO3I0-Tb9_wX"
      },
      "execution_count": null,
      "outputs": []
    },
    {
      "cell_type": "markdown",
      "source": [
        "#Q5: Answer our main question\n",
        "\n",
        "**Which airline had the *most* fatalities across either of the intervals of data collection?**\n",
        "\n",
        "Answer here:\n",
        "\n",
        "ANSWER: ....."
      ],
      "metadata": {
        "id": "tgInT8eL-Cpb"
      }
    }
  ]
}