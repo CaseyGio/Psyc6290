{
  "nbformat": 4,
  "nbformat_minor": 0,
  "metadata": {
    "colab": {
      "provenance": []
    },
    "kernelspec": {
      "name": "ir",
      "display_name": "R"
    },
    "language_info": {
      "name": "R"
    }
  },
  "cells": [
    {
      "cell_type": "markdown",
      "source": [
        "# Change runtime type to R\n",
        "\n",
        "Remember, the first step when opening a Google Colab notebook is to change the runtime type to R from Python. Our code will not work otherwise!"
      ],
      "metadata": {
        "id": "54Ks0Lr-IsFT"
      }
    },
    {
      "cell_type": "markdown",
      "source": [
        "# Research question\n",
        "\n",
        "We are interested in examining the group size of various primates as they relate to both brain and body size.\n",
        "\n",
        "**RQ1: Can we improve our prediction of primate group size by including an interaction effect between their brain and body sizes?**"
      ],
      "metadata": {
        "id": "j-QBJYP9Ogpi"
      }
    },
    {
      "cell_type": "markdown",
      "source": [
        "# Q1) Install and load packages for the activity\n",
        "\n",
        "We need to install two packages:\n",
        "- easystats\n",
        "- interactions\n",
        "\n",
        "Three packages to load:\n",
        "- easystats\n",
        "- tidyverse\n",
        "- interactions"
      ],
      "metadata": {
        "id": "ImE6aIAPIr2N"
      }
    },
    {
      "cell_type": "code",
      "execution_count": null,
      "metadata": {
        "id": "S5suDRnJIodX"
      },
      "outputs": [],
      "source": [
        "## Install packages\n"
      ]
    },
    {
      "cell_type": "code",
      "source": [
        "## Load packages\n"
      ],
      "metadata": {
        "id": "R-sTY8GCJqEW"
      },
      "execution_count": null,
      "outputs": []
    },
    {
      "cell_type": "markdown",
      "source": [
        "# Load the dataset\n",
        "\n",
        "Load the Primates dataset from my GitHub page using the lines of code provided.\n",
        "\n",
        "Variables in the dataset:\n",
        "- name (Character): Scientific name of the primate species (e.g., Ateles_geoffroyi is a black-handed spider monkey).\n",
        "\n",
        "- brain (Numeric): Size of the primate brains\n",
        "\n",
        "- body (Numeric): Size of the primate body\n",
        "\n",
        "- group_size (Numeric): How large of a group does the primate tend to live with."
      ],
      "metadata": {
        "id": "i-ke8ZdbJun2"
      }
    },
    {
      "cell_type": "code",
      "source": [
        "## Set the URL to Casey's GitHub page where the dataset is located\n",
        "FileURL <- \"https://raw.githubusercontent.com/CaseyGio/Psyc6290/refs/heads/main/PrimatesRaw.csv\"\n",
        "\n",
        "## Read the csv file from GitHub and create a new object\n",
        "Primates <- read_csv(url(FileURL))\n",
        "\n",
        "## Check out the dataset\n",
        "head(Primates, n = 10)"
      ],
      "metadata": {
        "id": "QhoN1swrJ4O1"
      },
      "execution_count": null,
      "outputs": []
    },
    {
      "cell_type": "markdown",
      "source": [
        "# Q2) Standardize the continuous variables into z-score form\n",
        "\n",
        "Convert the three continuous (numeric) variables to be in standardized (z-score) form."
      ],
      "metadata": {
        "id": "3EpVFxTJKWbD"
      }
    },
    {
      "cell_type": "code",
      "source": [
        "## Standardized continuous variables\n"
      ],
      "metadata": {
        "id": "0IxJh0F4OBl8"
      },
      "execution_count": null,
      "outputs": []
    },
    {
      "cell_type": "markdown",
      "source": [
        "# Q3) Estimate a main-effects model\n",
        "\n",
        "Estimate the baseline main-effects model to represent our main research question.\n",
        "\n",
        "Recall: **RQ1: Can we improve our prediction of primate group size by including an interaction effect between their brain and body sizes?**"
      ],
      "metadata": {
        "id": "IPVEHH_4ObI7"
      }
    },
    {
      "cell_type": "code",
      "source": [
        "## Estimate the main effects regression model for the RQ\n"
      ],
      "metadata": {
        "id": "jChahBm5PAtA"
      },
      "execution_count": null,
      "outputs": []
    },
    {
      "cell_type": "markdown",
      "source": [
        "# Q4) Estimate an interaction-effects model\n",
        "\n",
        "Estimate the interaction-effects model to help us address the main research question.\n",
        "\n",
        "Recall: **RQ1: Can we improve our prediction of primate group size by including an interaction effect between their brain and body sizes?**"
      ],
      "metadata": {
        "id": "A8WyxjcbRxgF"
      }
    },
    {
      "cell_type": "code",
      "source": [
        "## Estimate interaction model for the RQ\n"
      ],
      "metadata": {
        "id": "ywiPMRNSPAog"
      },
      "execution_count": null,
      "outputs": []
    },
    {
      "cell_type": "markdown",
      "source": [
        "# Q5) Compare model fit across both models\n",
        "\n",
        "a) Use one of the available functions to show the coefficients of determination (i.e., $R^2$) for both the main- and interaction-effects models.\n",
        "\n",
        "b) Calculate the difference between the coefficients of determination (i.e., calculate $\\Delta R^2$)"
      ],
      "metadata": {
        "id": "H8xIpv2wS1Ux"
      }
    },
    {
      "cell_type": "code",
      "source": [
        "## Coefficients of determination\n"
      ],
      "metadata": {
        "id": "WxIPpzlITcRU"
      },
      "execution_count": null,
      "outputs": []
    },
    {
      "cell_type": "code",
      "source": [
        "## Calculate Delta R^2\n"
      ],
      "metadata": {
        "id": "938xRpoGTsQC"
      },
      "execution_count": null,
      "outputs": []
    },
    {
      "cell_type": "markdown",
      "source": [
        "# Q6) Create a simple slopes visualization\n",
        "\n",
        "Create a simple slopes visualization of the interaction effect model that (a) places brain size as the x-axis predictor and (b) body size as the 'held constant' variable with (c) levels of the body size variable held constant at -1, 0, and 1."
      ],
      "metadata": {
        "id": "JhsyUfHNT0RA"
      }
    },
    {
      "cell_type": "code",
      "source": [
        "## Simple slopes visualization\n"
      ],
      "metadata": {
        "id": "b7TTLYa5UfZD"
      },
      "execution_count": null,
      "outputs": []
    },
    {
      "cell_type": "markdown",
      "source": [
        "# Q7) Answer in words your conclusions about our main research question\n",
        "\n",
        "Recall our main RQ: **Can we improve our prediction of primate group size by including an interaction effect between their brain and body sizes?**\n",
        "\n",
        "Examine (a) the coefficients of determination, (b) model parameters, and (c) the simple slopes chart to make a judgment call. Do we have support that an interaction effect is improving our prediction?\n",
        "\n",
        "ANSWER (justify your answer):"
      ],
      "metadata": {
        "id": "pI9xHhzZUzZY"
      }
    }
  ]
}