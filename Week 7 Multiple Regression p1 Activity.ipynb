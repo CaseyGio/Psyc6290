{
  "nbformat": 4,
  "nbformat_minor": 0,
  "metadata": {
    "colab": {
      "provenance": []
    },
    "kernelspec": {
      "name": "ir",
      "display_name": "R"
    },
    "language_info": {
      "name": "R"
    }
  },
  "cells": [
    {
      "cell_type": "markdown",
      "source": [
        "# Change runtime type to R\n",
        "\n",
        "Remember, the first step when opening a Google Colab notebook is to change the runtime type to R from Python. Our code will not work otherwise!"
      ],
      "metadata": {
        "id": "CSTkNVYBU88o"
      }
    },
    {
      "cell_type": "markdown",
      "source": [
        "# Q1) Load packages for the activity\n",
        "\n",
        "Load the following packages:\n",
        "\n",
        "- readr (to load the dataset)\n",
        "\n",
        "- dplyr (data cleaning, `%>%` pipe operator)\n",
        "\n",
        "- ggplot2 (visualization)\n",
        "\n",
        "- easystats (install first)\n"
      ],
      "metadata": {
        "id": "9T-0SN8DVESn"
      }
    },
    {
      "cell_type": "code",
      "source": [
        "## Install packages\n",
        "\n",
        "\n",
        "## Load packages\n"
      ],
      "metadata": {
        "id": "RCNONUc1VX19"
      },
      "execution_count": null,
      "outputs": []
    },
    {
      "cell_type": "markdown",
      "source": [
        "# Load the data\n",
        "\n",
        "These data today are from \"Fair's Affairs\" dataset, which includes data about marital satisfaction and extramarital affairs. We have a few variables to explore:\n",
        "\n",
        "- Affair: A categorical variable with two levels: Affair & Faithful. This indicates whether the participant had engaged in extramarital sexual intercourse in the past year.\n",
        "\n",
        "- Age: A continuous variable representing the age of the participant.\n",
        "\n",
        "- Happiness: A continuous variable representing the self-reported happiness of the participants' marriage (higher scores = happier marriage).\n",
        "\n",
        "Data originated from the follower paper: Fair, R. C. (1978). A theory of extramarital affairs. *Journal of political economy, 86*(1), 45-61."
      ],
      "metadata": {
        "id": "VSQDsazuVhE9"
      }
    },
    {
      "cell_type": "code",
      "execution_count": null,
      "metadata": {
        "id": "ugFrhyfYRM_3"
      },
      "outputs": [],
      "source": [
        "## Set the URL to Casey's GitHub page where the dataset is located\n",
        "FileURL <- \"https://raw.githubusercontent.com/CaseyGio/Psyc6290/refs/heads/main/FairsAffairs.csv\"\n",
        "\n",
        "## Read the csv file from GitHub and create a new object\n",
        "FairsAffairs <- read_csv(url(FileURL))\n",
        "\n",
        "## Check out the dataset\n",
        "head(FairsAffairs, n = 10)"
      ]
    },
    {
      "cell_type": "markdown",
      "source": [
        "# Q2) Convert the 'Affair' variable to a factor\n",
        "\n",
        "Create a new object and convert the affair variable to be interpreted by R as a factor."
      ],
      "metadata": {
        "id": "tYU-BmDJWvhC"
      }
    },
    {
      "cell_type": "code",
      "source": [
        "## Convert affair to factor\n"
      ],
      "metadata": {
        "id": "NNkyv0jxW5bc"
      },
      "execution_count": null,
      "outputs": []
    },
    {
      "cell_type": "markdown",
      "source": [
        "# Q4) Calculate descriptive statistics within levels of the Affair variable\n",
        "\n",
        "Calculate the mean and standard deviation of the happiness variable within each level of the Affair factor.\n",
        "\n",
        "Which group appears to be happier (in the aggregate)?"
      ],
      "metadata": {
        "id": "6vkD8ir_XBTG"
      }
    },
    {
      "cell_type": "code",
      "source": [
        "## Descriptive stats within affair variable\n"
      ],
      "metadata": {
        "id": "s4wPLFEZXkcw"
      },
      "execution_count": null,
      "outputs": []
    },
    {
      "cell_type": "markdown",
      "source": [
        "# Q5) Visualize the affairs and happiness variables in a boxplot\n",
        "\n",
        "Create a comparative boxplot to show how happiness score distributions within each level of the affairs varaible."
      ],
      "metadata": {
        "id": "a8v6j_iWX2kY"
      }
    },
    {
      "cell_type": "code",
      "source": [
        "## Create boxplot visualiztion\n"
      ],
      "metadata": {
        "id": "zeDHcfYSYD1K"
      },
      "execution_count": null,
      "outputs": []
    },
    {
      "cell_type": "markdown",
      "source": [
        "# Q6) Visualize the age, affairs, and happiness variables together\n",
        "\n",
        "Create a scatterplot with the following characteristics:\n",
        "\n",
        "- age on the x-axis\n",
        "\n",
        "- happiness on the y-axis\n",
        "\n",
        "- group and color by the affairs variable\n",
        "\n",
        "- add a line-of-best-fit & labels to the model"
      ],
      "metadata": {
        "id": "jZ0LfrAaYe0i"
      }
    },
    {
      "cell_type": "code",
      "source": [
        "## Create scatterplot visualization\n"
      ],
      "metadata": {
        "id": "aSJ0vayKY2m6"
      },
      "execution_count": null,
      "outputs": []
    },
    {
      "cell_type": "markdown",
      "source": [
        "# Q7) Estimate *main* effects regression model\n",
        "\n",
        "Estimate the main-effects-only model that has two independent variables of age and affair."
      ],
      "metadata": {
        "id": "ox8Z1uRmZfdW"
      }
    },
    {
      "cell_type": "code",
      "source": [
        "## Estimate our regression model\n"
      ],
      "metadata": {
        "id": "KJJUIqsqZuUA"
      },
      "execution_count": null,
      "outputs": []
    },
    {
      "cell_type": "markdown",
      "source": [
        "# Q8) Answer in words: Write the full regression equation based on the estimated model in Q7\n",
        "\n",
        "Write the regression equation that corresponds to the model we estimated above. Make sure to insert the actual slope/intercept values instead of the b0 and b1 (etc) terms.\n",
        "\n",
        "Regression model: ..."
      ],
      "metadata": {
        "id": "jziBqzGzZ402"
      }
    },
    {
      "cell_type": "markdown",
      "source": [
        "# Q9) Estimate the *interaction* effects regression model\n",
        "\n",
        "Estimate a regression model with main effects and the interaction effect for age & affair status with the happiness outcome variable."
      ],
      "metadata": {
        "id": "1Xu-NVXBaTYg"
      }
    },
    {
      "cell_type": "code",
      "source": [
        "## Estimate our regression model\n"
      ],
      "metadata": {
        "id": "J1JrNFyWaSK-"
      },
      "execution_count": null,
      "outputs": []
    },
    {
      "cell_type": "markdown",
      "source": [
        "# Q10) Answer in words: Write the full regression equation based on the estimated model in Q9.\n",
        "\n",
        "Write the regression equation that corresponds to the model we estimated above. Make sure to insert the actual slope/intercept values instead of the b0 and b1 (etc) terms.\n",
        "\n",
        "Regression model: ..."
      ],
      "metadata": {
        "id": "7G9tnMQDauYH"
      }
    },
    {
      "cell_type": "markdown",
      "source": [
        "# Q11) Answer in words: Explain the difference between a main-effects-only and main-effects-plus-interaction-effects regression model.\n",
        "\n",
        "Are there any differences in how we interpret the regression equation? What does the interaction term mean for us when we interpret the model results?\n",
        "\n",
        "ANSWER: ...."
      ],
      "metadata": {
        "id": "GqF3fSnwa2Pv"
      }
    }
  ]
}