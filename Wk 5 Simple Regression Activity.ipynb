{
  "nbformat": 4,
  "nbformat_minor": 0,
  "metadata": {
    "colab": {
      "provenance": []
    },
    "kernelspec": {
      "name": "ir",
      "display_name": "R"
    },
    "language_info": {
      "name": "R"
    }
  },
  "cells": [
    {
      "cell_type": "markdown",
      "source": [
        "# Change runtime type to R\n",
        "\n",
        "Remember, the first step when opening a Google Colab notebook is to change the runtime type to R from Python. Our code will not work otherwise!"
      ],
      "metadata": {
        "id": "UZ11naJC30fe"
      }
    },
    {
      "cell_type": "markdown",
      "source": [
        "# Our main research question\n",
        "\n",
        "**RQ: I have an iris petal that has a *length* of 5cm, what is our predicted petal *width* for this iris?**\n",
        "\n",
        "Think about the phrasing of the question, what is our IV? Our DV?"
      ],
      "metadata": {
        "id": "pNynCRcY48Ou"
      }
    },
    {
      "cell_type": "markdown",
      "source": [
        "# Q1) Load the packages for this activity\n",
        "\n",
        "Load the following packages today:\n",
        "\n",
        "- dplyr\n",
        "\n",
        "- easystats (install this one first)\n",
        "\n",
        "- ggplot2"
      ],
      "metadata": {
        "id": "5C-OBhMm3438"
      }
    },
    {
      "cell_type": "code",
      "source": [
        "## Install easystats\n",
        "install.packages(\"easystats\")"
      ],
      "metadata": {
        "id": "0Xu7Xj-44PuG"
      },
      "execution_count": null,
      "outputs": []
    },
    {
      "cell_type": "code",
      "source": [
        "## Load the packages\n"
      ],
      "metadata": {
        "id": "f98gzUGw4I3E"
      },
      "execution_count": null,
      "outputs": []
    },
    {
      "cell_type": "markdown",
      "source": [
        "# Q2) Show the first few rows of the `iris` dataset\n",
        "\n",
        "We have used this dataset previously, it is included in base R."
      ],
      "metadata": {
        "id": "JQOioyF738uI"
      }
    },
    {
      "cell_type": "code",
      "source": [
        "## Show the dataset\n"
      ],
      "metadata": {
        "id": "OhQLtA7K4XnC"
      },
      "execution_count": null,
      "outputs": []
    },
    {
      "cell_type": "markdown",
      "source": [
        "# Q3) Calculate the descriptive statistics of the continuous variables\n",
        "\n",
        "Make sure to include the average and SD for each of the four continuous variables in the dataset."
      ],
      "metadata": {
        "id": "rAhUZUGj4c7Y"
      }
    },
    {
      "cell_type": "code",
      "source": [
        "## Summarize the descriptive statistics\n"
      ],
      "metadata": {
        "id": "qqlnbixn4r1o"
      },
      "execution_count": null,
      "outputs": []
    },
    {
      "cell_type": "markdown",
      "source": [
        "# Q4) Visualize the petal data with a scatterplot\n",
        "\n",
        "Create a scatterplot of the two petal variables. Traditionally, we place the outcome/DV variable on the y-axis and the predictor/IV on the x-axis. Add a line of best fit with the lm method."
      ],
      "metadata": {
        "id": "lsmzC98Q4x8s"
      }
    },
    {
      "cell_type": "code",
      "source": [
        "## Create a scatterplot with correct axes\n"
      ],
      "metadata": {
        "id": "g1fSRM1D58ng"
      },
      "execution_count": null,
      "outputs": []
    },
    {
      "cell_type": "markdown",
      "source": [
        "# Q5) Estimate a regression model\n",
        "\n",
        "Based on our research question, identify the IV and DV. Remember that we use the following format to estimate our regression model:\n",
        "\n",
        "`lm(DV ~ IV, data = [object name]`.\n",
        "\n",
        "Make sure to save the output as an object to later view the results again."
      ],
      "metadata": {
        "id": "xmaMxO556WBo"
      }
    },
    {
      "cell_type": "code",
      "source": [
        "## Estimate our regression model\n"
      ],
      "metadata": {
        "id": "pEiYDVCy6_iO"
      },
      "execution_count": null,
      "outputs": []
    },
    {
      "cell_type": "markdown",
      "source": [
        "# Q6) Using the linear model above, write the regression equation\n",
        "\n",
        "We have our estimated regression model. Use some code to show the output of our regression model and use the obtained values to fill in our regression equation.\n",
        "\n",
        "Base regression equation: y + bo + b1 * x\n",
        "\n",
        "OUR REGRESSION MODEL: ......."
      ],
      "metadata": {
        "id": "hXsowUOF7PNY"
      }
    },
    {
      "cell_type": "markdown",
      "source": [
        "# Q7) Interpret our regression model\n",
        "\n",
        "In words, describe what the intercept and slope values of our above regression model.\n",
        "\n",
        "**INTERCEPT**:\n",
        "\n",
        "**SLOPE**:"
      ],
      "metadata": {
        "id": "JWnZ2jRr7rdH"
      }
    },
    {
      "cell_type": "markdown",
      "source": [
        "# Q8) Answer our research question\n",
        "\n",
        "Remember our original research question: **RQ: I have an iris petal that has a *length* of 5cm, what is our predicted petal *width* for this iris?**\n",
        "\n",
        "Use the regression model we estimated above and tell us what the predicted width would be given an iris petal with a length of 5cm? You may use R like a calculator to show your work. You can also verify your answer by looking at our visualization above and finding the length of 5cm.\n",
        "\n",
        "**Answer**:"
      ],
      "metadata": {
        "id": "V35b0fzl7vim"
      }
    },
    {
      "cell_type": "code",
      "source": [
        "## Fill in the regression equation with a petal length of 5cm\n"
      ],
      "metadata": {
        "id": "D50KrQN28GRi"
      },
      "execution_count": null,
      "outputs": []
    }
  ]
}