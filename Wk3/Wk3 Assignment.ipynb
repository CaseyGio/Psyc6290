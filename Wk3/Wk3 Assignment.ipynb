{
  "nbformat": 4,
  "nbformat_minor": 0,
  "metadata": {
    "colab": {
      "provenance": []
    },
    "kernelspec": {
      "name": "ir",
      "display_name": "R"
    },
    "language_info": {
      "name": "R"
    }
  },
  "cells": [
    {
      "cell_type": "markdown",
      "source": [
        "# Set runtime type to R\n",
        "\n",
        "In the Runtime dropdown, select \"change runtime type,\" and set it to R instead of Python.\n",
        "\n"
      ],
      "metadata": {
        "id": "E1uYcAkDpGBY"
      }
    },
    {
      "cell_type": "markdown",
      "source": [
        "# Load the packages and data into R\n",
        "\n",
        "At the beginning of any R project and before anything can really begin, we have to load the packages and then the data.\n",
        "\n",
        "# Q1: Load the three packages we need for this assignment: dplyr, readr, and ggplot2\n",
        "\n",
        "Make sure to load each of the three packages on a separate line of code."
      ],
      "metadata": {
        "id": "eDFrAfziqSTI"
      }
    },
    {
      "cell_type": "code",
      "source": [
        "## Load the dplyr package\n",
        "\n",
        "\n",
        "## Load the readr package\n",
        "\n",
        "\n",
        "## Load the ggplot library\n"
      ],
      "metadata": {
        "id": "nIrtW4suqYOf"
      },
      "execution_count": null,
      "outputs": []
    },
    {
      "cell_type": "markdown",
      "source": [
        "# Data for the assignment\n",
        "\n",
        "Run the code below to pull the assignment dataset from my personal GitHub page so that you can use it for this assignment.\n",
        "\n",
        "There are 7 columns, each of which include numeric values except for Dept (department). These are not real data points, they are illustrative of our concepts, however.\n",
        "\n",
        "- **EmployeeID**: The employee ID\n",
        "- **OrgTenureYrs_2019**: Employee organizational tenure, in years, taken from the 2019 calendar year.\n",
        "- **JobLevel**: Numeric vector (denoting categorical levels) for the level of the job. Higher values mean higher job level.\n",
        "- **Sex**: Categorical character vector of employee sex (F = female, M = male).\n",
        "- **RaceEthnicity**: Categorical character vector of race/ethnicity characteristics (Asian, HispanicLatino, White, Black).\n",
        "- **AgeYrs_2019**: Numeric value for the age (in years) of employees as of 2019.\n",
        "- **Veteran**: Character vector specifying veteran status of employees (No, Yes)."
      ],
      "metadata": {
        "id": "xlIQlQ_cqWVp"
      }
    },
    {
      "cell_type": "code",
      "source": [
        "## GitHub URL for GenderPay.csv dataset\n",
        "urlfile <- \"https://raw.githubusercontent.com/CaseyGio/Psyc6290/refs/heads/main/EmployeeDemographics.csv\"\n",
        "\n",
        "## Load the dataset from the GitHub repository\n",
        "EmployData <- read_csv(url(urlfile))\n",
        "\n",
        "## See if the data loaded\n",
        "head(EmployData)"
      ],
      "metadata": {
        "id": "xGIeZkycqVZb"
      },
      "execution_count": null,
      "outputs": []
    },
    {
      "cell_type": "markdown",
      "source": [
        "# Q2: Create a new object and use the pipe operator to wrangle our employement data in the following ways:\n",
        "\n",
        "Remember to create a new object (e.g., EmployClean) to save all the wrangling we are doing here.\n",
        "\n",
        "- Use the filter() function on OrgTenureYrs_2019 to only include values greater than or equal to 3.\n",
        "\n",
        "- Use the filter() function to REMOVE/IGNORE the value of 99999 from the OrgTenureYrs_2019 column. Values *should* only be between 0.1 through 11.5 so a value of 99999 is not possible and we should remove or at least investigate suspicious data values.  \n",
        "\n",
        "- Use the filter() function to only include employees that are **NOT** veterans. NOTE: when we filter on a character value, like the entries for the Veteran column, we must put these character values in quotation makes (i.e., \"Yes\" or \"No\" for the two levels here).\n",
        "\n",
        "- Use the select() function to keep the OrgTenureYrs_2019, Sex, RaceEthnicity, and AgeYrs_2019 columns."
      ],
      "metadata": {
        "id": "tL8p2DJsrhuj"
      }
    },
    {
      "cell_type": "code",
      "source": [
        "## Create a new object and apply the filter and select functions to wrangle data\n"
      ],
      "metadata": {
        "id": "wnQ4nE58tqMQ"
      },
      "execution_count": null,
      "outputs": []
    },
    {
      "cell_type": "markdown",
      "source": [
        "# Q3: Use the mutate() and recode() functions to convert the Sex column entries to Female and Male (from F and M, respectively).\n",
        "\n",
        "Remember to overwrite the object we created above (e.g., EmployClean) in Q2 so that we can save the wrangling that we do."
      ],
      "metadata": {
        "id": "DLVZh-6gubct"
      }
    },
    {
      "cell_type": "code",
      "source": [
        "## Recode Sex column to Female and Male\n"
      ],
      "metadata": {
        "id": "jcDcqhDcumHl"
      },
      "execution_count": null,
      "outputs": []
    },
    {
      "cell_type": "markdown",
      "source": [
        "# Q4: Using the wrangled object created above, use the summarize() function to determine the mean/average and standard deviation for employee ages (AgeYrs_2019).\n",
        "\n",
        "Of the remaining people in our cleaned/wrangled dataset, what is the average and SD of employee ages?"
      ],
      "metadata": {
        "id": "QvUdgo9Dvgat"
      }
    },
    {
      "cell_type": "code",
      "source": [
        "## Summarize employee ages\n"
      ],
      "metadata": {
        "id": "gtvNhhfcv6OP"
      },
      "execution_count": null,
      "outputs": []
    },
    {
      "cell_type": "markdown",
      "source": [
        "# Q5: Using the wrangled object, use the group_by() function followed by the summarize() function to quantify the mean age of employees for each race/ethnicity category.\n",
        "\n",
        "Again, using the wrangled object created in questions #2 and #3 above, find the average age of employees for each racial/ethnic category. Hint: You should have an aggregated age for three different."
      ],
      "metadata": {
        "id": "JY5ipJHiwJMU"
      }
    },
    {
      "cell_type": "code",
      "source": [
        "## Group by race/ethnicity and summarize ages based on those groups\n"
      ],
      "metadata": {
        "id": "sVGMpyYYwmbd"
      },
      "execution_count": null,
      "outputs": []
    },
    {
      "cell_type": "markdown",
      "source": [
        "# Q6: Based on the summary table, which racial/ethnic category has the lowest mean/average age?\n",
        "\n",
        "Answer here:\n",
        "\n",
        "ANSWER...."
      ],
      "metadata": {
        "id": "zJeH0kKew9Xd"
      }
    },
    {
      "cell_type": "markdown",
      "source": [
        "# Q7 (Review): Using the wrangled data object, create a boxplot with the following ggplot elements:\n",
        "\n",
        "- Data: The wrangled data object created in questions 2 and 3 above.\n",
        "\n",
        "- Aes: Map the RaceEthnicity variable to the x-axis and the AgeYrs_2019 variable to the y-axis.\n",
        "\n",
        "- Geom: Use the geom_boxplot() function to create a boxplot geometric object."
      ],
      "metadata": {
        "id": "a1yJxeYoxJr4"
      }
    },
    {
      "cell_type": "code",
      "source": [
        "## Create a boxplot of race by age\n"
      ],
      "metadata": {
        "id": "YWDvSxnhxcxL"
      },
      "execution_count": null,
      "outputs": []
    },
    {
      "cell_type": "markdown",
      "source": [
        "# END OF ASSIGNMENT\n",
        "\n",
        "Remaining steps:\n",
        "\n",
        "1) Check your work. Does your code show the correct output? Are there errors? Did you answer the text-based questions?\n",
        "\n",
        "2) Save your work: Save the file somewhere (e.g., Google Drive, GitHub, local computer file system) and download the completed work using the .ipynb filetype.\n",
        "\n",
        "3) Save the assignment file to include your name and module/week number (e.g., CaseyWk1.ipynb or Wk1Giordano.ipynb would be acceptable file names).\n",
        "\n",
        "4) Upload your file to Canvas."
      ],
      "metadata": {
        "id": "pqHTx7lpyD0i"
      }
    }
  ]
}
