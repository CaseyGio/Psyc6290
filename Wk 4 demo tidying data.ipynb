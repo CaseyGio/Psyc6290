{
  "nbformat": 4,
  "nbformat_minor": 0,
  "metadata": {
    "colab": {
      "provenance": [],
      "toc_visible": true
    },
    "kernelspec": {
      "name": "ir",
      "display_name": "R"
    },
    "language_info": {
      "name": "R"
    }
  },
  "cells": [
    {
      "cell_type": "markdown",
      "source": [
        "# Change runtime type to R\n",
        "\n",
        "Remember, the first step when opening a Google Colab notebook is to change the runtime type to R from Python. Our code will not work otherwise!"
      ],
      "metadata": {
        "id": "JTmFVVH8xsE-"
      }
    },
    {
      "cell_type": "markdown",
      "source": [],
      "metadata": {
        "id": "0UYOigX5x0e4"
      }
    },
    {
      "cell_type": "markdown",
      "source": [
        "# Install packages for the demonstration\n",
        "\n",
        "There are some packages that Google Colab does not already have installed. For those, we will need to first install them before we can even load them. Remember, this is like needing to install an app on your phone before you can even use the app."
      ],
      "metadata": {
        "id": "qL4YDicdx_3m"
      }
    },
    {
      "cell_type": "code",
      "source": [
        "## Install necessary packages\n",
        "install.packages(\"fivethirtyeight\")"
      ],
      "metadata": {
        "colab": {
          "base_uri": "https://localhost:8080/"
        },
        "id": "cE65TpIlyb9_",
        "outputId": "40f98d15-8a72-48a1-c59e-58fb0315a748"
      },
      "execution_count": 2,
      "outputs": [
        {
          "output_type": "stream",
          "name": "stderr",
          "text": [
            "Installing package into ‘/usr/local/lib/R/site-library’\n",
            "(as ‘lib’ is unspecified)\n",
            "\n"
          ]
        }
      ]
    },
    {
      "cell_type": "markdown",
      "source": [
        "## Load the packages and data into R\n",
        "\n",
        "At the beginning of any R project and before anything can really begin, we have two steps:\n",
        "\n",
        "1) Load the packages that we will use.\n",
        "\n",
        "2) Load the data in R (if it isn't already loaded into the system).\n",
        "\n",
        "It helps keep the \"work space\" clean to load all the packages up front so that you know where they are loaded and can easily see which packages are required.\n",
        "\n",
        "For now, the data we will use is located in R or in some packages. We will learn how to load external data into R at a later date."
      ],
      "metadata": {
        "id": "0fBdM1XFVEvF"
      }
    },
    {
      "cell_type": "code",
      "execution_count": 9,
      "metadata": {
        "id": "gj3_PH3RxU82"
      },
      "outputs": [],
      "source": [
        "## Load several packages that we will use in this demonstration\n",
        "library(dplyr)\n",
        "library(ggplot2)\n",
        "library(readr)\n",
        "library(tidyr)\n",
        "library(fivethirtyeight)\n",
        "#library(magrittr)"
      ]
    },
    {
      "cell_type": "markdown",
      "source": [
        "# Exploring the 'drinks' dataset\n",
        "\n",
        "From the fivethirtyeight package, we can load in the 'drinks' data object by using the data() function.\n"
      ],
      "metadata": {
        "id": "_WyZt-t_ywRK"
      }
    },
    {
      "cell_type": "code",
      "source": [
        "## Load the 'drinks' data object into our environment (R's memory bank)\n",
        "data(drinks)"
      ],
      "metadata": {
        "id": "XPdq0Nhhy5R2"
      },
      "execution_count": 4,
      "outputs": []
    },
    {
      "cell_type": "markdown",
      "source": [
        "After we load a dataset, it's helpful to see what is inside the dataset. Some helpful things to look at and ask yourself regarding a dataset that is new to you.\n",
        "\n",
        "- In what manner is the data arranged? For example, is each column a variable or is each row a variable? Usually, we want columns to be the variables and the rows are the entities being observed (e.g., each row is a person and each column is that person's score on each variable).\n",
        "\n",
        "- What type of data are we working with? Common types of data are characters (e.g., categories), logical (e.g., TRUE/FALSE or 1/0), or numeric (i.e., number values).\n",
        "\n",
        "- What variables are included and how are they measured? In the drinks dataset, we have servings of beer, wine, and spirits (i.e., numeric values) as well as the country (i.e., character values) and total alcohol consumption in litres of pure alcohol (i.e., numeric values).\n",
        "\n",
        "- How many rows and columns are in the dataset. This helps us know how much data we are working with. For example, each country is on a row and we have 193 rows so it's likely that we have 193 separate countries in this dataset, which also has 4 other variables (columns)."
      ],
      "metadata": {
        "id": "X-35E_PPy59u"
      }
    },
    {
      "cell_type": "code",
      "source": [
        "## See the first 6 rows of data with the head() function\n",
        "head(drinks)\n",
        "\n",
        "## See the dataset dimensions (i.e., rows by columns, respectively)\n",
        "## These data have 193 rows by 5 columns\n",
        "dim(drinks)"
      ],
      "metadata": {
        "colab": {
          "base_uri": "https://localhost:8080/",
          "height": 303
        },
        "id": "vTg6w30ay9-0",
        "outputId": "11ba0823-a3ae-47e1-d5a6-64115b11ffce"
      },
      "execution_count": 5,
      "outputs": [
        {
          "output_type": "display_data",
          "data": {
            "text/html": [
              "<table class=\"dataframe\">\n",
              "<caption>A tibble: 6 × 5</caption>\n",
              "<thead>\n",
              "\t<tr><th scope=col>country</th><th scope=col>beer_servings</th><th scope=col>spirit_servings</th><th scope=col>wine_servings</th><th scope=col>total_litres_of_pure_alcohol</th></tr>\n",
              "\t<tr><th scope=col>&lt;chr&gt;</th><th scope=col>&lt;int&gt;</th><th scope=col>&lt;int&gt;</th><th scope=col>&lt;int&gt;</th><th scope=col>&lt;dbl&gt;</th></tr>\n",
              "</thead>\n",
              "<tbody>\n",
              "\t<tr><td>Afghanistan      </td><td>  0</td><td>  0</td><td>  0</td><td> 0.0</td></tr>\n",
              "\t<tr><td>Albania          </td><td> 89</td><td>132</td><td> 54</td><td> 4.9</td></tr>\n",
              "\t<tr><td>Algeria          </td><td> 25</td><td>  0</td><td> 14</td><td> 0.7</td></tr>\n",
              "\t<tr><td>Andorra          </td><td>245</td><td>138</td><td>312</td><td>12.4</td></tr>\n",
              "\t<tr><td>Angola           </td><td>217</td><td> 57</td><td> 45</td><td> 5.9</td></tr>\n",
              "\t<tr><td>Antigua &amp; Barbuda</td><td>102</td><td>128</td><td> 45</td><td> 4.9</td></tr>\n",
              "</tbody>\n",
              "</table>\n"
            ],
            "text/markdown": "\nA tibble: 6 × 5\n\n| country &lt;chr&gt; | beer_servings &lt;int&gt; | spirit_servings &lt;int&gt; | wine_servings &lt;int&gt; | total_litres_of_pure_alcohol &lt;dbl&gt; |\n|---|---|---|---|---|\n| Afghanistan       |   0 |   0 |   0 |  0.0 |\n| Albania           |  89 | 132 |  54 |  4.9 |\n| Algeria           |  25 |   0 |  14 |  0.7 |\n| Andorra           | 245 | 138 | 312 | 12.4 |\n| Angola            | 217 |  57 |  45 |  5.9 |\n| Antigua &amp; Barbuda | 102 | 128 |  45 |  4.9 |\n\n",
            "text/latex": "A tibble: 6 × 5\n\\begin{tabular}{lllll}\n country & beer\\_servings & spirit\\_servings & wine\\_servings & total\\_litres\\_of\\_pure\\_alcohol\\\\\n <chr> & <int> & <int> & <int> & <dbl>\\\\\n\\hline\n\t Afghanistan       &   0 &   0 &   0 &  0.0\\\\\n\t Albania           &  89 & 132 &  54 &  4.9\\\\\n\t Algeria           &  25 &   0 &  14 &  0.7\\\\\n\t Andorra           & 245 & 138 & 312 & 12.4\\\\\n\t Angola            & 217 &  57 &  45 &  5.9\\\\\n\t Antigua \\& Barbuda & 102 & 128 &  45 &  4.9\\\\\n\\end{tabular}\n",
            "text/plain": [
              "  country           beer_servings spirit_servings wine_servings\n",
              "1 Afghanistan         0             0               0          \n",
              "2 Albania            89           132              54          \n",
              "3 Algeria            25             0              14          \n",
              "4 Andorra           245           138             312          \n",
              "5 Angola            217            57              45          \n",
              "6 Antigua & Barbuda 102           128              45          \n",
              "  total_litres_of_pure_alcohol\n",
              "1  0.0                        \n",
              "2  4.9                        \n",
              "3  0.7                        \n",
              "4 12.4                        \n",
              "5  5.9                        \n",
              "6  4.9                        "
            ]
          },
          "metadata": {}
        },
        {
          "output_type": "display_data",
          "data": {
            "text/html": [
              "<style>\n",
              ".list-inline {list-style: none; margin:0; padding: 0}\n",
              ".list-inline>li {display: inline-block}\n",
              ".list-inline>li:not(:last-child)::after {content: \"\\00b7\"; padding: 0 .5ex}\n",
              "</style>\n",
              "<ol class=list-inline><li>193</li><li>5</li></ol>\n"
            ],
            "text/markdown": "1. 193\n2. 5\n\n\n",
            "text/latex": "\\begin{enumerate*}\n\\item 193\n\\item 5\n\\end{enumerate*}\n",
            "text/plain": [
              "[1] 193   5"
            ]
          },
          "metadata": {}
        }
      ]
    },
    {
      "cell_type": "markdown",
      "source": [
        "## Asking the question: What do we want to accomplish?\n",
        "\n",
        "The data we originally import/load is typically going to be messy, the next step is to wrangle (clean) the data. All data cleaning should focus on answering the main question(s) regarding a dataset. Here, maybe we ask a specific question: Out of four major countries (i.e., China, Italy, Saudi Arabia, and the USA), which has the largest consumption of beer, wine, and spirits?\n",
        "\n",
        "Let's complete three major steps to wrangle our data to meet these needs:\n",
        "\n",
        "1) Filter the data so that only four countries (i.e., China, Italy, Saudi Arabia, and the USA) are included in the data.\n",
        "\n",
        "2) Select only the columns we need and drop/ignore the column we do not need.\n",
        "\n",
        "3) Rename the columns to be simple and easier to read (e.g., for data visualization purposes).\n",
        "\n",
        "Once that is accomplished, let's view the new data object to see if we were *successful*"
      ],
      "metadata": {
        "id": "e9DMktWWzIjw"
      }
    },
    {
      "cell_type": "markdown",
      "source": [
        "## Wrangle the data\n",
        "\n",
        "Let's put into practice what we wished to achieve above.\n"
      ],
      "metadata": {
        "id": "RtJVJg80zORS"
      }
    },
    {
      "cell_type": "code",
      "source": [
        "## Wrangle the data to answer our question\n",
        "drinks_smaller <-\n",
        "  drinks %>%\n",
        "  filter(country == \"USA\" | country == \"China\" | country == \"Italy\" | country == \"Saudi Arabia\") %>%\n",
        "  select(country, beer_servings, spirit_servings, wine_servings) %>%\n",
        "  rename(beer = beer_servings, spirit = spirit_servings, wine = wine_servings)\n",
        "\n",
        "## View the dataset, does it look like what we wanted to accomplish?\n",
        "head(drinks_smaller)"
      ],
      "metadata": {
        "colab": {
          "base_uri": "https://localhost:8080/",
          "height": 223
        },
        "id": "wOAAs9_5zQcC",
        "outputId": "603450a6-030e-4d95-9645-abb4fae0f73d"
      },
      "execution_count": 6,
      "outputs": [
        {
          "output_type": "display_data",
          "data": {
            "text/html": [
              "<table class=\"dataframe\">\n",
              "<caption>A tibble: 4 × 4</caption>\n",
              "<thead>\n",
              "\t<tr><th scope=col>country</th><th scope=col>beer</th><th scope=col>spirit</th><th scope=col>wine</th></tr>\n",
              "\t<tr><th scope=col>&lt;chr&gt;</th><th scope=col>&lt;int&gt;</th><th scope=col>&lt;int&gt;</th><th scope=col>&lt;int&gt;</th></tr>\n",
              "</thead>\n",
              "<tbody>\n",
              "\t<tr><td>China       </td><td> 79</td><td>192</td><td>  8</td></tr>\n",
              "\t<tr><td>Italy       </td><td> 85</td><td> 42</td><td>237</td></tr>\n",
              "\t<tr><td>Saudi Arabia</td><td>  0</td><td>  5</td><td>  0</td></tr>\n",
              "\t<tr><td>USA         </td><td>249</td><td>158</td><td> 84</td></tr>\n",
              "</tbody>\n",
              "</table>\n"
            ],
            "text/markdown": "\nA tibble: 4 × 4\n\n| country &lt;chr&gt; | beer &lt;int&gt; | spirit &lt;int&gt; | wine &lt;int&gt; |\n|---|---|---|---|\n| China        |  79 | 192 |   8 |\n| Italy        |  85 |  42 | 237 |\n| Saudi Arabia |   0 |   5 |   0 |\n| USA          | 249 | 158 |  84 |\n\n",
            "text/latex": "A tibble: 4 × 4\n\\begin{tabular}{llll}\n country & beer & spirit & wine\\\\\n <chr> & <int> & <int> & <int>\\\\\n\\hline\n\t China        &  79 & 192 &   8\\\\\n\t Italy        &  85 &  42 & 237\\\\\n\t Saudi Arabia &   0 &   5 &   0\\\\\n\t USA          & 249 & 158 &  84\\\\\n\\end{tabular}\n",
            "text/plain": [
              "  country      beer spirit wine\n",
              "1 China         79  192      8 \n",
              "2 Italy         85   42    237 \n",
              "3 Saudi Arabia   0    5      0 \n",
              "4 USA          249  158     84 "
            ]
          },
          "metadata": {}
        }
      ]
    },
    {
      "cell_type": "markdown",
      "source": [
        "## Explaining the code\n",
        "\n",
        "1) \"drinks_smaller <-\": The first line of code does two things: (a) we are creating a new object called \"drinks_smaller\" and (b) we are *assigning* the results of everything that happens after the \"<-\" to be included in that object.\n",
        "\n",
        "2) \"drinks %>%\": this line tells us that we are starting our multiple lines of code from an already created object (drinks, see above) and we are \"piping\" (i.e., %>%) that object into the next lines of code (i.e., we are going to alter the drinks dataset somehow).\n",
        "\n",
        "3) \" filter(country == \"USA\" | country == \"China\" | country == \"Italy\" | country == \"Saudi Arabia\") %>% \": This is a long line of code that might seem confusing. The filter() function is the same as filtering in Excel, we are ignoring rows based on something. Here, we only want to keep rows of data where the \"country\" variable has values of either USA __or__ China __or__ Italy __or__ Saudia Arabia. The vertical line \"|\" (above my enter key, shift + \\ on a Windows keyboard) is interpreted as \"or.\" The pipe operator at the end signifies we are taking the output of this line of code and feeding it into the next line of code as the next input.\n",
        "\n",
        "4) \" select(country, beer_servings, spirit_servings, wine_servings) %>% \": Whereas filter() will ignore some rows based on a logical input, select() will extract the specified columns and ignore the others. This reduced (i.e., some rows of data ignored in line 3, some columns ignored in line 4) dataset has a pipe operator at the end signifying that the output thusfar will be used as the input for the next line of code.\n",
        "\n",
        "5) \" rename(beer = beer_servings, spirit = spirit_servings, wine = wine_servings) \": Here, the rename() function is change the column names of the specified variables into the newly designated column names (e.g., beer-servings is changed to beer).\n",
        "\n",
        "End Result: Notice in the output from the data wrangling, we only see 4 rows (countries), the 4 selected columns, and the column names are simple. It is cleaned!\n"
      ],
      "metadata": {
        "id": "I00RAsn4za3A"
      }
    },
    {
      "cell_type": "markdown",
      "source": [
        "# Tidy the 'drinks' data\n",
        "\n",
        "In R, to 'tidy' the data means to put it into a format that is usable in the types of analyses and visualizations we want to complete. We have clear formatting rules that we want to include in our 'tidy' data:\n",
        "\n",
        "1) Each *variable* (e.g., country is a variable) is represented as a single column.\n",
        "\n",
        "2) Each *observation* (e.g., USA is an observation of country) is represented as a single row.\n",
        "\n",
        "Let's think about this 'drinks' data object, we have three types of variables:\n",
        "\n",
        "1) The *categorical* variable of COUNTRY (e.g., USA, Italy).\n",
        "\n",
        "2) The *categorical* variable of beverage type (i.e., beer, wine, and spirit).\n",
        "\n",
        "3) The *numeric* variable of beverage servings (e.g., 42 servings).\n",
        "\n",
        "However, the actual dataset does not have a column for beverage type nor a column for beverage servings!"
      ],
      "metadata": {
        "id": "IBc2Xk_u2IM9"
      }
    },
    {
      "cell_type": "markdown",
      "source": [
        "## The pivot_longer() function to tidy\n",
        "\n",
        "Right now, the categorical beverage type (beer, wine, spirit) is crossed with the numeric number of servings. The goal of the pivot_longer() function is to separate these intermingled variables into their own separate columns.\n",
        "\n",
        "This pivot_longer() function is hard to use so let's describe the arguments in it.\n",
        "\n",
        "- names_to: We are converting *some categorical variable* to be its own column. **This argument specifies the name of a new _categorical_ variable (column) we are creating**.\n",
        "\n",
        "- values_to: Recall that we have beverage servings separated across the multiple beverage type columns. **This argument specifies the the name of a new _numeric_ variable (column) we are creating**.\n",
        "\n",
        "- cols: **This argument specifies which current columns are going to be converted into the 'tidy' format**."
      ],
      "metadata": {
        "id": "6BA3YALU2QPs"
      }
    },
    {
      "cell_type": "markdown",
      "source": [
        "## Applying the pivot_longer() function\n",
        "\n",
        "Because we will use this 'tidy' data in later analyses/visualizations, let's create another object to save our tidy-ing.\n",
        "\n",
        "Note that the c() function is **c**ombining those three values (i.e., beer, spirit, wine) to be interpreted as one big input for the cols argument."
      ],
      "metadata": {
        "id": "NXBucglz2Ucy"
      }
    },
    {
      "cell_type": "code",
      "source": [
        "## Convert our dataset to the tidy version\n",
        "drinks_tidy <-\n",
        "  drinks_smaller %>%\n",
        "  pivot_longer(names_to = \"type\",\n",
        "               values_to = \"servings\",\n",
        "               cols = c(beer, spirit, wine))\n",
        "\n",
        "## View the first several rows of the new tidy data\n",
        "head(drinks_tidy)"
      ],
      "metadata": {
        "colab": {
          "base_uri": "https://localhost:8080/",
          "height": 286
        },
        "id": "gkknv4OW2Vu7",
        "outputId": "79c25c35-4a5e-4c60-88cc-c7eccb09683a"
      },
      "execution_count": 7,
      "outputs": [
        {
          "output_type": "display_data",
          "data": {
            "text/html": [
              "<table class=\"dataframe\">\n",
              "<caption>A tibble: 6 × 3</caption>\n",
              "<thead>\n",
              "\t<tr><th scope=col>country</th><th scope=col>type</th><th scope=col>servings</th></tr>\n",
              "\t<tr><th scope=col>&lt;chr&gt;</th><th scope=col>&lt;chr&gt;</th><th scope=col>&lt;int&gt;</th></tr>\n",
              "</thead>\n",
              "<tbody>\n",
              "\t<tr><td>China</td><td>beer  </td><td> 79</td></tr>\n",
              "\t<tr><td>China</td><td>spirit</td><td>192</td></tr>\n",
              "\t<tr><td>China</td><td>wine  </td><td>  8</td></tr>\n",
              "\t<tr><td>Italy</td><td>beer  </td><td> 85</td></tr>\n",
              "\t<tr><td>Italy</td><td>spirit</td><td> 42</td></tr>\n",
              "\t<tr><td>Italy</td><td>wine  </td><td>237</td></tr>\n",
              "</tbody>\n",
              "</table>\n"
            ],
            "text/markdown": "\nA tibble: 6 × 3\n\n| country &lt;chr&gt; | type &lt;chr&gt; | servings &lt;int&gt; |\n|---|---|---|\n| China | beer   |  79 |\n| China | spirit | 192 |\n| China | wine   |   8 |\n| Italy | beer   |  85 |\n| Italy | spirit |  42 |\n| Italy | wine   | 237 |\n\n",
            "text/latex": "A tibble: 6 × 3\n\\begin{tabular}{lll}\n country & type & servings\\\\\n <chr> & <chr> & <int>\\\\\n\\hline\n\t China & beer   &  79\\\\\n\t China & spirit & 192\\\\\n\t China & wine   &   8\\\\\n\t Italy & beer   &  85\\\\\n\t Italy & spirit &  42\\\\\n\t Italy & wine   & 237\\\\\n\\end{tabular}\n",
            "text/plain": [
              "  country type   servings\n",
              "1 China   beer    79     \n",
              "2 China   spirit 192     \n",
              "3 China   wine     8     \n",
              "4 Italy   beer    85     \n",
              "5 Italy   spirit  42     \n",
              "6 Italy   wine   237     "
            ]
          },
          "metadata": {}
        }
      ]
    },
    {
      "cell_type": "markdown",
      "source": [
        "## Bar graph of country beverage consumption\n",
        "\n",
        "From these tidy data, where each column is a distinct variable, we can more easily analyze the data and visualize it. Let's do just that!\n",
        "\n",
        "The bar graph we want should have the following features:\n",
        "\n",
        "1) The *country* variable is located on the x-axis\n",
        "\n",
        "2) The number of *servings* of beverage consumption is located on the y-axis\n",
        "\n",
        "3) There are separate (grouped) bars based on the *type* of beverage\n",
        "\n",
        "In the aesthetics function, the 'fill' argument is essentially mapping our 3rd variable as separate bars for each country."
      ],
      "metadata": {
        "id": "aj2lN7Rh2r0M"
      }
    },
    {
      "cell_type": "code",
      "source": [
        "## Bar graph of the country, beverage, and servings\n",
        "ggplot(data = drinks_tidy, mapping = aes(x = country, y = servings, fill = type)) +\n",
        "  geom_col(position = \"dodge\") +\n",
        "  theme_bw()"
      ],
      "metadata": {
        "colab": {
          "base_uri": "https://localhost:8080/",
          "height": 437
        },
        "id": "NN1Drkxs2tWD",
        "outputId": "5f8ff3a7-8ad9-436b-d7ce-773a9dd3d165"
      },
      "execution_count": 8,
      "outputs": [
        {
          "output_type": "display_data",
          "data": {
            "text/plain": [
              "plot without title"
            ],
            "image/png": "[encoded data removed]"
          },
          "metadata": {
            "image/png": {
              "width": 420,
              "height": 420
            }
          }
        }
      ]
    },
    {
      "cell_type": "markdown",
      "source": [
        "## Alcohol consumption by country\n",
        "\n",
        "Now that our data are cleaned and we created a visualization, we can interpret our dataset. These data suggest that alcohol consumption is not created equal. Italy and the USA have similar levels of alcohol consumption but Italy greatly prefers wine and USA greatly prefers beer. China drinks low volumes of wine but more spirits than the other 3. Saudia Arabia, a country abiding by religious tenants that forbid alcohol, unsurprisingly consumes few servings of alcohol."
      ],
      "metadata": {
        "id": "edXWF5wE274G"
      }
    },
    {
      "cell_type": "markdown",
      "source": [
        "# Tidy another dataset\n",
        "\n",
        "Practice makes perfect so let's try to convert our 'dem_score' dataset to a tidy format.\n"
      ],
      "metadata": {
        "id": "S7xnTUEz2yXO"
      }
    },
    {
      "cell_type": "markdown",
      "source": [
        "## The central research question\n",
        "\n",
        "We don't just wrangle data mindlessly, we have goals in mind for needing to wrangle and tidy data!\n",
        "\n",
        "The question:\n",
        "\n",
        "**How has the democracy score for Nicaragua and Guatemala changed across time?**"
      ],
      "metadata": {
        "id": "jzGAu9te3uCV"
      }
    },
    {
      "cell_type": "markdown",
      "source": [
        "## The data structure\n",
        "\n",
        "Before we wrangle and tidy the data, let's see what our data look like"
      ],
      "metadata": {
        "id": "GgDZGX3P3xgD"
      }
    },
    {
      "cell_type": "code",
      "source": [
        "## Load in the data that are stored on a specific website\n",
        "dem_score <- read_csv(\"https://moderndive.com/data/dem_score.csv\")\n",
        "\n",
        "## See the first few rows of the dataset\n",
        "head(dem_score)"
      ],
      "metadata": {
        "colab": {
          "base_uri": "https://localhost:8080/",
          "height": 425
        },
        "id": "A4aBqaLD3ts3",
        "outputId": "06b7b47b-acbe-47d0-8d2c-709442e26873"
      },
      "execution_count": 10,
      "outputs": [
        {
          "output_type": "stream",
          "name": "stderr",
          "text": [
            "\u001b[1mRows: \u001b[22m\u001b[34m96\u001b[39m \u001b[1mColumns: \u001b[22m\u001b[34m10\u001b[39m\n",
            "\u001b[36m──\u001b[39m \u001b[1mColumn specification\u001b[22m \u001b[36m────────────────────────────────────────────────────────\u001b[39m\n",
            "\u001b[1mDelimiter:\u001b[22m \",\"\n",
            "\u001b[31mchr\u001b[39m (1): country\n",
            "\u001b[32mdbl\u001b[39m (9): 1952, 1957, 1962, 1967, 1972, 1977, 1982, 1987, 1992\n",
            "\n",
            "\u001b[36mℹ\u001b[39m Use `spec()` to retrieve the full column specification for this data.\n",
            "\u001b[36mℹ\u001b[39m Specify the column types or set `show_col_types = FALSE` to quiet this message.\n"
          ]
        },
        {
          "output_type": "display_data",
          "data": {
            "text/html": [
              "<table class=\"dataframe\">\n",
              "<caption>A tibble: 6 × 10</caption>\n",
              "<thead>\n",
              "\t<tr><th scope=col>country</th><th scope=col>1952</th><th scope=col>1957</th><th scope=col>1962</th><th scope=col>1967</th><th scope=col>1972</th><th scope=col>1977</th><th scope=col>1982</th><th scope=col>1987</th><th scope=col>1992</th></tr>\n",
              "\t<tr><th scope=col>&lt;chr&gt;</th><th scope=col>&lt;dbl&gt;</th><th scope=col>&lt;dbl&gt;</th><th scope=col>&lt;dbl&gt;</th><th scope=col>&lt;dbl&gt;</th><th scope=col>&lt;dbl&gt;</th><th scope=col>&lt;dbl&gt;</th><th scope=col>&lt;dbl&gt;</th><th scope=col>&lt;dbl&gt;</th><th scope=col>&lt;dbl&gt;</th></tr>\n",
              "</thead>\n",
              "<tbody>\n",
              "\t<tr><td>Albania   </td><td>-9</td><td>-9</td><td>-9</td><td>-9</td><td>-9</td><td>-9</td><td>-9</td><td>-9</td><td> 5</td></tr>\n",
              "\t<tr><td>Argentina </td><td>-9</td><td>-1</td><td>-1</td><td>-9</td><td>-9</td><td>-9</td><td>-8</td><td> 8</td><td> 7</td></tr>\n",
              "\t<tr><td>Armenia   </td><td>-9</td><td>-7</td><td>-7</td><td>-7</td><td>-7</td><td>-7</td><td>-7</td><td>-7</td><td> 7</td></tr>\n",
              "\t<tr><td>Australia </td><td>10</td><td>10</td><td>10</td><td>10</td><td>10</td><td>10</td><td>10</td><td>10</td><td>10</td></tr>\n",
              "\t<tr><td>Austria   </td><td>10</td><td>10</td><td>10</td><td>10</td><td>10</td><td>10</td><td>10</td><td>10</td><td>10</td></tr>\n",
              "\t<tr><td>Azerbaijan</td><td>-9</td><td>-7</td><td>-7</td><td>-7</td><td>-7</td><td>-7</td><td>-7</td><td>-7</td><td> 1</td></tr>\n",
              "</tbody>\n",
              "</table>\n"
            ],
            "text/markdown": "\nA tibble: 6 × 10\n\n| country &lt;chr&gt; | 1952 &lt;dbl&gt; | 1957 &lt;dbl&gt; | 1962 &lt;dbl&gt; | 1967 &lt;dbl&gt; | 1972 &lt;dbl&gt; | 1977 &lt;dbl&gt; | 1982 &lt;dbl&gt; | 1987 &lt;dbl&gt; | 1992 &lt;dbl&gt; |\n|---|---|---|---|---|---|---|---|---|---|\n| Albania    | -9 | -9 | -9 | -9 | -9 | -9 | -9 | -9 |  5 |\n| Argentina  | -9 | -1 | -1 | -9 | -9 | -9 | -8 |  8 |  7 |\n| Armenia    | -9 | -7 | -7 | -7 | -7 | -7 | -7 | -7 |  7 |\n| Australia  | 10 | 10 | 10 | 10 | 10 | 10 | 10 | 10 | 10 |\n| Austria    | 10 | 10 | 10 | 10 | 10 | 10 | 10 | 10 | 10 |\n| Azerbaijan | -9 | -7 | -7 | -7 | -7 | -7 | -7 | -7 |  1 |\n\n",
            "text/latex": "A tibble: 6 × 10\n\\begin{tabular}{llllllllll}\n country & 1952 & 1957 & 1962 & 1967 & 1972 & 1977 & 1982 & 1987 & 1992\\\\\n <chr> & <dbl> & <dbl> & <dbl> & <dbl> & <dbl> & <dbl> & <dbl> & <dbl> & <dbl>\\\\\n\\hline\n\t Albania    & -9 & -9 & -9 & -9 & -9 & -9 & -9 & -9 &  5\\\\\n\t Argentina  & -9 & -1 & -1 & -9 & -9 & -9 & -8 &  8 &  7\\\\\n\t Armenia    & -9 & -7 & -7 & -7 & -7 & -7 & -7 & -7 &  7\\\\\n\t Australia  & 10 & 10 & 10 & 10 & 10 & 10 & 10 & 10 & 10\\\\\n\t Austria    & 10 & 10 & 10 & 10 & 10 & 10 & 10 & 10 & 10\\\\\n\t Azerbaijan & -9 & -7 & -7 & -7 & -7 & -7 & -7 & -7 &  1\\\\\n\\end{tabular}\n",
            "text/plain": [
              "  country    1952 1957 1962 1967 1972 1977 1982 1987 1992\n",
              "1 Albania    -9   -9   -9   -9   -9   -9   -9   -9    5  \n",
              "2 Argentina  -9   -1   -1   -9   -9   -9   -8    8    7  \n",
              "3 Armenia    -9   -7   -7   -7   -7   -7   -7   -7    7  \n",
              "4 Australia  10   10   10   10   10   10   10   10   10  \n",
              "5 Austria    10   10   10   10   10   10   10   10   10  \n",
              "6 Azerbaijan -9   -7   -7   -7   -7   -7   -7   -7    1  "
            ]
          },
          "metadata": {}
        }
      ]
    },
    {
      "cell_type": "markdown",
      "source": [
        "The data have a few things included:\n",
        "\n",
        "- A *categorical* country variable\n",
        "\n",
        "- A *numeric* year, which is currently across separate columns (uh oh)\n",
        "\n",
        "- A *numeric* democracy score, which is currently spread out across years (uh oh)\n",
        "\n",
        "As we can see, there are two things we wish to change:\n",
        "\n",
        "1) Create a 'year' variable as its own column\n",
        "\n",
        "2) Create a 'democracy_score' variable as its own column"
      ],
      "metadata": {
        "id": "g7lBj1qw355g"
      }
    },
    {
      "cell_type": "markdown",
      "source": [
        "## Wrangle and tidy the data\n",
        "\n",
        "We have many countries in our data so let's only include the two countries of interest: Nicaragua and Guatemala"
      ],
      "metadata": {
        "id": "Ply9yk-Z38tZ"
      }
    },
    {
      "cell_type": "code",
      "source": [
        "## Filter the rows to only include 2 countries\n",
        "dem_clean <-\n",
        "  dem_score %>%\n",
        "  filter(country == \"Nicaragua\" | country == \"Guatemala\")\n",
        "\n",
        "## See the first few rows of the dataset to see if we were successful\n",
        "head(dem_clean)"
      ],
      "metadata": {
        "colab": {
          "base_uri": "https://localhost:8080/",
          "height": 160
        },
        "id": "UPscUbNs3-Om",
        "outputId": "6a6ed604-5859-46eb-fc01-5320e4d9e50a"
      },
      "execution_count": 11,
      "outputs": [
        {
          "output_type": "display_data",
          "data": {
            "text/html": [
              "<table class=\"dataframe\">\n",
              "<caption>A tibble: 2 × 10</caption>\n",
              "<thead>\n",
              "\t<tr><th scope=col>country</th><th scope=col>1952</th><th scope=col>1957</th><th scope=col>1962</th><th scope=col>1967</th><th scope=col>1972</th><th scope=col>1977</th><th scope=col>1982</th><th scope=col>1987</th><th scope=col>1992</th></tr>\n",
              "\t<tr><th scope=col>&lt;chr&gt;</th><th scope=col>&lt;dbl&gt;</th><th scope=col>&lt;dbl&gt;</th><th scope=col>&lt;dbl&gt;</th><th scope=col>&lt;dbl&gt;</th><th scope=col>&lt;dbl&gt;</th><th scope=col>&lt;dbl&gt;</th><th scope=col>&lt;dbl&gt;</th><th scope=col>&lt;dbl&gt;</th><th scope=col>&lt;dbl&gt;</th></tr>\n",
              "</thead>\n",
              "<tbody>\n",
              "\t<tr><td>Guatemala</td><td> 2</td><td>-6</td><td>-5</td><td> 3</td><td> 1</td><td>-3</td><td>-7</td><td> 3</td><td>3</td></tr>\n",
              "\t<tr><td>Nicaragua</td><td>-8</td><td>-8</td><td>-8</td><td>-8</td><td>-8</td><td>-8</td><td>-5</td><td>-1</td><td>6</td></tr>\n",
              "</tbody>\n",
              "</table>\n"
            ],
            "text/markdown": "\nA tibble: 2 × 10\n\n| country &lt;chr&gt; | 1952 &lt;dbl&gt; | 1957 &lt;dbl&gt; | 1962 &lt;dbl&gt; | 1967 &lt;dbl&gt; | 1972 &lt;dbl&gt; | 1977 &lt;dbl&gt; | 1982 &lt;dbl&gt; | 1987 &lt;dbl&gt; | 1992 &lt;dbl&gt; |\n|---|---|---|---|---|---|---|---|---|---|\n| Guatemala |  2 | -6 | -5 |  3 |  1 | -3 | -7 |  3 | 3 |\n| Nicaragua | -8 | -8 | -8 | -8 | -8 | -8 | -5 | -1 | 6 |\n\n",
            "text/latex": "A tibble: 2 × 10\n\\begin{tabular}{llllllllll}\n country & 1952 & 1957 & 1962 & 1967 & 1972 & 1977 & 1982 & 1987 & 1992\\\\\n <chr> & <dbl> & <dbl> & <dbl> & <dbl> & <dbl> & <dbl> & <dbl> & <dbl> & <dbl>\\\\\n\\hline\n\t Guatemala &  2 & -6 & -5 &  3 &  1 & -3 & -7 &  3 & 3\\\\\n\t Nicaragua & -8 & -8 & -8 & -8 & -8 & -8 & -5 & -1 & 6\\\\\n\\end{tabular}\n",
            "text/plain": [
              "  country   1952 1957 1962 1967 1972 1977 1982 1987 1992\n",
              "1 Guatemala  2   -6   -5    3    1   -3   -7    3   3   \n",
              "2 Nicaragua -8   -8   -8   -8   -8   -8   -5   -1   6   "
            ]
          },
          "metadata": {}
        }
      ]
    },
    {
      "cell_type": "markdown",
      "source": [
        "These data are mostly easy to tidy, for now we just kept rows in our dataset (using the filter function) where the country variable was either Guatemala or Nicaragua. We removed/ignored the others.\n",
        "\n",
        "Now we can apply the pivot_longer() function to create our two new columns (variables).\n"
      ],
      "metadata": {
        "id": "9stLFY_d3_7J"
      }
    },
    {
      "cell_type": "code",
      "source": [
        "## Convert the data to our tidy format\n",
        "dem_tidy <-\n",
        "  dem_clean %>%\n",
        "  pivot_longer(names_to = \"year\",\n",
        "               values_to = \"democracy_score\",\n",
        "               cols = c('1952', '1957', '1962', '1967', '1972', '1977', '1982', '1987', '1992'))\n",
        "\n",
        "## See the first several rows of the data to see if we were successful\n",
        "head(dem_tidy)\n"
      ],
      "metadata": {
        "colab": {
          "base_uri": "https://localhost:8080/",
          "height": 286
        },
        "id": "FcYNy1sN4VWt",
        "outputId": "614770b7-1bdc-470c-cfc7-2d214cff05a7"
      },
      "execution_count": 13,
      "outputs": [
        {
          "output_type": "display_data",
          "data": {
            "text/html": [
              "<table class=\"dataframe\">\n",
              "<caption>A tibble: 6 × 3</caption>\n",
              "<thead>\n",
              "\t<tr><th scope=col>country</th><th scope=col>year</th><th scope=col>democracy_score</th></tr>\n",
              "\t<tr><th scope=col>&lt;chr&gt;</th><th scope=col>&lt;chr&gt;</th><th scope=col>&lt;dbl&gt;</th></tr>\n",
              "</thead>\n",
              "<tbody>\n",
              "\t<tr><td>Guatemala</td><td>1952</td><td> 2</td></tr>\n",
              "\t<tr><td>Guatemala</td><td>1957</td><td>-6</td></tr>\n",
              "\t<tr><td>Guatemala</td><td>1962</td><td>-5</td></tr>\n",
              "\t<tr><td>Guatemala</td><td>1967</td><td> 3</td></tr>\n",
              "\t<tr><td>Guatemala</td><td>1972</td><td> 1</td></tr>\n",
              "\t<tr><td>Guatemala</td><td>1977</td><td>-3</td></tr>\n",
              "</tbody>\n",
              "</table>\n"
            ],
            "text/markdown": "\nA tibble: 6 × 3\n\n| country &lt;chr&gt; | year &lt;chr&gt; | democracy_score &lt;dbl&gt; |\n|---|---|---|\n| Guatemala | 1952 |  2 |\n| Guatemala | 1957 | -6 |\n| Guatemala | 1962 | -5 |\n| Guatemala | 1967 |  3 |\n| Guatemala | 1972 |  1 |\n| Guatemala | 1977 | -3 |\n\n",
            "text/latex": "A tibble: 6 × 3\n\\begin{tabular}{lll}\n country & year & democracy\\_score\\\\\n <chr> & <chr> & <dbl>\\\\\n\\hline\n\t Guatemala & 1952 &  2\\\\\n\t Guatemala & 1957 & -6\\\\\n\t Guatemala & 1962 & -5\\\\\n\t Guatemala & 1967 &  3\\\\\n\t Guatemala & 1972 &  1\\\\\n\t Guatemala & 1977 & -3\\\\\n\\end{tabular}\n",
            "text/plain": [
              "  country   year democracy_score\n",
              "1 Guatemala 1952  2             \n",
              "2 Guatemala 1957 -6             \n",
              "3 Guatemala 1962 -5             \n",
              "4 Guatemala 1967  3             \n",
              "5 Guatemala 1972  1             \n",
              "6 Guatemala 1977 -3             "
            ]
          },
          "metadata": {}
        }
      ]
    },
    {
      "cell_type": "markdown",
      "source": [
        "## Explaining the pivot_longer() code\n",
        "\n",
        "Okay, let's break down these lines of R code:\n",
        "\n",
        "**Line 1**: `dem_tidy <-`\n",
        "\n",
        "- `dem_tidy`: This part creates a new variable (or object, more accurately in R) called d`em_tidy`. Think of it like a container where you're about to store the results of your data manipulation.\n",
        "\n",
        "- `<-`: This is the assignment operator in R. It takes whatever is calculated on the right side of the arrow and stores it into the variable on the left side (in this case, dem_tidy).\n",
        "\n",
        "**Line 2**: `dem_clean %>%`\n",
        "\n",
        "- `dem_clean`: This is assumed to be an existing data frame (like a table) that you've created or loaded earlier in your code.\n",
        "- `%>%`: This is the pipe operator. It takes the output of the previous step (dem_clean) and \"pipes\" it as the input to the next step (pivot_longer). It's a way to chain operations together for cleaner code.\n",
        "\n",
        "**Lines 3-6**: `pivot_longer(...)`\n",
        "\n",
        "This is the core of the code. It's using the pivot_longer function from the tidyr package in R to reshape the data from wide format to long format.\n",
        "\n",
        "- `names_to = \"year\"`: This argument tells pivot_longer to create a new column called \"year\". The values in this column will be taken from the column names of the original data that you specify in the cols argument.\n",
        "\n",
        "- `values_to = \"democracy_score\"`: This argument tells pivot_longer to create another new column called \"democracy_score\". The values in this column will be the actual data from the cells in the original data frame that correspond to the year and country.\n",
        "\n",
        "- `cols = c('1952', '1957', ..., '1992')`: This is where you specify the columns in dem_clean that you want to \"unpivot\" or reshape. In this case, it's the columns representing the years from 1952 to 1992. The `c()` function is used to create a vector containing these year values.\n",
        "\n",
        "**In simpler terms**:\n",
        "\n",
        "Imagine you have a spreadsheet where each row is a country, and you have separate columns for the democracy score in each year (1952, 1957, etc.). This code takes that \"wide\" data and transforms it into a \"long\" format. In the long format, you'll have:\n",
        "\n",
        "A column for \"country\" (which was already there).\n",
        "A column for \"year\" (created from the old column names).\n",
        "A column for \"democracy_score\" (containing the actual scores)."
      ],
      "metadata": {
        "id": "Tq6AMY334dnl"
      }
    },
    {
      "cell_type": "markdown",
      "source": [
        "## Visualize the change in democracy: Line graph\n",
        "\n",
        "We can now use our wrangled and tidy data to create a simple visualization to answer our central question: How has the democracy score for Nicaragua and Guatemala changed over time?\n"
      ],
      "metadata": {
        "id": "F-qzUrcp5mMV"
      }
    },
    {
      "cell_type": "code",
      "source": [
        "ggplot(data = dem_tidy, mapping = aes(x = year, y = democracy_score,\n",
        "                                      group = country, linetype = country)) +\n",
        "  geom_line() +\n",
        "  theme_bw()"
      ],
      "metadata": {
        "colab": {
          "base_uri": "https://localhost:8080/",
          "height": 437
        },
        "id": "NNXTHEYc4nQy",
        "outputId": "c2d61f84-2057-4cbd-92f6-2468d890ab00"
      },
      "execution_count": 14,
      "outputs": [
        {
          "output_type": "display_data",
          "data": {
            "text/plain": [
              "plot without title"
            ],
            "image/png": "[encoded data removed]"
          },
          "metadata": {
            "image/png": {
              "width": 420,
              "height": 420
            }
          }
        }
      ]
    },
    {
      "cell_type": "markdown",
      "source": [
        "## Answering the central question: Democracy scores across time\n",
        "\n",
        "Recall our central question with this dataset:\n",
        "\n",
        "**How has the democracy score for Nicaragua and Guatemala changed across time?**\n",
        "\n",
        "Based on the line graph, Guatemala has seen high volatility in its Democracy score between 1952 and 1992. Nicaragua has a very different trajectory, they began and stayed at a very low Democracy score but skyrocketed after 1977."
      ],
      "metadata": {
        "id": "LMa31hdJ5qV3"
      }
    }
  ]
}