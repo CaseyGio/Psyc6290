{
  "nbformat": 4,
  "nbformat_minor": 0,
  "metadata": {
    "colab": {
      "provenance": []
    },
    "kernelspec": {
      "name": "ir",
      "display_name": "R"
    },
    "language_info": {
      "name": "R"
    }
  },
  "cells": [
    {
      "cell_type": "markdown",
      "source": [
        "# Change runtime type to R\n",
        "\n",
        "Remember, the first step when opening a Google Colab notebook is to change the runtime type to R from Python. Our code will not work otherwise!"
      ],
      "metadata": {
        "id": "BVqZRDZHxsce"
      }
    },
    {
      "cell_type": "markdown",
      "source": [
        "# Research questions\n",
        "\n",
        "We work at a textiles factory and are asked to evaluate experimental results from testing new types of wool and tension levels in the loom. Try to answer the following questions:\n",
        "\n",
        "1) Which wool type tends to have the *fewest* breaks?\n",
        "\n",
        "2) Which tension level tends to have the *most* breaks?"
      ],
      "metadata": {
        "id": "nwAGjyVm9LuL"
      }
    },
    {
      "cell_type": "markdown",
      "source": [
        "# Q1) Load the packages for this activity\n",
        "\n",
        "Load the following packages today:\n",
        "\n",
        "- dplyr (if using the `%>%` pipe operator)\n",
        "\n",
        "- easystats (install this one first)\n",
        "\n",
        "- ggplot2 (creating graphs)\n",
        "\n",
        "- readr (using the `read_csv()` function)"
      ],
      "metadata": {
        "id": "NRLL84aN4m1f"
      }
    },
    {
      "cell_type": "code",
      "source": [
        "## Install packages if needed\n",
        "\n",
        "\n",
        "## Load the packages\n"
      ],
      "metadata": {
        "id": "nvDDXClN45yG"
      },
      "execution_count": null,
      "outputs": []
    },
    {
      "cell_type": "markdown",
      "source": [
        "# The dataset\n",
        "\n",
        "The data for located in R already, the `warpbreaks` dataset. These data include the following variables:\n",
        "\n",
        "1) **breaks**: The numeric value specifying the number of yarn breaks.\n",
        "\n",
        "2) **wool**: Categorical variable specifying whether the wool is type A or B.\n",
        "\n",
        "3) **tension**: Categorical variable specifying the amount of tension wherein values are either \"L\" (low), \"M\" (medium), or \"H\" (high)."
      ],
      "metadata": {
        "id": "J_yajXgp5MDG"
      }
    },
    {
      "cell_type": "code",
      "execution_count": null,
      "metadata": {
        "id": "59-6ol32xnDT"
      },
      "outputs": [],
      "source": [
        "## See the first several rows of data\n",
        "head(warpbreaks, n = 10)"
      ]
    },
    {
      "cell_type": "markdown",
      "source": [
        "# Q2) Convert character vectors to be factors\n",
        "\n",
        "Create a new object and convert the `wool` and `tension` variables to be factors in R. It is useful to print the data object after data wrangling to make sure we made the correct changes.\n",
        "\n",
        "NOTE: These variables were already specified as factors in R, we just need to practice doing this for our assignment."
      ],
      "metadata": {
        "id": "DY1FKH5_8YQg"
      }
    },
    {
      "cell_type": "code",
      "source": [
        "## Convert to factor, create object\n",
        "\n",
        "## Show the cleaned data\n"
      ],
      "metadata": {
        "id": "AGZNOBUJ8oEk"
      },
      "execution_count": null,
      "outputs": []
    },
    {
      "cell_type": "markdown",
      "source": [
        "# Q3) Find the average number of breaks across (a) each wool type and (b) each tension level.\n",
        "\n",
        "Show the descriptive statistics for yarn breaks across the two categorical variables. Specifically, we will need at least two separate lines of code to show within-wool average breakages and within-tension average breakages."
      ],
      "metadata": {
        "id": "86XhVPCo9FE-"
      }
    },
    {
      "cell_type": "code",
      "source": [
        "## Calculate average breaks across wool type\n"
      ],
      "metadata": {
        "id": "w3aEnZQC-c3m"
      },
      "execution_count": null,
      "outputs": []
    },
    {
      "cell_type": "code",
      "source": [
        "## Calculate avg breaks in tension levels\n"
      ],
      "metadata": {
        "id": "HJzDghAg-swu"
      },
      "execution_count": null,
      "outputs": []
    },
    {
      "cell_type": "markdown",
      "source": [
        "# Q4) Create two comparative boxplots to visualize the descriptive statistics of Q3 above.\n",
        "\n",
        "In other words, create one boxplot to show (a) average number of breaks within each wool type and a separate boxplot to show (b) average number of breaks within each tension level.\n",
        "\n",
        "Make sure to add axis labels and a title. Review the Research Questions to inform you which variables will go on the x-axis and what the outcome variable is to go on the y-axis."
      ],
      "metadata": {
        "id": "DlrbCVBe-wos"
      }
    },
    {
      "cell_type": "code",
      "source": [
        "## Create boxplots\n"
      ],
      "metadata": {
        "id": "Cg2BsHpz_MO-"
      },
      "execution_count": null,
      "outputs": []
    },
    {
      "cell_type": "code",
      "source": [
        "## Comparing perf acros work shifts\n"
      ],
      "metadata": {
        "id": "2W61UdOM_yZ9"
      },
      "execution_count": null,
      "outputs": []
    },
    {
      "cell_type": "markdown",
      "source": [
        "# Q5) Estimate a regression model to answer RQ1.\n",
        "\n",
        "The first research question is the following:\n",
        "\n",
        "1) Which wool type tends to have the *fewest* breaks?\n",
        "\n",
        "Estimate a regression model to answer this question."
      ],
      "metadata": {
        "id": "N79hOoBs_4Y5"
      }
    },
    {
      "cell_type": "code",
      "source": [
        "## estimate linear model\n"
      ],
      "metadata": {
        "id": "H6xut4A_AU_f"
      },
      "execution_count": null,
      "outputs": []
    },
    {
      "cell_type": "markdown",
      "source": [
        "# Q6) In words, write out our fully estimated regression equation and interpret what estimated values (slopes and/or intercepts) mean in terms of yarn breaks.\n",
        "\n",
        "Write the full regression equation, including the estimated slope/intercept values in place of the index terms (e.g., put the actual intercept value instead of 'b0').\n",
        "\n",
        "General regression equation: y = b0 + b1 * x\n",
        "\n",
        "**6a) Estimated regression equation:** ....\n",
        "\n",
        "**6b) Interpret the intercept term:** ....\n",
        "\n",
        "**6c) Interpret the remaining term(s):** ......"
      ],
      "metadata": {
        "id": "dtc_OaR9Abnb"
      }
    },
    {
      "cell_type": "markdown",
      "source": [
        "# Q7) Estimate a regression model to answer RQ2\n",
        "\n",
        "The second research question is the following:\n",
        "\n",
        "2) Which tension level tends to have the *most* breaks?\n",
        "\n",
        "Estimate a regression model to answer this question."
      ],
      "metadata": {
        "id": "TdvabsOLBk_P"
      }
    },
    {
      "cell_type": "code",
      "source": [
        "## Estimate linear model\n"
      ],
      "metadata": {
        "id": "x9wRPhakB2cd"
      },
      "execution_count": null,
      "outputs": []
    },
    {
      "cell_type": "markdown",
      "source": [
        "# Q8) In words, write out our fully estimated regression equation and interpret what estimated values (slopes and/or intercepts) mean in terms of yarn breaks.\n",
        "\n",
        "Write the full regression equation, including the estimated slope/intercept values in place of the index terms (e.g., put the actual intercept value instead of 'b0').\n",
        "\n",
        "General regression equation: y = b0 + b1 * x\n",
        "\n",
        "**8a) Estimated regression equation:** ....\n",
        "\n",
        "**8b) Interpret the intercept term:** ....\n",
        "\n",
        "**8c) Interpret the remaining term(s):** ......"
      ],
      "metadata": {
        "id": "Rwv-csy0B-y7"
      }
    }
  ]
}
